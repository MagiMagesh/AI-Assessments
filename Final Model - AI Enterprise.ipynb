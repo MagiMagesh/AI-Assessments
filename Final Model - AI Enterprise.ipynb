{
 "cells": [
  {
   "cell_type": "markdown",
   "id": "ccfd24bf",
   "metadata": {},
   "source": [
    "### Reading Labels and Features"
   ]
  },
  {
   "cell_type": "code",
   "execution_count": 4,
   "id": "64f9ed74",
   "metadata": {},
   "outputs": [],
   "source": [
    "import pandas as pd\n",
    "import numpy as np\n",
    "features = pd.read_csv('features.csv')\n",
    "labels = pd.read_csv('labels.csv')\n"
   ]
  },
  {
   "cell_type": "code",
   "execution_count": 5,
   "id": "a15ee2f8",
   "metadata": {},
   "outputs": [],
   "source": [
    "features = features.dropna()"
   ]
  },
  {
   "cell_type": "code",
   "execution_count": 6,
   "id": "5c118175",
   "metadata": {},
   "outputs": [
    {
     "data": {
      "text/plain": [
       "trackID     0\n",
       "title       0\n",
       "tags        0\n",
       "loudness    0\n",
       "tempo       0\n",
       "           ..\n",
       "vect_144    0\n",
       "vect_145    0\n",
       "vect_146    0\n",
       "vect_147    0\n",
       "vect_148    0\n",
       "Length: 157, dtype: int64"
      ]
     },
     "execution_count": 6,
     "metadata": {},
     "output_type": "execute_result"
    }
   ],
   "source": [
    "features.isnull().sum()"
   ]
  },
  {
   "cell_type": "code",
   "execution_count": 7,
   "id": "5668f1ba",
   "metadata": {},
   "outputs": [
    {
     "data": {
      "text/html": [
       "<div>\n",
       "<style scoped>\n",
       "    .dataframe tbody tr th:only-of-type {\n",
       "        vertical-align: middle;\n",
       "    }\n",
       "\n",
       "    .dataframe tbody tr th {\n",
       "        vertical-align: top;\n",
       "    }\n",
       "\n",
       "    .dataframe thead th {\n",
       "        text-align: right;\n",
       "    }\n",
       "</style>\n",
       "<table border=\"1\" class=\"dataframe\">\n",
       "  <thead>\n",
       "    <tr style=\"text-align: right;\">\n",
       "      <th></th>\n",
       "      <th>trackID</th>\n",
       "      <th>title</th>\n",
       "      <th>tags</th>\n",
       "      <th>loudness</th>\n",
       "      <th>tempo</th>\n",
       "      <th>time_signature</th>\n",
       "      <th>key</th>\n",
       "      <th>mode</th>\n",
       "      <th>duration</th>\n",
       "      <th>vect_1</th>\n",
       "      <th>...</th>\n",
       "      <th>vect_139</th>\n",
       "      <th>vect_140</th>\n",
       "      <th>vect_141</th>\n",
       "      <th>vect_142</th>\n",
       "      <th>vect_143</th>\n",
       "      <th>vect_144</th>\n",
       "      <th>vect_145</th>\n",
       "      <th>vect_146</th>\n",
       "      <th>vect_147</th>\n",
       "      <th>vect_148</th>\n",
       "    </tr>\n",
       "  </thead>\n",
       "  <tbody>\n",
       "    <tr>\n",
       "      <th>0</th>\n",
       "      <td>6732</td>\n",
       "      <td>You Get What You Give</td>\n",
       "      <td>i, the, you, to, and, a, me, it, not, in, is, ...</td>\n",
       "      <td>-5.672</td>\n",
       "      <td>113.941</td>\n",
       "      <td>4</td>\n",
       "      <td>2</td>\n",
       "      <td>1</td>\n",
       "      <td>300.82567</td>\n",
       "      <td>49.707499</td>\n",
       "      <td>...</td>\n",
       "      <td>0.000628</td>\n",
       "      <td>0.000660</td>\n",
       "      <td>0.000660</td>\n",
       "      <td>0.000667</td>\n",
       "      <td>0.000615</td>\n",
       "      <td>0.000582</td>\n",
       "      <td>0.000534</td>\n",
       "      <td>0.000476</td>\n",
       "      <td>0.21001</td>\n",
       "      <td>1.392651</td>\n",
       "    </tr>\n",
       "    <tr>\n",
       "      <th>1</th>\n",
       "      <td>5415</td>\n",
       "      <td>Greedee</td>\n",
       "      <td>i, the, you, to, and, a, me, it, not, in, my, ...</td>\n",
       "      <td>-7.931</td>\n",
       "      <td>102.062</td>\n",
       "      <td>4</td>\n",
       "      <td>11</td>\n",
       "      <td>1</td>\n",
       "      <td>259.60444</td>\n",
       "      <td>46.829729</td>\n",
       "      <td>...</td>\n",
       "      <td>0.000414</td>\n",
       "      <td>0.000423</td>\n",
       "      <td>0.000428</td>\n",
       "      <td>0.000432</td>\n",
       "      <td>0.000416</td>\n",
       "      <td>0.000389</td>\n",
       "      <td>0.000359</td>\n",
       "      <td>0.000331</td>\n",
       "      <td>0.12408</td>\n",
       "      <td>0.604772</td>\n",
       "    </tr>\n",
       "  </tbody>\n",
       "</table>\n",
       "<p>2 rows × 157 columns</p>\n",
       "</div>"
      ],
      "text/plain": [
       "   trackID                  title  \\\n",
       "0     6732  You Get What You Give   \n",
       "1     5415                Greedee   \n",
       "\n",
       "                                                tags  loudness    tempo  \\\n",
       "0  i, the, you, to, and, a, me, it, not, in, is, ...    -5.672  113.941   \n",
       "1  i, the, you, to, and, a, me, it, not, in, my, ...    -7.931  102.062   \n",
       "\n",
       "   time_signature  key  mode   duration     vect_1  ...  vect_139  vect_140  \\\n",
       "0               4    2     1  300.82567  49.707499  ...  0.000628  0.000660   \n",
       "1               4   11     1  259.60444  46.829729  ...  0.000414  0.000423   \n",
       "\n",
       "   vect_141  vect_142  vect_143  vect_144  vect_145  vect_146  vect_147  \\\n",
       "0  0.000660  0.000667  0.000615  0.000582  0.000534  0.000476   0.21001   \n",
       "1  0.000428  0.000432  0.000416  0.000389  0.000359  0.000331   0.12408   \n",
       "\n",
       "   vect_148  \n",
       "0  1.392651  \n",
       "1  0.604772  \n",
       "\n",
       "[2 rows x 157 columns]"
      ]
     },
     "execution_count": 7,
     "metadata": {},
     "output_type": "execute_result"
    }
   ],
   "source": [
    "test = pd.read_csv('test.csv')\n",
    "test.head(2)"
   ]
  },
  {
   "cell_type": "code",
   "execution_count": 8,
   "id": "54947119",
   "metadata": {},
   "outputs": [
    {
     "data": {
      "text/html": [
       "<div>\n",
       "<style scoped>\n",
       "    .dataframe tbody tr th:only-of-type {\n",
       "        vertical-align: middle;\n",
       "    }\n",
       "\n",
       "    .dataframe tbody tr th {\n",
       "        vertical-align: top;\n",
       "    }\n",
       "\n",
       "    .dataframe thead th {\n",
       "        text-align: right;\n",
       "    }\n",
       "</style>\n",
       "<table border=\"1\" class=\"dataframe\">\n",
       "  <thead>\n",
       "    <tr style=\"text-align: right;\">\n",
       "      <th></th>\n",
       "      <th>trackID</th>\n",
       "      <th>genre</th>\n",
       "    </tr>\n",
       "  </thead>\n",
       "  <tbody>\n",
       "    <tr>\n",
       "      <th>0</th>\n",
       "      <td>8424</td>\n",
       "      <td>metal</td>\n",
       "    </tr>\n",
       "    <tr>\n",
       "      <th>1</th>\n",
       "      <td>7923</td>\n",
       "      <td>folk</td>\n",
       "    </tr>\n",
       "    <tr>\n",
       "      <th>2</th>\n",
       "      <td>2314</td>\n",
       "      <td>folk</td>\n",
       "    </tr>\n",
       "    <tr>\n",
       "      <th>3</th>\n",
       "      <td>810</td>\n",
       "      <td>jazz and blues</td>\n",
       "    </tr>\n",
       "    <tr>\n",
       "      <th>4</th>\n",
       "      <td>439</td>\n",
       "      <td>folk</td>\n",
       "    </tr>\n",
       "    <tr>\n",
       "      <th>...</th>\n",
       "      <td>...</td>\n",
       "      <td>...</td>\n",
       "    </tr>\n",
       "    <tr>\n",
       "      <th>8123</th>\n",
       "      <td>2255</td>\n",
       "      <td>dance and electronica</td>\n",
       "    </tr>\n",
       "    <tr>\n",
       "      <th>8124</th>\n",
       "      <td>6859</td>\n",
       "      <td>metal</td>\n",
       "    </tr>\n",
       "    <tr>\n",
       "      <th>8125</th>\n",
       "      <td>7911</td>\n",
       "      <td>soul and reggae</td>\n",
       "    </tr>\n",
       "    <tr>\n",
       "      <th>8126</th>\n",
       "      <td>3182</td>\n",
       "      <td>jazz and blues</td>\n",
       "    </tr>\n",
       "    <tr>\n",
       "      <th>8127</th>\n",
       "      <td>1002</td>\n",
       "      <td>metal</td>\n",
       "    </tr>\n",
       "  </tbody>\n",
       "</table>\n",
       "<p>8128 rows × 2 columns</p>\n",
       "</div>"
      ],
      "text/plain": [
       "      trackID                  genre\n",
       "0        8424                  metal\n",
       "1        7923                   folk\n",
       "2        2314                   folk\n",
       "3         810         jazz and blues\n",
       "4         439                   folk\n",
       "...       ...                    ...\n",
       "8123     2255  dance and electronica\n",
       "8124     6859                  metal\n",
       "8125     7911        soul and reggae\n",
       "8126     3182         jazz and blues\n",
       "8127     1002                  metal\n",
       "\n",
       "[8128 rows x 2 columns]"
      ]
     },
     "execution_count": 8,
     "metadata": {},
     "output_type": "execute_result"
    }
   ],
   "source": [
    "labels.dropna()"
   ]
  },
  {
   "cell_type": "code",
   "execution_count": 9,
   "id": "65d040da",
   "metadata": {},
   "outputs": [
    {
     "data": {
      "text/plain": [
       "trackID    0\n",
       "genre      0\n",
       "dtype: int64"
      ]
     },
     "execution_count": 9,
     "metadata": {},
     "output_type": "execute_result"
    }
   ],
   "source": [
    "labels.isnull().sum()"
   ]
  },
  {
   "cell_type": "markdown",
   "id": "f51a39a0",
   "metadata": {},
   "source": [
    "### Enumerating the Labes with Features"
   ]
  },
  {
   "cell_type": "code",
   "execution_count": 10,
   "id": "8e66d248",
   "metadata": {},
   "outputs": [
    {
     "data": {
      "text/plain": [
       "Index(['jazz and blues', 'dance and electronica', 'pop', 'punk',\n",
       "       'soul and reggae', 'metal', 'folk', 'classic pop and rock'],\n",
       "      dtype='object')"
      ]
     },
     "execution_count": 10,
     "metadata": {},
     "output_type": "execute_result"
    }
   ],
   "source": [
    "val = labels['genre'].value_counts().sort_values().index\n",
    "val"
   ]
  },
  {
   "cell_type": "code",
   "execution_count": 11,
   "id": "60860d66",
   "metadata": {},
   "outputs": [
    {
     "data": {
      "text/plain": [
       "{'jazz and blues': 0,\n",
       " 'dance and electronica': 1,\n",
       " 'pop': 2,\n",
       " 'punk': 3,\n",
       " 'soul and reggae': 4,\n",
       " 'metal': 5,\n",
       " 'folk': 6,\n",
       " 'classic pop and rock': 7}"
      ]
     },
     "execution_count": 11,
     "metadata": {},
     "output_type": "execute_result"
    }
   ],
   "source": [
    "codi = {k:i for i,k in enumerate(val,0)}\n",
    "codi"
   ]
  },
  {
   "cell_type": "code",
   "execution_count": 12,
   "id": "190f32b6",
   "metadata": {},
   "outputs": [],
   "source": [
    "labels['mapping'] = labels['genre'].map(codi)"
   ]
  },
  {
   "cell_type": "markdown",
   "id": "f60c735f",
   "metadata": {},
   "source": [
    "### Ordinal Encoding based on the population"
   ]
  },
  {
   "cell_type": "code",
   "execution_count": 13,
   "id": "f9941c28",
   "metadata": {},
   "outputs": [
    {
     "data": {
      "text/html": [
       "<div>\n",
       "<style scoped>\n",
       "    .dataframe tbody tr th:only-of-type {\n",
       "        vertical-align: middle;\n",
       "    }\n",
       "\n",
       "    .dataframe tbody tr th {\n",
       "        vertical-align: top;\n",
       "    }\n",
       "\n",
       "    .dataframe thead th {\n",
       "        text-align: right;\n",
       "    }\n",
       "</style>\n",
       "<table border=\"1\" class=\"dataframe\">\n",
       "  <thead>\n",
       "    <tr style=\"text-align: right;\">\n",
       "      <th></th>\n",
       "      <th>trackID</th>\n",
       "      <th>genre</th>\n",
       "      <th>mapping</th>\n",
       "    </tr>\n",
       "  </thead>\n",
       "  <tbody>\n",
       "    <tr>\n",
       "      <th>0</th>\n",
       "      <td>8424</td>\n",
       "      <td>metal</td>\n",
       "      <td>5</td>\n",
       "    </tr>\n",
       "    <tr>\n",
       "      <th>1</th>\n",
       "      <td>7923</td>\n",
       "      <td>folk</td>\n",
       "      <td>6</td>\n",
       "    </tr>\n",
       "    <tr>\n",
       "      <th>2</th>\n",
       "      <td>2314</td>\n",
       "      <td>folk</td>\n",
       "      <td>6</td>\n",
       "    </tr>\n",
       "    <tr>\n",
       "      <th>3</th>\n",
       "      <td>810</td>\n",
       "      <td>jazz and blues</td>\n",
       "      <td>0</td>\n",
       "    </tr>\n",
       "    <tr>\n",
       "      <th>4</th>\n",
       "      <td>439</td>\n",
       "      <td>folk</td>\n",
       "      <td>6</td>\n",
       "    </tr>\n",
       "    <tr>\n",
       "      <th>...</th>\n",
       "      <td>...</td>\n",
       "      <td>...</td>\n",
       "      <td>...</td>\n",
       "    </tr>\n",
       "    <tr>\n",
       "      <th>8123</th>\n",
       "      <td>2255</td>\n",
       "      <td>dance and electronica</td>\n",
       "      <td>1</td>\n",
       "    </tr>\n",
       "    <tr>\n",
       "      <th>8124</th>\n",
       "      <td>6859</td>\n",
       "      <td>metal</td>\n",
       "      <td>5</td>\n",
       "    </tr>\n",
       "    <tr>\n",
       "      <th>8125</th>\n",
       "      <td>7911</td>\n",
       "      <td>soul and reggae</td>\n",
       "      <td>4</td>\n",
       "    </tr>\n",
       "    <tr>\n",
       "      <th>8126</th>\n",
       "      <td>3182</td>\n",
       "      <td>jazz and blues</td>\n",
       "      <td>0</td>\n",
       "    </tr>\n",
       "    <tr>\n",
       "      <th>8127</th>\n",
       "      <td>1002</td>\n",
       "      <td>metal</td>\n",
       "      <td>5</td>\n",
       "    </tr>\n",
       "  </tbody>\n",
       "</table>\n",
       "<p>8128 rows × 3 columns</p>\n",
       "</div>"
      ],
      "text/plain": [
       "      trackID                  genre  mapping\n",
       "0        8424                  metal        5\n",
       "1        7923                   folk        6\n",
       "2        2314                   folk        6\n",
       "3         810         jazz and blues        0\n",
       "4         439                   folk        6\n",
       "...       ...                    ...      ...\n",
       "8123     2255  dance and electronica        1\n",
       "8124     6859                  metal        5\n",
       "8125     7911        soul and reggae        4\n",
       "8126     3182         jazz and blues        0\n",
       "8127     1002                  metal        5\n",
       "\n",
       "[8128 rows x 3 columns]"
      ]
     },
     "execution_count": 13,
     "metadata": {},
     "output_type": "execute_result"
    }
   ],
   "source": [
    "labels"
   ]
  },
  {
   "cell_type": "code",
   "execution_count": 14,
   "id": "b6337c80",
   "metadata": {},
   "outputs": [],
   "source": [
    "labels = labels.drop(['genre'],axis=1)"
   ]
  },
  {
   "cell_type": "code",
   "execution_count": 15,
   "id": "18ae2935",
   "metadata": {},
   "outputs": [
    {
     "data": {
      "text/plain": [
       "trackID    0\n",
       "mapping    0\n",
       "dtype: int64"
      ]
     },
     "execution_count": 15,
     "metadata": {},
     "output_type": "execute_result"
    }
   ],
   "source": [
    "labels.isnull().sum()"
   ]
  },
  {
   "cell_type": "code",
   "execution_count": 16,
   "id": "7bc5fb1b",
   "metadata": {},
   "outputs": [
    {
     "data": {
      "text/plain": [
       "trackID     0\n",
       "title       0\n",
       "tags        0\n",
       "loudness    0\n",
       "tempo       0\n",
       "           ..\n",
       "vect_144    0\n",
       "vect_145    0\n",
       "vect_146    0\n",
       "vect_147    0\n",
       "vect_148    0\n",
       "Length: 157, dtype: int64"
      ]
     },
     "execution_count": 16,
     "metadata": {},
     "output_type": "execute_result"
    }
   ],
   "source": [
    "features.isnull().sum()"
   ]
  },
  {
   "cell_type": "code",
   "execution_count": 17,
   "id": "6da9cd4c",
   "metadata": {},
   "outputs": [
    {
     "data": {
      "text/html": [
       "<div>\n",
       "<style scoped>\n",
       "    .dataframe tbody tr th:only-of-type {\n",
       "        vertical-align: middle;\n",
       "    }\n",
       "\n",
       "    .dataframe tbody tr th {\n",
       "        vertical-align: top;\n",
       "    }\n",
       "\n",
       "    .dataframe thead th {\n",
       "        text-align: right;\n",
       "    }\n",
       "</style>\n",
       "<table border=\"1\" class=\"dataframe\">\n",
       "  <thead>\n",
       "    <tr style=\"text-align: right;\">\n",
       "      <th></th>\n",
       "      <th>trackID</th>\n",
       "      <th>title</th>\n",
       "      <th>tags</th>\n",
       "      <th>loudness</th>\n",
       "      <th>tempo</th>\n",
       "      <th>time_signature</th>\n",
       "      <th>key</th>\n",
       "      <th>mode</th>\n",
       "      <th>duration</th>\n",
       "      <th>vect_1</th>\n",
       "      <th>...</th>\n",
       "      <th>vect_139</th>\n",
       "      <th>vect_140</th>\n",
       "      <th>vect_141</th>\n",
       "      <th>vect_142</th>\n",
       "      <th>vect_143</th>\n",
       "      <th>vect_144</th>\n",
       "      <th>vect_145</th>\n",
       "      <th>vect_146</th>\n",
       "      <th>vect_147</th>\n",
       "      <th>vect_148</th>\n",
       "    </tr>\n",
       "  </thead>\n",
       "  <tbody>\n",
       "    <tr>\n",
       "      <th>0</th>\n",
       "      <td>6654</td>\n",
       "      <td>Beside the Yellow Line</td>\n",
       "      <td>i, the, to, and, a, me, it, not, in, my, is, o...</td>\n",
       "      <td>-8.539</td>\n",
       "      <td>104.341</td>\n",
       "      <td>3.0</td>\n",
       "      <td>7.0</td>\n",
       "      <td>1.0</td>\n",
       "      <td>298.73587</td>\n",
       "      <td>44.462048</td>\n",
       "      <td>...</td>\n",
       "      <td>0.000308</td>\n",
       "      <td>0.000302</td>\n",
       "      <td>0.000302</td>\n",
       "      <td>0.000315</td>\n",
       "      <td>0.000297</td>\n",
       "      <td>0.000305</td>\n",
       "      <td>0.000266</td>\n",
       "      <td>0.000225</td>\n",
       "      <td>0.130826</td>\n",
       "      <td>1.071914</td>\n",
       "    </tr>\n",
       "    <tr>\n",
       "      <th>2</th>\n",
       "      <td>3424</td>\n",
       "      <td>Calabria 2008</td>\n",
       "      <td>i, the, you, to, and, a, me, it, not, in, of, ...</td>\n",
       "      <td>-9.637</td>\n",
       "      <td>126.003</td>\n",
       "      <td>4.0</td>\n",
       "      <td>10.0</td>\n",
       "      <td>0.0</td>\n",
       "      <td>412.94322</td>\n",
       "      <td>40.376622</td>\n",
       "      <td>...</td>\n",
       "      <td>0.000951</td>\n",
       "      <td>0.001039</td>\n",
       "      <td>0.001116</td>\n",
       "      <td>0.001166</td>\n",
       "      <td>0.001159</td>\n",
       "      <td>0.001110</td>\n",
       "      <td>0.001015</td>\n",
       "      <td>0.000895</td>\n",
       "      <td>0.116206</td>\n",
       "      <td>0.306846</td>\n",
       "    </tr>\n",
       "    <tr>\n",
       "      <th>3</th>\n",
       "      <td>5434</td>\n",
       "      <td>Verbal Abuse (Just an American Band)</td>\n",
       "      <td>i, you, to, and, a, me, it, not, my, is, your,...</td>\n",
       "      <td>-10.969</td>\n",
       "      <td>197.625</td>\n",
       "      <td>4.0</td>\n",
       "      <td>2.0</td>\n",
       "      <td>1.0</td>\n",
       "      <td>64.78322</td>\n",
       "      <td>45.598532</td>\n",
       "      <td>...</td>\n",
       "      <td>0.000233</td>\n",
       "      <td>0.000284</td>\n",
       "      <td>0.000313</td>\n",
       "      <td>0.000325</td>\n",
       "      <td>0.000324</td>\n",
       "      <td>0.000299</td>\n",
       "      <td>0.000273</td>\n",
       "      <td>0.000236</td>\n",
       "      <td>0.163738</td>\n",
       "      <td>1.247803</td>\n",
       "    </tr>\n",
       "    <tr>\n",
       "      <th>4</th>\n",
       "      <td>516</td>\n",
       "      <td>Helen Of Troy</td>\n",
       "      <td>i, the, to, a, me, it, not, in, is, your, we, ...</td>\n",
       "      <td>-5.369</td>\n",
       "      <td>170.008</td>\n",
       "      <td>4.0</td>\n",
       "      <td>0.0</td>\n",
       "      <td>1.0</td>\n",
       "      <td>191.97342</td>\n",
       "      <td>47.159148</td>\n",
       "      <td>...</td>\n",
       "      <td>0.000853</td>\n",
       "      <td>0.000927</td>\n",
       "      <td>0.000994</td>\n",
       "      <td>0.001037</td>\n",
       "      <td>0.001051</td>\n",
       "      <td>0.001011</td>\n",
       "      <td>0.000962</td>\n",
       "      <td>0.000898</td>\n",
       "      <td>0.108193</td>\n",
       "      <td>0.366419</td>\n",
       "    </tr>\n",
       "    <tr>\n",
       "      <th>5</th>\n",
       "      <td>4906</td>\n",
       "      <td>Only Him Or Me - Original</td>\n",
       "      <td>i, the, you, to, and, a, me, it, not, in, is, ...</td>\n",
       "      <td>-16.516</td>\n",
       "      <td>142.254</td>\n",
       "      <td>5.0</td>\n",
       "      <td>4.0</td>\n",
       "      <td>1.0</td>\n",
       "      <td>146.75546</td>\n",
       "      <td>36.712606</td>\n",
       "      <td>...</td>\n",
       "      <td>0.000109</td>\n",
       "      <td>0.000130</td>\n",
       "      <td>0.000132</td>\n",
       "      <td>0.000124</td>\n",
       "      <td>0.000117</td>\n",
       "      <td>0.000109</td>\n",
       "      <td>0.000107</td>\n",
       "      <td>0.000114</td>\n",
       "      <td>0.131246</td>\n",
       "      <td>0.693531</td>\n",
       "    </tr>\n",
       "  </tbody>\n",
       "</table>\n",
       "<p>5 rows × 157 columns</p>\n",
       "</div>"
      ],
      "text/plain": [
       "   trackID                                 title  \\\n",
       "0     6654                Beside the Yellow Line   \n",
       "2     3424                         Calabria 2008   \n",
       "3     5434  Verbal Abuse (Just an American Band)   \n",
       "4      516                         Helen Of Troy   \n",
       "5     4906             Only Him Or Me - Original   \n",
       "\n",
       "                                                tags  loudness    tempo  \\\n",
       "0  i, the, to, and, a, me, it, not, in, my, is, o...    -8.539  104.341   \n",
       "2  i, the, you, to, and, a, me, it, not, in, of, ...    -9.637  126.003   \n",
       "3  i, you, to, and, a, me, it, not, my, is, your,...   -10.969  197.625   \n",
       "4  i, the, to, a, me, it, not, in, is, your, we, ...    -5.369  170.008   \n",
       "5  i, the, you, to, and, a, me, it, not, in, is, ...   -16.516  142.254   \n",
       "\n",
       "   time_signature   key  mode   duration     vect_1  ...  vect_139  vect_140  \\\n",
       "0             3.0   7.0   1.0  298.73587  44.462048  ...  0.000308  0.000302   \n",
       "2             4.0  10.0   0.0  412.94322  40.376622  ...  0.000951  0.001039   \n",
       "3             4.0   2.0   1.0   64.78322  45.598532  ...  0.000233  0.000284   \n",
       "4             4.0   0.0   1.0  191.97342  47.159148  ...  0.000853  0.000927   \n",
       "5             5.0   4.0   1.0  146.75546  36.712606  ...  0.000109  0.000130   \n",
       "\n",
       "   vect_141  vect_142  vect_143  vect_144  vect_145  vect_146  vect_147  \\\n",
       "0  0.000302  0.000315  0.000297  0.000305  0.000266  0.000225  0.130826   \n",
       "2  0.001116  0.001166  0.001159  0.001110  0.001015  0.000895  0.116206   \n",
       "3  0.000313  0.000325  0.000324  0.000299  0.000273  0.000236  0.163738   \n",
       "4  0.000994  0.001037  0.001051  0.001011  0.000962  0.000898  0.108193   \n",
       "5  0.000132  0.000124  0.000117  0.000109  0.000107  0.000114  0.131246   \n",
       "\n",
       "   vect_148  \n",
       "0  1.071914  \n",
       "2  0.306846  \n",
       "3  1.247803  \n",
       "4  0.366419  \n",
       "5  0.693531  \n",
       "\n",
       "[5 rows x 157 columns]"
      ]
     },
     "execution_count": 17,
     "metadata": {},
     "output_type": "execute_result"
    }
   ],
   "source": [
    "features.dropna().head()"
   ]
  },
  {
   "cell_type": "code",
   "execution_count": 18,
   "id": "4e74632c",
   "metadata": {},
   "outputs": [
    {
     "data": {
      "text/plain": [
       "trackID     0\n",
       "title       0\n",
       "tags        0\n",
       "loudness    0\n",
       "tempo       0\n",
       "           ..\n",
       "vect_144    0\n",
       "vect_145    0\n",
       "vect_146    0\n",
       "vect_147    0\n",
       "vect_148    0\n",
       "Length: 157, dtype: int64"
      ]
     },
     "execution_count": 18,
     "metadata": {},
     "output_type": "execute_result"
    }
   ],
   "source": [
    "features.isnull().sum()"
   ]
  },
  {
   "cell_type": "code",
   "execution_count": 19,
   "id": "e3052795",
   "metadata": {},
   "outputs": [
    {
     "data": {
      "text/html": [
       "<div>\n",
       "<style scoped>\n",
       "    .dataframe tbody tr th:only-of-type {\n",
       "        vertical-align: middle;\n",
       "    }\n",
       "\n",
       "    .dataframe tbody tr th {\n",
       "        vertical-align: top;\n",
       "    }\n",
       "\n",
       "    .dataframe thead th {\n",
       "        text-align: right;\n",
       "    }\n",
       "</style>\n",
       "<table border=\"1\" class=\"dataframe\">\n",
       "  <thead>\n",
       "    <tr style=\"text-align: right;\">\n",
       "      <th></th>\n",
       "      <th>trackID</th>\n",
       "      <th>loudness</th>\n",
       "      <th>tempo</th>\n",
       "      <th>time_signature</th>\n",
       "      <th>key</th>\n",
       "      <th>mode</th>\n",
       "      <th>duration</th>\n",
       "      <th>vect_1</th>\n",
       "      <th>vect_2</th>\n",
       "      <th>vect_3</th>\n",
       "      <th>...</th>\n",
       "      <th>vect_139</th>\n",
       "      <th>vect_140</th>\n",
       "      <th>vect_141</th>\n",
       "      <th>vect_142</th>\n",
       "      <th>vect_143</th>\n",
       "      <th>vect_144</th>\n",
       "      <th>vect_145</th>\n",
       "      <th>vect_146</th>\n",
       "      <th>vect_147</th>\n",
       "      <th>vect_148</th>\n",
       "    </tr>\n",
       "  </thead>\n",
       "  <tbody>\n",
       "    <tr>\n",
       "      <th>0</th>\n",
       "      <td>6654</td>\n",
       "      <td>-8.539</td>\n",
       "      <td>104.341</td>\n",
       "      <td>3.0</td>\n",
       "      <td>7.0</td>\n",
       "      <td>1.0</td>\n",
       "      <td>298.73587</td>\n",
       "      <td>44.462048</td>\n",
       "      <td>-13.499814</td>\n",
       "      <td>26.257028</td>\n",
       "      <td>...</td>\n",
       "      <td>0.000308</td>\n",
       "      <td>0.000302</td>\n",
       "      <td>0.000302</td>\n",
       "      <td>0.000315</td>\n",
       "      <td>0.000297</td>\n",
       "      <td>0.000305</td>\n",
       "      <td>0.000266</td>\n",
       "      <td>0.000225</td>\n",
       "      <td>0.130826</td>\n",
       "      <td>1.071914</td>\n",
       "    </tr>\n",
       "    <tr>\n",
       "      <th>2</th>\n",
       "      <td>3424</td>\n",
       "      <td>-9.637</td>\n",
       "      <td>126.003</td>\n",
       "      <td>4.0</td>\n",
       "      <td>10.0</td>\n",
       "      <td>0.0</td>\n",
       "      <td>412.94322</td>\n",
       "      <td>40.376622</td>\n",
       "      <td>27.546188</td>\n",
       "      <td>-24.231226</td>\n",
       "      <td>...</td>\n",
       "      <td>0.000951</td>\n",
       "      <td>0.001039</td>\n",
       "      <td>0.001116</td>\n",
       "      <td>0.001166</td>\n",
       "      <td>0.001159</td>\n",
       "      <td>0.001110</td>\n",
       "      <td>0.001015</td>\n",
       "      <td>0.000895</td>\n",
       "      <td>0.116206</td>\n",
       "      <td>0.306846</td>\n",
       "    </tr>\n",
       "    <tr>\n",
       "      <th>3</th>\n",
       "      <td>5434</td>\n",
       "      <td>-10.969</td>\n",
       "      <td>197.625</td>\n",
       "      <td>4.0</td>\n",
       "      <td>2.0</td>\n",
       "      <td>1.0</td>\n",
       "      <td>64.78322</td>\n",
       "      <td>45.598532</td>\n",
       "      <td>10.249509</td>\n",
       "      <td>52.666606</td>\n",
       "      <td>...</td>\n",
       "      <td>0.000233</td>\n",
       "      <td>0.000284</td>\n",
       "      <td>0.000313</td>\n",
       "      <td>0.000325</td>\n",
       "      <td>0.000324</td>\n",
       "      <td>0.000299</td>\n",
       "      <td>0.000273</td>\n",
       "      <td>0.000236</td>\n",
       "      <td>0.163738</td>\n",
       "      <td>1.247803</td>\n",
       "    </tr>\n",
       "    <tr>\n",
       "      <th>4</th>\n",
       "      <td>516</td>\n",
       "      <td>-5.369</td>\n",
       "      <td>170.008</td>\n",
       "      <td>4.0</td>\n",
       "      <td>0.0</td>\n",
       "      <td>1.0</td>\n",
       "      <td>191.97342</td>\n",
       "      <td>47.159148</td>\n",
       "      <td>-52.070941</td>\n",
       "      <td>18.232822</td>\n",
       "      <td>...</td>\n",
       "      <td>0.000853</td>\n",
       "      <td>0.000927</td>\n",
       "      <td>0.000994</td>\n",
       "      <td>0.001037</td>\n",
       "      <td>0.001051</td>\n",
       "      <td>0.001011</td>\n",
       "      <td>0.000962</td>\n",
       "      <td>0.000898</td>\n",
       "      <td>0.108193</td>\n",
       "      <td>0.366419</td>\n",
       "    </tr>\n",
       "    <tr>\n",
       "      <th>5</th>\n",
       "      <td>4906</td>\n",
       "      <td>-16.516</td>\n",
       "      <td>142.254</td>\n",
       "      <td>5.0</td>\n",
       "      <td>4.0</td>\n",
       "      <td>1.0</td>\n",
       "      <td>146.75546</td>\n",
       "      <td>36.712606</td>\n",
       "      <td>-1.896533</td>\n",
       "      <td>3.454569</td>\n",
       "      <td>...</td>\n",
       "      <td>0.000109</td>\n",
       "      <td>0.000130</td>\n",
       "      <td>0.000132</td>\n",
       "      <td>0.000124</td>\n",
       "      <td>0.000117</td>\n",
       "      <td>0.000109</td>\n",
       "      <td>0.000107</td>\n",
       "      <td>0.000114</td>\n",
       "      <td>0.131246</td>\n",
       "      <td>0.693531</td>\n",
       "    </tr>\n",
       "  </tbody>\n",
       "</table>\n",
       "<p>5 rows × 155 columns</p>\n",
       "</div>"
      ],
      "text/plain": [
       "   trackID  loudness    tempo  time_signature   key  mode   duration  \\\n",
       "0     6654    -8.539  104.341             3.0   7.0   1.0  298.73587   \n",
       "2     3424    -9.637  126.003             4.0  10.0   0.0  412.94322   \n",
       "3     5434   -10.969  197.625             4.0   2.0   1.0   64.78322   \n",
       "4      516    -5.369  170.008             4.0   0.0   1.0  191.97342   \n",
       "5     4906   -16.516  142.254             5.0   4.0   1.0  146.75546   \n",
       "\n",
       "      vect_1     vect_2     vect_3  ...  vect_139  vect_140  vect_141  \\\n",
       "0  44.462048 -13.499814  26.257028  ...  0.000308  0.000302  0.000302   \n",
       "2  40.376622  27.546188 -24.231226  ...  0.000951  0.001039  0.001116   \n",
       "3  45.598532  10.249509  52.666606  ...  0.000233  0.000284  0.000313   \n",
       "4  47.159148 -52.070941  18.232822  ...  0.000853  0.000927  0.000994   \n",
       "5  36.712606  -1.896533   3.454569  ...  0.000109  0.000130  0.000132   \n",
       "\n",
       "   vect_142  vect_143  vect_144  vect_145  vect_146  vect_147  vect_148  \n",
       "0  0.000315  0.000297  0.000305  0.000266  0.000225  0.130826  1.071914  \n",
       "2  0.001166  0.001159  0.001110  0.001015  0.000895  0.116206  0.306846  \n",
       "3  0.000325  0.000324  0.000299  0.000273  0.000236  0.163738  1.247803  \n",
       "4  0.001037  0.001051  0.001011  0.000962  0.000898  0.108193  0.366419  \n",
       "5  0.000124  0.000117  0.000109  0.000107  0.000114  0.131246  0.693531  \n",
       "\n",
       "[5 rows x 155 columns]"
      ]
     },
     "execution_count": 19,
     "metadata": {},
     "output_type": "execute_result"
    }
   ],
   "source": [
    "features = features.drop(['title','tags'],axis=1)\n",
    "features.head()"
   ]
  },
  {
   "cell_type": "markdown",
   "id": "5e075223",
   "metadata": {},
   "source": [
    "### Merging the label files with Features using #Outer so the common colum trackID matches with the genre(i.e)mapping column"
   ]
  },
  {
   "cell_type": "code",
   "execution_count": 20,
   "id": "0c393e58",
   "metadata": {},
   "outputs": [],
   "source": [
    "df = pd.merge(features,labels,how='outer')"
   ]
  },
  {
   "cell_type": "code",
   "execution_count": 21,
   "id": "9af88b94",
   "metadata": {},
   "outputs": [],
   "source": [
    "df = df.dropna()"
   ]
  },
  {
   "cell_type": "code",
   "execution_count": 22,
   "id": "9ad4f2d7",
   "metadata": {},
   "outputs": [
    {
     "data": {
      "text/plain": [
       "trackID           0\n",
       "loudness          0\n",
       "tempo             0\n",
       "time_signature    0\n",
       "key               0\n",
       "                 ..\n",
       "vect_145          0\n",
       "vect_146          0\n",
       "vect_147          0\n",
       "vect_148          0\n",
       "mapping           0\n",
       "Length: 156, dtype: int64"
      ]
     },
     "execution_count": 22,
     "metadata": {},
     "output_type": "execute_result"
    }
   ],
   "source": [
    "df.isnull().sum()"
   ]
  },
  {
   "cell_type": "code",
   "execution_count": 23,
   "id": "7d38147c",
   "metadata": {},
   "outputs": [],
   "source": [
    "df['time_signature']=df['time_signature'].astype(int)\n",
    "df['key']=df['key'].astype(int)\n",
    "df['mode']=df['mode'].astype(int)"
   ]
  },
  {
   "cell_type": "code",
   "execution_count": 24,
   "id": "b8a7f4dd",
   "metadata": {},
   "outputs": [
    {
     "data": {
      "text/html": [
       "<div>\n",
       "<style scoped>\n",
       "    .dataframe tbody tr th:only-of-type {\n",
       "        vertical-align: middle;\n",
       "    }\n",
       "\n",
       "    .dataframe tbody tr th {\n",
       "        vertical-align: top;\n",
       "    }\n",
       "\n",
       "    .dataframe thead th {\n",
       "        text-align: right;\n",
       "    }\n",
       "</style>\n",
       "<table border=\"1\" class=\"dataframe\">\n",
       "  <thead>\n",
       "    <tr style=\"text-align: right;\">\n",
       "      <th></th>\n",
       "      <th>trackID</th>\n",
       "      <th>loudness</th>\n",
       "      <th>tempo</th>\n",
       "      <th>time_signature</th>\n",
       "      <th>key</th>\n",
       "      <th>mode</th>\n",
       "      <th>duration</th>\n",
       "      <th>vect_1</th>\n",
       "      <th>vect_2</th>\n",
       "      <th>vect_3</th>\n",
       "      <th>...</th>\n",
       "      <th>vect_140</th>\n",
       "      <th>vect_141</th>\n",
       "      <th>vect_142</th>\n",
       "      <th>vect_143</th>\n",
       "      <th>vect_144</th>\n",
       "      <th>vect_145</th>\n",
       "      <th>vect_146</th>\n",
       "      <th>vect_147</th>\n",
       "      <th>vect_148</th>\n",
       "      <th>mapping</th>\n",
       "    </tr>\n",
       "  </thead>\n",
       "  <tbody>\n",
       "    <tr>\n",
       "      <th>0</th>\n",
       "      <td>6654</td>\n",
       "      <td>-8.539</td>\n",
       "      <td>104.341</td>\n",
       "      <td>3</td>\n",
       "      <td>7</td>\n",
       "      <td>1</td>\n",
       "      <td>298.73587</td>\n",
       "      <td>44.462048</td>\n",
       "      <td>-13.499814</td>\n",
       "      <td>26.257028</td>\n",
       "      <td>...</td>\n",
       "      <td>0.000302</td>\n",
       "      <td>0.000302</td>\n",
       "      <td>0.000315</td>\n",
       "      <td>0.000297</td>\n",
       "      <td>0.000305</td>\n",
       "      <td>0.000266</td>\n",
       "      <td>0.000225</td>\n",
       "      <td>0.130826</td>\n",
       "      <td>1.071914</td>\n",
       "      <td>6</td>\n",
       "    </tr>\n",
       "    <tr>\n",
       "      <th>1</th>\n",
       "      <td>3424</td>\n",
       "      <td>-9.637</td>\n",
       "      <td>126.003</td>\n",
       "      <td>4</td>\n",
       "      <td>10</td>\n",
       "      <td>0</td>\n",
       "      <td>412.94322</td>\n",
       "      <td>40.376622</td>\n",
       "      <td>27.546188</td>\n",
       "      <td>-24.231226</td>\n",
       "      <td>...</td>\n",
       "      <td>0.001039</td>\n",
       "      <td>0.001116</td>\n",
       "      <td>0.001166</td>\n",
       "      <td>0.001159</td>\n",
       "      <td>0.001110</td>\n",
       "      <td>0.001015</td>\n",
       "      <td>0.000895</td>\n",
       "      <td>0.116206</td>\n",
       "      <td>0.306846</td>\n",
       "      <td>4</td>\n",
       "    </tr>\n",
       "  </tbody>\n",
       "</table>\n",
       "<p>2 rows × 156 columns</p>\n",
       "</div>"
      ],
      "text/plain": [
       "   trackID  loudness    tempo  time_signature  key  mode   duration  \\\n",
       "0     6654    -8.539  104.341               3    7     1  298.73587   \n",
       "1     3424    -9.637  126.003               4   10     0  412.94322   \n",
       "\n",
       "      vect_1     vect_2     vect_3  ...  vect_140  vect_141  vect_142  \\\n",
       "0  44.462048 -13.499814  26.257028  ...  0.000302  0.000302  0.000315   \n",
       "1  40.376622  27.546188 -24.231226  ...  0.001039  0.001116  0.001166   \n",
       "\n",
       "   vect_143  vect_144  vect_145  vect_146  vect_147  vect_148  mapping  \n",
       "0  0.000297  0.000305  0.000266  0.000225  0.130826  1.071914        6  \n",
       "1  0.001159  0.001110  0.001015  0.000895  0.116206  0.306846        4  \n",
       "\n",
       "[2 rows x 156 columns]"
      ]
     },
     "execution_count": 24,
     "metadata": {},
     "output_type": "execute_result"
    }
   ],
   "source": [
    "df.head(2)"
   ]
  },
  {
   "cell_type": "markdown",
   "id": "db1320aa",
   "metadata": {},
   "source": [
    "## Seperating Independent & Dependent Variable"
   ]
  },
  {
   "cell_type": "code",
   "execution_count": 30,
   "id": "b059a932",
   "metadata": {},
   "outputs": [
    {
     "data": {
      "text/html": [
       "<div>\n",
       "<style scoped>\n",
       "    .dataframe tbody tr th:only-of-type {\n",
       "        vertical-align: middle;\n",
       "    }\n",
       "\n",
       "    .dataframe tbody tr th {\n",
       "        vertical-align: top;\n",
       "    }\n",
       "\n",
       "    .dataframe thead th {\n",
       "        text-align: right;\n",
       "    }\n",
       "</style>\n",
       "<table border=\"1\" class=\"dataframe\">\n",
       "  <thead>\n",
       "    <tr style=\"text-align: right;\">\n",
       "      <th></th>\n",
       "      <th>trackID</th>\n",
       "      <th>loudness</th>\n",
       "      <th>tempo</th>\n",
       "      <th>time_signature</th>\n",
       "      <th>key</th>\n",
       "      <th>mode</th>\n",
       "      <th>duration</th>\n",
       "      <th>vect_1</th>\n",
       "      <th>vect_2</th>\n",
       "      <th>vect_3</th>\n",
       "      <th>...</th>\n",
       "      <th>vect_139</th>\n",
       "      <th>vect_140</th>\n",
       "      <th>vect_141</th>\n",
       "      <th>vect_142</th>\n",
       "      <th>vect_143</th>\n",
       "      <th>vect_144</th>\n",
       "      <th>vect_145</th>\n",
       "      <th>vect_146</th>\n",
       "      <th>vect_147</th>\n",
       "      <th>vect_148</th>\n",
       "    </tr>\n",
       "  </thead>\n",
       "  <tbody>\n",
       "    <tr>\n",
       "      <th>0</th>\n",
       "      <td>6654</td>\n",
       "      <td>-8.539</td>\n",
       "      <td>104.341</td>\n",
       "      <td>3</td>\n",
       "      <td>7</td>\n",
       "      <td>1</td>\n",
       "      <td>298.73587</td>\n",
       "      <td>44.462048</td>\n",
       "      <td>-13.499814</td>\n",
       "      <td>26.257028</td>\n",
       "      <td>...</td>\n",
       "      <td>0.000308</td>\n",
       "      <td>0.000302</td>\n",
       "      <td>0.000302</td>\n",
       "      <td>0.000315</td>\n",
       "      <td>0.000297</td>\n",
       "      <td>0.000305</td>\n",
       "      <td>0.000266</td>\n",
       "      <td>0.000225</td>\n",
       "      <td>0.130826</td>\n",
       "      <td>1.071914</td>\n",
       "    </tr>\n",
       "    <tr>\n",
       "      <th>1</th>\n",
       "      <td>3424</td>\n",
       "      <td>-9.637</td>\n",
       "      <td>126.003</td>\n",
       "      <td>4</td>\n",
       "      <td>10</td>\n",
       "      <td>0</td>\n",
       "      <td>412.94322</td>\n",
       "      <td>40.376622</td>\n",
       "      <td>27.546188</td>\n",
       "      <td>-24.231226</td>\n",
       "      <td>...</td>\n",
       "      <td>0.000951</td>\n",
       "      <td>0.001039</td>\n",
       "      <td>0.001116</td>\n",
       "      <td>0.001166</td>\n",
       "      <td>0.001159</td>\n",
       "      <td>0.001110</td>\n",
       "      <td>0.001015</td>\n",
       "      <td>0.000895</td>\n",
       "      <td>0.116206</td>\n",
       "      <td>0.306846</td>\n",
       "    </tr>\n",
       "  </tbody>\n",
       "</table>\n",
       "<p>2 rows × 155 columns</p>\n",
       "</div>"
      ],
      "text/plain": [
       "   trackID  loudness    tempo  time_signature  key  mode   duration  \\\n",
       "0     6654    -8.539  104.341               3    7     1  298.73587   \n",
       "1     3424    -9.637  126.003               4   10     0  412.94322   \n",
       "\n",
       "      vect_1     vect_2     vect_3  ...  vect_139  vect_140  vect_141  \\\n",
       "0  44.462048 -13.499814  26.257028  ...  0.000308  0.000302  0.000302   \n",
       "1  40.376622  27.546188 -24.231226  ...  0.000951  0.001039  0.001116   \n",
       "\n",
       "   vect_142  vect_143  vect_144  vect_145  vect_146  vect_147  vect_148  \n",
       "0  0.000315  0.000297  0.000305  0.000266  0.000225  0.130826  1.071914  \n",
       "1  0.001166  0.001159  0.001110  0.001015  0.000895  0.116206  0.306846  \n",
       "\n",
       "[2 rows x 155 columns]"
      ]
     },
     "execution_count": 30,
     "metadata": {},
     "output_type": "execute_result"
    }
   ],
   "source": [
    "X = df.iloc[:,:-1]\n",
    "X.head(2)"
   ]
  },
  {
   "cell_type": "code",
   "execution_count": 32,
   "id": "47448d40",
   "metadata": {},
   "outputs": [
    {
     "data": {
      "text/html": [
       "<div>\n",
       "<style scoped>\n",
       "    .dataframe tbody tr th:only-of-type {\n",
       "        vertical-align: middle;\n",
       "    }\n",
       "\n",
       "    .dataframe tbody tr th {\n",
       "        vertical-align: top;\n",
       "    }\n",
       "\n",
       "    .dataframe thead th {\n",
       "        text-align: right;\n",
       "    }\n",
       "</style>\n",
       "<table border=\"1\" class=\"dataframe\">\n",
       "  <thead>\n",
       "    <tr style=\"text-align: right;\">\n",
       "      <th></th>\n",
       "      <th>trackID</th>\n",
       "      <th>loudness</th>\n",
       "      <th>tempo</th>\n",
       "      <th>time_signature</th>\n",
       "      <th>key</th>\n",
       "      <th>mode</th>\n",
       "      <th>duration</th>\n",
       "      <th>vect_1</th>\n",
       "      <th>vect_2</th>\n",
       "      <th>vect_3</th>\n",
       "      <th>...</th>\n",
       "      <th>vect_139</th>\n",
       "      <th>vect_140</th>\n",
       "      <th>vect_141</th>\n",
       "      <th>vect_142</th>\n",
       "      <th>vect_143</th>\n",
       "      <th>vect_144</th>\n",
       "      <th>vect_145</th>\n",
       "      <th>vect_146</th>\n",
       "      <th>vect_147</th>\n",
       "      <th>vect_148</th>\n",
       "    </tr>\n",
       "  </thead>\n",
       "  <tbody>\n",
       "    <tr>\n",
       "      <th>trackID</th>\n",
       "      <td>1.000000</td>\n",
       "      <td>0.000813</td>\n",
       "      <td>-0.000503</td>\n",
       "      <td>0.005678</td>\n",
       "      <td>0.008797</td>\n",
       "      <td>-0.002368</td>\n",
       "      <td>0.015173</td>\n",
       "      <td>0.002067</td>\n",
       "      <td>-0.005275</td>\n",
       "      <td>-0.014176</td>\n",
       "      <td>...</td>\n",
       "      <td>0.004979</td>\n",
       "      <td>0.006317</td>\n",
       "      <td>0.006864</td>\n",
       "      <td>0.007401</td>\n",
       "      <td>0.006158</td>\n",
       "      <td>0.006199</td>\n",
       "      <td>0.005850</td>\n",
       "      <td>0.001344</td>\n",
       "      <td>-0.006209</td>\n",
       "      <td>-0.007006</td>\n",
       "    </tr>\n",
       "    <tr>\n",
       "      <th>loudness</th>\n",
       "      <td>0.000813</td>\n",
       "      <td>1.000000</td>\n",
       "      <td>0.212182</td>\n",
       "      <td>0.062167</td>\n",
       "      <td>0.041458</td>\n",
       "      <td>-0.085935</td>\n",
       "      <td>0.027205</td>\n",
       "      <td>0.945369</td>\n",
       "      <td>0.589008</td>\n",
       "      <td>0.244755</td>\n",
       "      <td>...</td>\n",
       "      <td>0.459817</td>\n",
       "      <td>0.465079</td>\n",
       "      <td>0.468443</td>\n",
       "      <td>0.473993</td>\n",
       "      <td>0.472882</td>\n",
       "      <td>0.459672</td>\n",
       "      <td>0.446002</td>\n",
       "      <td>0.435145</td>\n",
       "      <td>-0.141821</td>\n",
       "      <td>-0.042218</td>\n",
       "    </tr>\n",
       "    <tr>\n",
       "      <th>tempo</th>\n",
       "      <td>-0.000503</td>\n",
       "      <td>0.212182</td>\n",
       "      <td>1.000000</td>\n",
       "      <td>-0.009329</td>\n",
       "      <td>0.006850</td>\n",
       "      <td>-0.026699</td>\n",
       "      <td>-0.041426</td>\n",
       "      <td>0.250933</td>\n",
       "      <td>0.213562</td>\n",
       "      <td>0.071328</td>\n",
       "      <td>...</td>\n",
       "      <td>0.029086</td>\n",
       "      <td>0.030300</td>\n",
       "      <td>0.034969</td>\n",
       "      <td>0.034714</td>\n",
       "      <td>0.036359</td>\n",
       "      <td>0.032016</td>\n",
       "      <td>0.023989</td>\n",
       "      <td>0.019273</td>\n",
       "      <td>-0.066730</td>\n",
       "      <td>-0.021557</td>\n",
       "    </tr>\n",
       "    <tr>\n",
       "      <th>time_signature</th>\n",
       "      <td>0.005678</td>\n",
       "      <td>0.062167</td>\n",
       "      <td>-0.009329</td>\n",
       "      <td>1.000000</td>\n",
       "      <td>-0.003863</td>\n",
       "      <td>-0.037480</td>\n",
       "      <td>0.111045</td>\n",
       "      <td>0.027062</td>\n",
       "      <td>0.019694</td>\n",
       "      <td>-0.043762</td>\n",
       "      <td>...</td>\n",
       "      <td>0.103034</td>\n",
       "      <td>0.102957</td>\n",
       "      <td>0.105646</td>\n",
       "      <td>0.105726</td>\n",
       "      <td>0.107125</td>\n",
       "      <td>0.104878</td>\n",
       "      <td>0.100323</td>\n",
       "      <td>0.095628</td>\n",
       "      <td>-0.002035</td>\n",
       "      <td>-0.018608</td>\n",
       "    </tr>\n",
       "    <tr>\n",
       "      <th>key</th>\n",
       "      <td>0.008797</td>\n",
       "      <td>0.041458</td>\n",
       "      <td>0.006850</td>\n",
       "      <td>-0.003863</td>\n",
       "      <td>1.000000</td>\n",
       "      <td>-0.161882</td>\n",
       "      <td>0.030159</td>\n",
       "      <td>0.032114</td>\n",
       "      <td>0.035368</td>\n",
       "      <td>-0.012835</td>\n",
       "      <td>...</td>\n",
       "      <td>0.031467</td>\n",
       "      <td>0.028885</td>\n",
       "      <td>0.029698</td>\n",
       "      <td>0.028279</td>\n",
       "      <td>0.027036</td>\n",
       "      <td>0.028378</td>\n",
       "      <td>0.019840</td>\n",
       "      <td>0.023406</td>\n",
       "      <td>-0.006157</td>\n",
       "      <td>-0.005562</td>\n",
       "    </tr>\n",
       "    <tr>\n",
       "      <th>...</th>\n",
       "      <td>...</td>\n",
       "      <td>...</td>\n",
       "      <td>...</td>\n",
       "      <td>...</td>\n",
       "      <td>...</td>\n",
       "      <td>...</td>\n",
       "      <td>...</td>\n",
       "      <td>...</td>\n",
       "      <td>...</td>\n",
       "      <td>...</td>\n",
       "      <td>...</td>\n",
       "      <td>...</td>\n",
       "      <td>...</td>\n",
       "      <td>...</td>\n",
       "      <td>...</td>\n",
       "      <td>...</td>\n",
       "      <td>...</td>\n",
       "      <td>...</td>\n",
       "      <td>...</td>\n",
       "      <td>...</td>\n",
       "      <td>...</td>\n",
       "    </tr>\n",
       "    <tr>\n",
       "      <th>vect_144</th>\n",
       "      <td>0.006199</td>\n",
       "      <td>0.459672</td>\n",
       "      <td>0.032016</td>\n",
       "      <td>0.104878</td>\n",
       "      <td>0.028378</td>\n",
       "      <td>-0.104374</td>\n",
       "      <td>0.063015</td>\n",
       "      <td>0.318372</td>\n",
       "      <td>0.159803</td>\n",
       "      <td>-0.163151</td>\n",
       "      <td>...</td>\n",
       "      <td>0.976873</td>\n",
       "      <td>0.982554</td>\n",
       "      <td>0.988622</td>\n",
       "      <td>0.990526</td>\n",
       "      <td>0.992951</td>\n",
       "      <td>1.000000</td>\n",
       "      <td>0.992042</td>\n",
       "      <td>0.982894</td>\n",
       "      <td>-0.064527</td>\n",
       "      <td>-0.015343</td>\n",
       "    </tr>\n",
       "    <tr>\n",
       "      <th>vect_145</th>\n",
       "      <td>0.005850</td>\n",
       "      <td>0.446002</td>\n",
       "      <td>0.023989</td>\n",
       "      <td>0.100323</td>\n",
       "      <td>0.019840</td>\n",
       "      <td>-0.098028</td>\n",
       "      <td>0.055994</td>\n",
       "      <td>0.305717</td>\n",
       "      <td>0.144377</td>\n",
       "      <td>-0.157368</td>\n",
       "      <td>...</td>\n",
       "      <td>0.974997</td>\n",
       "      <td>0.979704</td>\n",
       "      <td>0.982573</td>\n",
       "      <td>0.982946</td>\n",
       "      <td>0.984965</td>\n",
       "      <td>0.992042</td>\n",
       "      <td>1.000000</td>\n",
       "      <td>0.990588</td>\n",
       "      <td>-0.058607</td>\n",
       "      <td>-0.012288</td>\n",
       "    </tr>\n",
       "    <tr>\n",
       "      <th>vect_146</th>\n",
       "      <td>0.001344</td>\n",
       "      <td>0.435145</td>\n",
       "      <td>0.019273</td>\n",
       "      <td>0.095628</td>\n",
       "      <td>0.023406</td>\n",
       "      <td>-0.093984</td>\n",
       "      <td>0.053292</td>\n",
       "      <td>0.296191</td>\n",
       "      <td>0.135097</td>\n",
       "      <td>-0.158302</td>\n",
       "      <td>...</td>\n",
       "      <td>0.975568</td>\n",
       "      <td>0.975011</td>\n",
       "      <td>0.975887</td>\n",
       "      <td>0.973654</td>\n",
       "      <td>0.974075</td>\n",
       "      <td>0.982894</td>\n",
       "      <td>0.990588</td>\n",
       "      <td>1.000000</td>\n",
       "      <td>-0.063590</td>\n",
       "      <td>-0.012284</td>\n",
       "    </tr>\n",
       "    <tr>\n",
       "      <th>vect_147</th>\n",
       "      <td>-0.006209</td>\n",
       "      <td>-0.141821</td>\n",
       "      <td>-0.066730</td>\n",
       "      <td>-0.002035</td>\n",
       "      <td>-0.006157</td>\n",
       "      <td>-0.024707</td>\n",
       "      <td>-0.058626</td>\n",
       "      <td>-0.205001</td>\n",
       "      <td>-0.102730</td>\n",
       "      <td>0.139575</td>\n",
       "      <td>...</td>\n",
       "      <td>-0.065636</td>\n",
       "      <td>-0.059604</td>\n",
       "      <td>-0.067354</td>\n",
       "      <td>-0.057924</td>\n",
       "      <td>-0.058087</td>\n",
       "      <td>-0.064527</td>\n",
       "      <td>-0.058607</td>\n",
       "      <td>-0.063590</td>\n",
       "      <td>1.000000</td>\n",
       "      <td>0.183172</td>\n",
       "    </tr>\n",
       "    <tr>\n",
       "      <th>vect_148</th>\n",
       "      <td>-0.007006</td>\n",
       "      <td>-0.042218</td>\n",
       "      <td>-0.021557</td>\n",
       "      <td>-0.018608</td>\n",
       "      <td>-0.005562</td>\n",
       "      <td>0.005083</td>\n",
       "      <td>-0.012428</td>\n",
       "      <td>-0.055611</td>\n",
       "      <td>-0.039273</td>\n",
       "      <td>0.015208</td>\n",
       "      <td>...</td>\n",
       "      <td>-0.013932</td>\n",
       "      <td>-0.014906</td>\n",
       "      <td>-0.016414</td>\n",
       "      <td>-0.015413</td>\n",
       "      <td>-0.015209</td>\n",
       "      <td>-0.015343</td>\n",
       "      <td>-0.012288</td>\n",
       "      <td>-0.012284</td>\n",
       "      <td>0.183172</td>\n",
       "      <td>1.000000</td>\n",
       "    </tr>\n",
       "  </tbody>\n",
       "</table>\n",
       "<p>155 rows × 155 columns</p>\n",
       "</div>"
      ],
      "text/plain": [
       "                 trackID  loudness     tempo  time_signature       key  \\\n",
       "trackID         1.000000  0.000813 -0.000503        0.005678  0.008797   \n",
       "loudness        0.000813  1.000000  0.212182        0.062167  0.041458   \n",
       "tempo          -0.000503  0.212182  1.000000       -0.009329  0.006850   \n",
       "time_signature  0.005678  0.062167 -0.009329        1.000000 -0.003863   \n",
       "key             0.008797  0.041458  0.006850       -0.003863  1.000000   \n",
       "...                  ...       ...       ...             ...       ...   \n",
       "vect_144        0.006199  0.459672  0.032016        0.104878  0.028378   \n",
       "vect_145        0.005850  0.446002  0.023989        0.100323  0.019840   \n",
       "vect_146        0.001344  0.435145  0.019273        0.095628  0.023406   \n",
       "vect_147       -0.006209 -0.141821 -0.066730       -0.002035 -0.006157   \n",
       "vect_148       -0.007006 -0.042218 -0.021557       -0.018608 -0.005562   \n",
       "\n",
       "                    mode  duration    vect_1    vect_2    vect_3  ...  \\\n",
       "trackID        -0.002368  0.015173  0.002067 -0.005275 -0.014176  ...   \n",
       "loudness       -0.085935  0.027205  0.945369  0.589008  0.244755  ...   \n",
       "tempo          -0.026699 -0.041426  0.250933  0.213562  0.071328  ...   \n",
       "time_signature -0.037480  0.111045  0.027062  0.019694 -0.043762  ...   \n",
       "key            -0.161882  0.030159  0.032114  0.035368 -0.012835  ...   \n",
       "...                  ...       ...       ...       ...       ...  ...   \n",
       "vect_144       -0.104374  0.063015  0.318372  0.159803 -0.163151  ...   \n",
       "vect_145       -0.098028  0.055994  0.305717  0.144377 -0.157368  ...   \n",
       "vect_146       -0.093984  0.053292  0.296191  0.135097 -0.158302  ...   \n",
       "vect_147       -0.024707 -0.058626 -0.205001 -0.102730  0.139575  ...   \n",
       "vect_148        0.005083 -0.012428 -0.055611 -0.039273  0.015208  ...   \n",
       "\n",
       "                vect_139  vect_140  vect_141  vect_142  vect_143  vect_144  \\\n",
       "trackID         0.004979  0.006317  0.006864  0.007401  0.006158  0.006199   \n",
       "loudness        0.459817  0.465079  0.468443  0.473993  0.472882  0.459672   \n",
       "tempo           0.029086  0.030300  0.034969  0.034714  0.036359  0.032016   \n",
       "time_signature  0.103034  0.102957  0.105646  0.105726  0.107125  0.104878   \n",
       "key             0.031467  0.028885  0.029698  0.028279  0.027036  0.028378   \n",
       "...                  ...       ...       ...       ...       ...       ...   \n",
       "vect_144        0.976873  0.982554  0.988622  0.990526  0.992951  1.000000   \n",
       "vect_145        0.974997  0.979704  0.982573  0.982946  0.984965  0.992042   \n",
       "vect_146        0.975568  0.975011  0.975887  0.973654  0.974075  0.982894   \n",
       "vect_147       -0.065636 -0.059604 -0.067354 -0.057924 -0.058087 -0.064527   \n",
       "vect_148       -0.013932 -0.014906 -0.016414 -0.015413 -0.015209 -0.015343   \n",
       "\n",
       "                vect_145  vect_146  vect_147  vect_148  \n",
       "trackID         0.005850  0.001344 -0.006209 -0.007006  \n",
       "loudness        0.446002  0.435145 -0.141821 -0.042218  \n",
       "tempo           0.023989  0.019273 -0.066730 -0.021557  \n",
       "time_signature  0.100323  0.095628 -0.002035 -0.018608  \n",
       "key             0.019840  0.023406 -0.006157 -0.005562  \n",
       "...                  ...       ...       ...       ...  \n",
       "vect_144        0.992042  0.982894 -0.064527 -0.015343  \n",
       "vect_145        1.000000  0.990588 -0.058607 -0.012288  \n",
       "vect_146        0.990588  1.000000 -0.063590 -0.012284  \n",
       "vect_147       -0.058607 -0.063590  1.000000  0.183172  \n",
       "vect_148       -0.012288 -0.012284  0.183172  1.000000  \n",
       "\n",
       "[155 rows x 155 columns]"
      ]
     },
     "execution_count": 32,
     "metadata": {},
     "output_type": "execute_result"
    }
   ],
   "source": [
    "import seaborn as sns\n",
    "\n",
    "corre = X.corr()\n",
    "corre"
   ]
  },
  {
   "cell_type": "code",
   "execution_count": 35,
   "id": "4ab19855",
   "metadata": {},
   "outputs": [
    {
     "data": {
      "text/plain": [
       "<AxesSubplot:>"
      ]
     },
     "execution_count": 35,
     "metadata": {},
     "output_type": "execute_result"
    },
    {
     "data": {
      "image/png": "[encoded data removed]",
      "text/plain": [
       "<Figure size 1080x1080 with 2 Axes>"
      ]
     },
     "metadata": {
      "needs_background": "light"
     },
     "output_type": "display_data"
    }
   ],
   "source": [
    "import matplotlib.pyplot as plt\n",
    "plt.figure(figsize=(15,15))\n",
    "sns.heatmap(corre,cmap=\"YlGnBu\")"
   ]
  },
  {
   "cell_type": "markdown",
   "id": "23ea2740",
   "metadata": {},
   "source": [
    "### The above heatmap shows that there are many features that has a similar co-relation which can be removed"
   ]
  },
  {
   "cell_type": "code",
   "execution_count": 36,
   "id": "9432c360",
   "metadata": {},
   "outputs": [],
   "source": [
    "X = X.drop(['trackID'],axis=1)"
   ]
  },
  {
   "cell_type": "code",
   "execution_count": 37,
   "id": "427450ed",
   "metadata": {},
   "outputs": [
    {
     "data": {
      "text/html": [
       "<div>\n",
       "<style scoped>\n",
       "    .dataframe tbody tr th:only-of-type {\n",
       "        vertical-align: middle;\n",
       "    }\n",
       "\n",
       "    .dataframe tbody tr th {\n",
       "        vertical-align: top;\n",
       "    }\n",
       "\n",
       "    .dataframe thead th {\n",
       "        text-align: right;\n",
       "    }\n",
       "</style>\n",
       "<table border=\"1\" class=\"dataframe\">\n",
       "  <thead>\n",
       "    <tr style=\"text-align: right;\">\n",
       "      <th></th>\n",
       "      <th>loudness</th>\n",
       "      <th>tempo</th>\n",
       "      <th>time_signature</th>\n",
       "      <th>key</th>\n",
       "      <th>mode</th>\n",
       "      <th>duration</th>\n",
       "      <th>vect_1</th>\n",
       "      <th>vect_2</th>\n",
       "      <th>vect_3</th>\n",
       "      <th>vect_4</th>\n",
       "      <th>...</th>\n",
       "      <th>vect_139</th>\n",
       "      <th>vect_140</th>\n",
       "      <th>vect_141</th>\n",
       "      <th>vect_142</th>\n",
       "      <th>vect_143</th>\n",
       "      <th>vect_144</th>\n",
       "      <th>vect_145</th>\n",
       "      <th>vect_146</th>\n",
       "      <th>vect_147</th>\n",
       "      <th>vect_148</th>\n",
       "    </tr>\n",
       "  </thead>\n",
       "  <tbody>\n",
       "    <tr>\n",
       "      <th>0</th>\n",
       "      <td>-8.539</td>\n",
       "      <td>104.341</td>\n",
       "      <td>3</td>\n",
       "      <td>7</td>\n",
       "      <td>1</td>\n",
       "      <td>298.73587</td>\n",
       "      <td>44.462048</td>\n",
       "      <td>-13.499814</td>\n",
       "      <td>26.257028</td>\n",
       "      <td>-2.794023</td>\n",
       "      <td>...</td>\n",
       "      <td>0.000308</td>\n",
       "      <td>0.000302</td>\n",
       "      <td>0.000302</td>\n",
       "      <td>0.000315</td>\n",
       "      <td>0.000297</td>\n",
       "      <td>0.000305</td>\n",
       "      <td>0.000266</td>\n",
       "      <td>0.000225</td>\n",
       "      <td>0.130826</td>\n",
       "      <td>1.071914</td>\n",
       "    </tr>\n",
       "    <tr>\n",
       "      <th>1</th>\n",
       "      <td>-9.637</td>\n",
       "      <td>126.003</td>\n",
       "      <td>4</td>\n",
       "      <td>10</td>\n",
       "      <td>0</td>\n",
       "      <td>412.94322</td>\n",
       "      <td>40.376622</td>\n",
       "      <td>27.546188</td>\n",
       "      <td>-24.231226</td>\n",
       "      <td>49.840873</td>\n",
       "      <td>...</td>\n",
       "      <td>0.000951</td>\n",
       "      <td>0.001039</td>\n",
       "      <td>0.001116</td>\n",
       "      <td>0.001166</td>\n",
       "      <td>0.001159</td>\n",
       "      <td>0.001110</td>\n",
       "      <td>0.001015</td>\n",
       "      <td>0.000895</td>\n",
       "      <td>0.116206</td>\n",
       "      <td>0.306846</td>\n",
       "    </tr>\n",
       "  </tbody>\n",
       "</table>\n",
       "<p>2 rows × 154 columns</p>\n",
       "</div>"
      ],
      "text/plain": [
       "   loudness    tempo  time_signature  key  mode   duration     vect_1  \\\n",
       "0    -8.539  104.341               3    7     1  298.73587  44.462048   \n",
       "1    -9.637  126.003               4   10     0  412.94322  40.376622   \n",
       "\n",
       "      vect_2     vect_3     vect_4  ...  vect_139  vect_140  vect_141  \\\n",
       "0 -13.499814  26.257028  -2.794023  ...  0.000308  0.000302  0.000302   \n",
       "1  27.546188 -24.231226  49.840873  ...  0.000951  0.001039  0.001116   \n",
       "\n",
       "   vect_142  vect_143  vect_144  vect_145  vect_146  vect_147  vect_148  \n",
       "0  0.000315  0.000297  0.000305  0.000266  0.000225  0.130826  1.071914  \n",
       "1  0.001166  0.001159  0.001110  0.001015  0.000895  0.116206  0.306846  \n",
       "\n",
       "[2 rows x 154 columns]"
      ]
     },
     "execution_count": 37,
     "metadata": {},
     "output_type": "execute_result"
    }
   ],
   "source": [
    "X.head(2)"
   ]
  },
  {
   "cell_type": "code",
   "execution_count": 38,
   "id": "e3c113b4",
   "metadata": {},
   "outputs": [
    {
     "data": {
      "text/plain": [
       "0       6\n",
       "1       4\n",
       "2       3\n",
       "3       1\n",
       "4       6\n",
       "       ..\n",
       "7719    6\n",
       "7720    6\n",
       "7721    3\n",
       "7722    4\n",
       "7723    7\n",
       "Name: mapping, Length: 7724, dtype: int64"
      ]
     },
     "execution_count": 38,
     "metadata": {},
     "output_type": "execute_result"
    }
   ],
   "source": [
    "y = df.iloc[:,-1]\n",
    "y"
   ]
  },
  {
   "cell_type": "code",
   "execution_count": 39,
   "id": "895f62a7",
   "metadata": {},
   "outputs": [],
   "source": [
    "from sklearn.model_selection import train_test_split\n",
    "from sklearn.metrics import accuracy_score\n",
    "X_train,X_test,y_train,y_test = train_test_split(X,y,train_size=0.7,random_state=350)"
   ]
  },
  {
   "cell_type": "markdown",
   "id": "12957bfa",
   "metadata": {},
   "source": [
    "# Feature Selection"
   ]
  },
  {
   "cell_type": "markdown",
   "id": "262127c6",
   "metadata": {},
   "source": [
    "### 1. Reducing Features by Using Threshold"
   ]
  },
  {
   "cell_type": "code",
   "execution_count": 141,
   "id": "92a273c2",
   "metadata": {},
   "outputs": [],
   "source": [
    "threshold = 0.80"
   ]
  },
  {
   "cell_type": "code",
   "execution_count": 142,
   "id": "338e348b",
   "metadata": {},
   "outputs": [],
   "source": [
    "def correlation(dataset,threshold):\n",
    "    col_corr = set()\n",
    "    corr_matrix = dataset.corr()\n",
    "    for i in range(len(corr_matrix.columns)):\n",
    "        for j in range(i):\n",
    "            if abs(corr_matrix.iloc[i,j]) > threshold:\n",
    "                colname = corr_matrix.columns[i]\n",
    "                col_corr.add(colname)\n",
    "    return col_corr"
   ]
  },
  {
   "cell_type": "code",
   "execution_count": 143,
   "id": "8eab8657",
   "metadata": {},
   "outputs": [
    {
     "data": {
      "text/plain": [
       "82"
      ]
     },
     "execution_count": 143,
     "metadata": {},
     "output_type": "execute_result"
    }
   ],
   "source": [
    "b= list(correlation(X,threshold))\n",
    "len(b)"
   ]
  },
  {
   "cell_type": "code",
   "execution_count": 144,
   "id": "ca39537d",
   "metadata": {},
   "outputs": [],
   "source": [
    "X = df.iloc[:,:-1].drop(b,axis=1)\n"
   ]
  },
  {
   "cell_type": "markdown",
   "id": "06708d19",
   "metadata": {},
   "source": [
    "### 2. Reducing the features by using Extra tress regressor"
   ]
  },
  {
   "cell_type": "code",
   "execution_count": 292,
   "id": "b72f7013",
   "metadata": {},
   "outputs": [
    {
     "data": {
      "image/png": "[encoded data removed]",
      "text/plain": [
       "<Figure size 864x576 with 1 Axes>"
      ]
     },
     "metadata": {
      "needs_background": "light"
     },
     "output_type": "display_data"
    }
   ],
   "source": [
    "from sklearn.ensemble import ExtraTreesRegressor,ExtraTreesClassifier\n",
    "selection = ExtraTreesRegressor()\n",
    "selection.fit(X, y)\n",
    "\n",
    "#plot graph of feature importances for better visualization\n",
    "import matplotlib.pyplot as plt\n",
    "plt.figure(figsize = (12,8))\n",
    "features_importances = pd.Series(selection.feature_importances_, index=X.columns)\n",
    "features_importances.nlargest(10).plot(kind='barh')\n",
    "plt.show()"
   ]
  },
  {
   "cell_type": "code",
   "execution_count": 263,
   "id": "c979fc70",
   "metadata": {},
   "outputs": [
    {
     "data": {
      "text/plain": [
       "ExtraTreesClassifier()"
      ]
     },
     "execution_count": 263,
     "metadata": {},
     "output_type": "execute_result"
    }
   ],
   "source": [
    "from sklearn.ensemble import ExtraTreesRegressor,ExtraTreesClassifier\n",
    "model = ExtraTreesClassifier()\n",
    "model.fit(X,y)"
   ]
  },
  {
   "cell_type": "code",
   "execution_count": 264,
   "id": "0549fb7d",
   "metadata": {},
   "outputs": [
    {
     "data": {
      "text/plain": [
       "['vect_26',\n",
       " 'duration',\n",
       " 'vect_120',\n",
       " 'vect_57',\n",
       " 'vect_125',\n",
       " 'vect_63',\n",
       " 'vect_56',\n",
       " 'vect_4',\n",
       " 'vect_58',\n",
       " 'vect_3',\n",
       " 'vect_38',\n",
       " 'vect_68',\n",
       " 'vect_67',\n",
       " 'vect_8',\n",
       " 'vect_69',\n",
       " 'vect_72',\n",
       " 'vect_116',\n",
       " 'vect_28',\n",
       " 'vect_147',\n",
       " 'vect_126']"
      ]
     },
     "execution_count": 264,
     "metadata": {},
     "output_type": "execute_result"
    }
   ],
   "source": [
    "ranked_feature = pd.Series(model.feature_importances_,index =  X.columns)\n",
    "a = list(ranked_feature.nlargest(20).index)\n",
    "a"
   ]
  },
  {
   "cell_type": "code",
   "execution_count": 265,
   "id": "920ff6d6",
   "metadata": {},
   "outputs": [],
   "source": [
    "X = X[a]"
   ]
  },
  {
   "cell_type": "markdown",
   "id": "d6ed0454",
   "metadata": {},
   "source": [
    "### 3. Mutual Info dropping"
   ]
  },
  {
   "cell_type": "code",
   "execution_count": 243,
   "id": "d1004ef1",
   "metadata": {},
   "outputs": [],
   "source": [
    "from sklearn.feature_selection import mutual_info_classif\n",
    "mutual_info = mutual_info_classif(X,y)\n",
    "mutual_data = pd.Series(mutual_info,index=X.columns)\n",
    "un_important = mutual_data.sort_values(ascending=False).nlargest(50).index"
   ]
  },
  {
   "cell_type": "code",
   "execution_count": 252,
   "id": "ed45b487",
   "metadata": {},
   "outputs": [],
   "source": [
    "X = X.drop(un_important,axis = 1)"
   ]
  },
  {
   "cell_type": "code",
   "execution_count": 253,
   "id": "8ba9876d",
   "metadata": {},
   "outputs": [
    {
     "data": {
      "text/html": [
       "<div>\n",
       "<style scoped>\n",
       "    .dataframe tbody tr th:only-of-type {\n",
       "        vertical-align: middle;\n",
       "    }\n",
       "\n",
       "    .dataframe tbody tr th {\n",
       "        vertical-align: top;\n",
       "    }\n",
       "\n",
       "    .dataframe thead th {\n",
       "        text-align: right;\n",
       "    }\n",
       "</style>\n",
       "<table border=\"1\" class=\"dataframe\">\n",
       "  <thead>\n",
       "    <tr style=\"text-align: right;\">\n",
       "      <th></th>\n",
       "      <th>tempo</th>\n",
       "      <th>time_signature</th>\n",
       "      <th>key</th>\n",
       "      <th>mode</th>\n",
       "      <th>duration</th>\n",
       "      <th>vect_3</th>\n",
       "      <th>vect_4</th>\n",
       "      <th>vect_7</th>\n",
       "      <th>vect_8</th>\n",
       "      <th>vect_9</th>\n",
       "      <th>...</th>\n",
       "      <th>vect_139</th>\n",
       "      <th>vect_140</th>\n",
       "      <th>vect_141</th>\n",
       "      <th>vect_142</th>\n",
       "      <th>vect_143</th>\n",
       "      <th>vect_144</th>\n",
       "      <th>vect_145</th>\n",
       "      <th>vect_146</th>\n",
       "      <th>vect_147</th>\n",
       "      <th>vect_148</th>\n",
       "    </tr>\n",
       "  </thead>\n",
       "  <tbody>\n",
       "    <tr>\n",
       "      <th>0</th>\n",
       "      <td>104.341</td>\n",
       "      <td>3</td>\n",
       "      <td>7</td>\n",
       "      <td>1</td>\n",
       "      <td>298.73587</td>\n",
       "      <td>26.257028</td>\n",
       "      <td>-2.794023</td>\n",
       "      <td>-10.184410</td>\n",
       "      <td>-10.390358</td>\n",
       "      <td>3.679771</td>\n",
       "      <td>...</td>\n",
       "      <td>0.000308</td>\n",
       "      <td>0.000302</td>\n",
       "      <td>0.000302</td>\n",
       "      <td>0.000315</td>\n",
       "      <td>0.000297</td>\n",
       "      <td>0.000305</td>\n",
       "      <td>0.000266</td>\n",
       "      <td>0.000225</td>\n",
       "      <td>0.130826</td>\n",
       "      <td>1.071914</td>\n",
       "    </tr>\n",
       "    <tr>\n",
       "      <th>2</th>\n",
       "      <td>126.003</td>\n",
       "      <td>4</td>\n",
       "      <td>10</td>\n",
       "      <td>0</td>\n",
       "      <td>412.94322</td>\n",
       "      <td>-24.231226</td>\n",
       "      <td>49.840873</td>\n",
       "      <td>14.067852</td>\n",
       "      <td>-14.078848</td>\n",
       "      <td>-0.922488</td>\n",
       "      <td>...</td>\n",
       "      <td>0.000951</td>\n",
       "      <td>0.001039</td>\n",
       "      <td>0.001116</td>\n",
       "      <td>0.001166</td>\n",
       "      <td>0.001159</td>\n",
       "      <td>0.001110</td>\n",
       "      <td>0.001015</td>\n",
       "      <td>0.000895</td>\n",
       "      <td>0.116206</td>\n",
       "      <td>0.306846</td>\n",
       "    </tr>\n",
       "    <tr>\n",
       "      <th>3</th>\n",
       "      <td>197.625</td>\n",
       "      <td>4</td>\n",
       "      <td>2</td>\n",
       "      <td>1</td>\n",
       "      <td>64.78322</td>\n",
       "      <td>52.666606</td>\n",
       "      <td>1.962486</td>\n",
       "      <td>-5.850702</td>\n",
       "      <td>9.470399</td>\n",
       "      <td>15.043537</td>\n",
       "      <td>...</td>\n",
       "      <td>0.000233</td>\n",
       "      <td>0.000284</td>\n",
       "      <td>0.000313</td>\n",
       "      <td>0.000325</td>\n",
       "      <td>0.000324</td>\n",
       "      <td>0.000299</td>\n",
       "      <td>0.000273</td>\n",
       "      <td>0.000236</td>\n",
       "      <td>0.163738</td>\n",
       "      <td>1.247803</td>\n",
       "    </tr>\n",
       "    <tr>\n",
       "      <th>4</th>\n",
       "      <td>170.008</td>\n",
       "      <td>4</td>\n",
       "      <td>0</td>\n",
       "      <td>1</td>\n",
       "      <td>191.97342</td>\n",
       "      <td>18.232822</td>\n",
       "      <td>31.694016</td>\n",
       "      <td>15.487315</td>\n",
       "      <td>0.150533</td>\n",
       "      <td>2.615486</td>\n",
       "      <td>...</td>\n",
       "      <td>0.000853</td>\n",
       "      <td>0.000927</td>\n",
       "      <td>0.000994</td>\n",
       "      <td>0.001037</td>\n",
       "      <td>0.001051</td>\n",
       "      <td>0.001011</td>\n",
       "      <td>0.000962</td>\n",
       "      <td>0.000898</td>\n",
       "      <td>0.108193</td>\n",
       "      <td>0.366419</td>\n",
       "    </tr>\n",
       "    <tr>\n",
       "      <th>5</th>\n",
       "      <td>142.254</td>\n",
       "      <td>5</td>\n",
       "      <td>4</td>\n",
       "      <td>1</td>\n",
       "      <td>146.75546</td>\n",
       "      <td>3.454569</td>\n",
       "      <td>-9.656709</td>\n",
       "      <td>-22.227494</td>\n",
       "      <td>-14.219502</td>\n",
       "      <td>9.934717</td>\n",
       "      <td>...</td>\n",
       "      <td>0.000109</td>\n",
       "      <td>0.000130</td>\n",
       "      <td>0.000132</td>\n",
       "      <td>0.000124</td>\n",
       "      <td>0.000117</td>\n",
       "      <td>0.000109</td>\n",
       "      <td>0.000107</td>\n",
       "      <td>0.000114</td>\n",
       "      <td>0.131246</td>\n",
       "      <td>0.693531</td>\n",
       "    </tr>\n",
       "  </tbody>\n",
       "</table>\n",
       "<p>5 rows × 104 columns</p>\n",
       "</div>"
      ],
      "text/plain": [
       "     tempo  time_signature  key  mode   duration     vect_3     vect_4  \\\n",
       "0  104.341               3    7     1  298.73587  26.257028  -2.794023   \n",
       "2  126.003               4   10     0  412.94322 -24.231226  49.840873   \n",
       "3  197.625               4    2     1   64.78322  52.666606   1.962486   \n",
       "4  170.008               4    0     1  191.97342  18.232822  31.694016   \n",
       "5  142.254               5    4     1  146.75546   3.454569  -9.656709   \n",
       "\n",
       "      vect_7     vect_8     vect_9  ...  vect_139  vect_140  vect_141  \\\n",
       "0 -10.184410 -10.390358   3.679771  ...  0.000308  0.000302  0.000302   \n",
       "2  14.067852 -14.078848  -0.922488  ...  0.000951  0.001039  0.001116   \n",
       "3  -5.850702   9.470399  15.043537  ...  0.000233  0.000284  0.000313   \n",
       "4  15.487315   0.150533   2.615486  ...  0.000853  0.000927  0.000994   \n",
       "5 -22.227494 -14.219502   9.934717  ...  0.000109  0.000130  0.000132   \n",
       "\n",
       "   vect_142  vect_143  vect_144  vect_145  vect_146  vect_147  vect_148  \n",
       "0  0.000315  0.000297  0.000305  0.000266  0.000225  0.130826  1.071914  \n",
       "2  0.001166  0.001159  0.001110  0.001015  0.000895  0.116206  0.306846  \n",
       "3  0.000325  0.000324  0.000299  0.000273  0.000236  0.163738  1.247803  \n",
       "4  0.001037  0.001051  0.001011  0.000962  0.000898  0.108193  0.366419  \n",
       "5  0.000124  0.000117  0.000109  0.000107  0.000114  0.131246  0.693531  \n",
       "\n",
       "[5 rows x 104 columns]"
      ]
     },
     "execution_count": 253,
     "metadata": {},
     "output_type": "execute_result"
    }
   ],
   "source": [
    "X.head()"
   ]
  },
  {
   "cell_type": "markdown",
   "id": "7358b3e2",
   "metadata": {},
   "source": [
    "### 4. Using PCA"
   ]
  },
  {
   "cell_type": "code",
   "execution_count": 41,
   "id": "64d0bfa4",
   "metadata": {},
   "outputs": [
    {
     "data": {
      "image/png": "[encoded data removed]",
      "text/plain": [
       "<Figure size 432x288 with 1 Axes>"
      ]
     },
     "metadata": {
      "needs_background": "light"
     },
     "output_type": "display_data"
    }
   ],
   "source": [
    "from sklearn.decomposition import PCA\n",
    "import matplotlib.pyplot as plt\n",
    "pca = PCA()\n",
    "principalComponents = pca.fit_transform(df)\n",
    "plt.figure()\n",
    "plt.plot(np.cumsum(pca.explained_variance_ratio_))\n",
    "plt.xlabel('Number of Components')\n",
    "plt.ylabel('Variance (%)') #for each component\n",
    "plt.title('Explained Variance')\n",
    "plt.show()"
   ]
  },
  {
   "cell_type": "markdown",
   "id": "c6042691",
   "metadata": {},
   "source": [
    "### The above chart clearly shows that with the use of 15-20 Features the variance is reaching maximum"
   ]
  },
  {
   "cell_type": "code",
   "execution_count": 42,
   "id": "b892c2d8",
   "metadata": {},
   "outputs": [],
   "source": [
    "### Droping these features from X and adding after the PCA\n",
    "\n",
    "\n",
    "X_pca = df.drop(['loudness','tempo','time_signature','key','mode','trackID','duration','mapping'],axis=1)"
   ]
  },
  {
   "cell_type": "code",
   "execution_count": 43,
   "id": "7e9e69eb",
   "metadata": {},
   "outputs": [
    {
     "data": {
      "text/html": [
       "<div>\n",
       "<style scoped>\n",
       "    .dataframe tbody tr th:only-of-type {\n",
       "        vertical-align: middle;\n",
       "    }\n",
       "\n",
       "    .dataframe tbody tr th {\n",
       "        vertical-align: top;\n",
       "    }\n",
       "\n",
       "    .dataframe thead th {\n",
       "        text-align: right;\n",
       "    }\n",
       "</style>\n",
       "<table border=\"1\" class=\"dataframe\">\n",
       "  <thead>\n",
       "    <tr style=\"text-align: right;\">\n",
       "      <th></th>\n",
       "      <th>vect_1</th>\n",
       "      <th>vect_2</th>\n",
       "      <th>vect_3</th>\n",
       "      <th>vect_4</th>\n",
       "      <th>vect_5</th>\n",
       "      <th>vect_6</th>\n",
       "      <th>vect_7</th>\n",
       "      <th>vect_8</th>\n",
       "      <th>vect_9</th>\n",
       "      <th>vect_10</th>\n",
       "      <th>...</th>\n",
       "      <th>vect_139</th>\n",
       "      <th>vect_140</th>\n",
       "      <th>vect_141</th>\n",
       "      <th>vect_142</th>\n",
       "      <th>vect_143</th>\n",
       "      <th>vect_144</th>\n",
       "      <th>vect_145</th>\n",
       "      <th>vect_146</th>\n",
       "      <th>vect_147</th>\n",
       "      <th>vect_148</th>\n",
       "    </tr>\n",
       "  </thead>\n",
       "  <tbody>\n",
       "    <tr>\n",
       "      <th>0</th>\n",
       "      <td>44.462048</td>\n",
       "      <td>-13.499814</td>\n",
       "      <td>26.257028</td>\n",
       "      <td>-2.794023</td>\n",
       "      <td>10.635086</td>\n",
       "      <td>-4.390975</td>\n",
       "      <td>-10.184410</td>\n",
       "      <td>-10.390358</td>\n",
       "      <td>3.679771</td>\n",
       "      <td>-2.183399</td>\n",
       "      <td>...</td>\n",
       "      <td>0.000308</td>\n",
       "      <td>0.000302</td>\n",
       "      <td>0.000302</td>\n",
       "      <td>0.000315</td>\n",
       "      <td>0.000297</td>\n",
       "      <td>0.000305</td>\n",
       "      <td>0.000266</td>\n",
       "      <td>0.000225</td>\n",
       "      <td>0.130826</td>\n",
       "      <td>1.071914</td>\n",
       "    </tr>\n",
       "    <tr>\n",
       "      <th>1</th>\n",
       "      <td>40.376622</td>\n",
       "      <td>27.546188</td>\n",
       "      <td>-24.231226</td>\n",
       "      <td>49.840873</td>\n",
       "      <td>-2.128631</td>\n",
       "      <td>4.259993</td>\n",
       "      <td>14.067852</td>\n",
       "      <td>-14.078848</td>\n",
       "      <td>-0.922488</td>\n",
       "      <td>8.655974</td>\n",
       "      <td>...</td>\n",
       "      <td>0.000951</td>\n",
       "      <td>0.001039</td>\n",
       "      <td>0.001116</td>\n",
       "      <td>0.001166</td>\n",
       "      <td>0.001159</td>\n",
       "      <td>0.001110</td>\n",
       "      <td>0.001015</td>\n",
       "      <td>0.000895</td>\n",
       "      <td>0.116206</td>\n",
       "      <td>0.306846</td>\n",
       "    </tr>\n",
       "    <tr>\n",
       "      <th>2</th>\n",
       "      <td>45.598532</td>\n",
       "      <td>10.249509</td>\n",
       "      <td>52.666606</td>\n",
       "      <td>1.962486</td>\n",
       "      <td>-28.990688</td>\n",
       "      <td>-18.290509</td>\n",
       "      <td>-5.850702</td>\n",
       "      <td>9.470399</td>\n",
       "      <td>15.043537</td>\n",
       "      <td>13.597257</td>\n",
       "      <td>...</td>\n",
       "      <td>0.000233</td>\n",
       "      <td>0.000284</td>\n",
       "      <td>0.000313</td>\n",
       "      <td>0.000325</td>\n",
       "      <td>0.000324</td>\n",
       "      <td>0.000299</td>\n",
       "      <td>0.000273</td>\n",
       "      <td>0.000236</td>\n",
       "      <td>0.163738</td>\n",
       "      <td>1.247803</td>\n",
       "    </tr>\n",
       "    <tr>\n",
       "      <th>3</th>\n",
       "      <td>47.159148</td>\n",
       "      <td>-52.070941</td>\n",
       "      <td>18.232822</td>\n",
       "      <td>31.694016</td>\n",
       "      <td>-16.331575</td>\n",
       "      <td>-22.783752</td>\n",
       "      <td>15.487315</td>\n",
       "      <td>0.150533</td>\n",
       "      <td>2.615486</td>\n",
       "      <td>1.290960</td>\n",
       "      <td>...</td>\n",
       "      <td>0.000853</td>\n",
       "      <td>0.000927</td>\n",
       "      <td>0.000994</td>\n",
       "      <td>0.001037</td>\n",
       "      <td>0.001051</td>\n",
       "      <td>0.001011</td>\n",
       "      <td>0.000962</td>\n",
       "      <td>0.000898</td>\n",
       "      <td>0.108193</td>\n",
       "      <td>0.366419</td>\n",
       "    </tr>\n",
       "    <tr>\n",
       "      <th>4</th>\n",
       "      <td>36.712606</td>\n",
       "      <td>-1.896533</td>\n",
       "      <td>3.454569</td>\n",
       "      <td>-9.656709</td>\n",
       "      <td>-52.225433</td>\n",
       "      <td>9.998404</td>\n",
       "      <td>-22.227494</td>\n",
       "      <td>-14.219502</td>\n",
       "      <td>9.934717</td>\n",
       "      <td>-4.033157</td>\n",
       "      <td>...</td>\n",
       "      <td>0.000109</td>\n",
       "      <td>0.000130</td>\n",
       "      <td>0.000132</td>\n",
       "      <td>0.000124</td>\n",
       "      <td>0.000117</td>\n",
       "      <td>0.000109</td>\n",
       "      <td>0.000107</td>\n",
       "      <td>0.000114</td>\n",
       "      <td>0.131246</td>\n",
       "      <td>0.693531</td>\n",
       "    </tr>\n",
       "  </tbody>\n",
       "</table>\n",
       "<p>5 rows × 148 columns</p>\n",
       "</div>"
      ],
      "text/plain": [
       "      vect_1     vect_2     vect_3     vect_4     vect_5     vect_6  \\\n",
       "0  44.462048 -13.499814  26.257028  -2.794023  10.635086  -4.390975   \n",
       "1  40.376622  27.546188 -24.231226  49.840873  -2.128631   4.259993   \n",
       "2  45.598532  10.249509  52.666606   1.962486 -28.990688 -18.290509   \n",
       "3  47.159148 -52.070941  18.232822  31.694016 -16.331575 -22.783752   \n",
       "4  36.712606  -1.896533   3.454569  -9.656709 -52.225433   9.998404   \n",
       "\n",
       "      vect_7     vect_8     vect_9    vect_10  ...  vect_139  vect_140  \\\n",
       "0 -10.184410 -10.390358   3.679771  -2.183399  ...  0.000308  0.000302   \n",
       "1  14.067852 -14.078848  -0.922488   8.655974  ...  0.000951  0.001039   \n",
       "2  -5.850702   9.470399  15.043537  13.597257  ...  0.000233  0.000284   \n",
       "3  15.487315   0.150533   2.615486   1.290960  ...  0.000853  0.000927   \n",
       "4 -22.227494 -14.219502   9.934717  -4.033157  ...  0.000109  0.000130   \n",
       "\n",
       "   vect_141  vect_142  vect_143  vect_144  vect_145  vect_146  vect_147  \\\n",
       "0  0.000302  0.000315  0.000297  0.000305  0.000266  0.000225  0.130826   \n",
       "1  0.001116  0.001166  0.001159  0.001110  0.001015  0.000895  0.116206   \n",
       "2  0.000313  0.000325  0.000324  0.000299  0.000273  0.000236  0.163738   \n",
       "3  0.000994  0.001037  0.001051  0.001011  0.000962  0.000898  0.108193   \n",
       "4  0.000132  0.000124  0.000117  0.000109  0.000107  0.000114  0.131246   \n",
       "\n",
       "   vect_148  \n",
       "0  1.071914  \n",
       "1  0.306846  \n",
       "2  1.247803  \n",
       "3  0.366419  \n",
       "4  0.693531  \n",
       "\n",
       "[5 rows x 148 columns]"
      ]
     },
     "execution_count": 43,
     "metadata": {},
     "output_type": "execute_result"
    }
   ],
   "source": [
    "X_pca.head()"
   ]
  },
  {
   "cell_type": "markdown",
   "id": "dda15210",
   "metadata": {},
   "source": [
    "### By using all the Feature Selection models and Prediction considering PCA give the better accuracy"
   ]
  },
  {
   "cell_type": "code",
   "execution_count": 47,
   "id": "28a04fa3",
   "metadata": {},
   "outputs": [],
   "source": [
    "pca = PCA(n_components=15)\n",
    "new_data = pca.fit_transform(X_pca)\n",
    "# This will be the new data fed to the algorithm.\n",
    "principal_Df = pd.DataFrame(data = new_data\n",
    "             , columns = ['a_1','a_2','a_3','a_4','a_5','a_6','a_7','a_8','a_9','a_10','a_11','a_12','a_13','a_14','a_15'])"
   ]
  },
  {
   "cell_type": "code",
   "execution_count": 48,
   "id": "188358a7",
   "metadata": {},
   "outputs": [
    {
     "name": "stdout",
     "output_type": "stream",
     "text": [
      "(7724, 15)\n"
     ]
    },
    {
     "data": {
      "text/html": [
       "<div>\n",
       "<style scoped>\n",
       "    .dataframe tbody tr th:only-of-type {\n",
       "        vertical-align: middle;\n",
       "    }\n",
       "\n",
       "    .dataframe tbody tr th {\n",
       "        vertical-align: top;\n",
       "    }\n",
       "\n",
       "    .dataframe thead th {\n",
       "        text-align: right;\n",
       "    }\n",
       "</style>\n",
       "<table border=\"1\" class=\"dataframe\">\n",
       "  <thead>\n",
       "    <tr style=\"text-align: right;\">\n",
       "      <th></th>\n",
       "      <th>a_1</th>\n",
       "      <th>a_2</th>\n",
       "      <th>a_3</th>\n",
       "      <th>a_4</th>\n",
       "      <th>a_5</th>\n",
       "      <th>a_6</th>\n",
       "      <th>a_7</th>\n",
       "      <th>a_8</th>\n",
       "      <th>a_9</th>\n",
       "      <th>a_10</th>\n",
       "      <th>a_11</th>\n",
       "      <th>a_12</th>\n",
       "      <th>a_13</th>\n",
       "      <th>a_14</th>\n",
       "      <th>a_15</th>\n",
       "    </tr>\n",
       "  </thead>\n",
       "  <tbody>\n",
       "    <tr>\n",
       "      <th>0</th>\n",
       "      <td>-2460.552611</td>\n",
       "      <td>-1023.711167</td>\n",
       "      <td>23.505810</td>\n",
       "      <td>-295.750967</td>\n",
       "      <td>-140.865649</td>\n",
       "      <td>32.037205</td>\n",
       "      <td>29.637709</td>\n",
       "      <td>19.752676</td>\n",
       "      <td>-17.317485</td>\n",
       "      <td>10.987475</td>\n",
       "      <td>-67.569139</td>\n",
       "      <td>14.511526</td>\n",
       "      <td>29.363923</td>\n",
       "      <td>15.773612</td>\n",
       "      <td>2.280695</td>\n",
       "    </tr>\n",
       "    <tr>\n",
       "      <th>1</th>\n",
       "      <td>1737.056319</td>\n",
       "      <td>4755.003363</td>\n",
       "      <td>3176.863631</td>\n",
       "      <td>-968.392151</td>\n",
       "      <td>-670.754303</td>\n",
       "      <td>500.810842</td>\n",
       "      <td>-171.567715</td>\n",
       "      <td>-24.967867</td>\n",
       "      <td>-98.358074</td>\n",
       "      <td>-14.103686</td>\n",
       "      <td>226.233838</td>\n",
       "      <td>-164.353380</td>\n",
       "      <td>-32.323483</td>\n",
       "      <td>18.669751</td>\n",
       "      <td>0.767081</td>\n",
       "    </tr>\n",
       "    <tr>\n",
       "      <th>2</th>\n",
       "      <td>-3126.493856</td>\n",
       "      <td>-2037.918333</td>\n",
       "      <td>159.689312</td>\n",
       "      <td>-324.942543</td>\n",
       "      <td>-230.214344</td>\n",
       "      <td>80.223567</td>\n",
       "      <td>-54.695481</td>\n",
       "      <td>98.635751</td>\n",
       "      <td>-55.366901</td>\n",
       "      <td>10.203986</td>\n",
       "      <td>8.981734</td>\n",
       "      <td>13.346602</td>\n",
       "      <td>20.782336</td>\n",
       "      <td>32.392510</td>\n",
       "      <td>-0.611792</td>\n",
       "    </tr>\n",
       "    <tr>\n",
       "      <th>3</th>\n",
       "      <td>-3051.911766</td>\n",
       "      <td>734.223355</td>\n",
       "      <td>-909.397872</td>\n",
       "      <td>-743.696440</td>\n",
       "      <td>458.984125</td>\n",
       "      <td>206.663056</td>\n",
       "      <td>-269.059505</td>\n",
       "      <td>28.093201</td>\n",
       "      <td>-39.880569</td>\n",
       "      <td>6.993910</td>\n",
       "      <td>-94.612162</td>\n",
       "      <td>-8.134047</td>\n",
       "      <td>62.080614</td>\n",
       "      <td>30.599421</td>\n",
       "      <td>-0.902522</td>\n",
       "    </tr>\n",
       "    <tr>\n",
       "      <th>4</th>\n",
       "      <td>-2446.935740</td>\n",
       "      <td>70.452635</td>\n",
       "      <td>218.023965</td>\n",
       "      <td>-27.483031</td>\n",
       "      <td>-13.171991</td>\n",
       "      <td>-36.520457</td>\n",
       "      <td>164.244444</td>\n",
       "      <td>264.073906</td>\n",
       "      <td>9.354873</td>\n",
       "      <td>-9.306503</td>\n",
       "      <td>-0.793699</td>\n",
       "      <td>60.594781</td>\n",
       "      <td>-24.451951</td>\n",
       "      <td>-4.493070</td>\n",
       "      <td>1.901223</td>\n",
       "    </tr>\n",
       "  </tbody>\n",
       "</table>\n",
       "</div>"
      ],
      "text/plain": [
       "           a_1          a_2          a_3         a_4         a_5         a_6  \\\n",
       "0 -2460.552611 -1023.711167    23.505810 -295.750967 -140.865649   32.037205   \n",
       "1  1737.056319  4755.003363  3176.863631 -968.392151 -670.754303  500.810842   \n",
       "2 -3126.493856 -2037.918333   159.689312 -324.942543 -230.214344   80.223567   \n",
       "3 -3051.911766   734.223355  -909.397872 -743.696440  458.984125  206.663056   \n",
       "4 -2446.935740    70.452635   218.023965  -27.483031  -13.171991  -36.520457   \n",
       "\n",
       "          a_7         a_8        a_9       a_10        a_11        a_12  \\\n",
       "0   29.637709   19.752676 -17.317485  10.987475  -67.569139   14.511526   \n",
       "1 -171.567715  -24.967867 -98.358074 -14.103686  226.233838 -164.353380   \n",
       "2  -54.695481   98.635751 -55.366901  10.203986    8.981734   13.346602   \n",
       "3 -269.059505   28.093201 -39.880569   6.993910  -94.612162   -8.134047   \n",
       "4  164.244444  264.073906   9.354873  -9.306503   -0.793699   60.594781   \n",
       "\n",
       "        a_13       a_14      a_15  \n",
       "0  29.363923  15.773612  2.280695  \n",
       "1 -32.323483  18.669751  0.767081  \n",
       "2  20.782336  32.392510 -0.611792  \n",
       "3  62.080614  30.599421 -0.902522  \n",
       "4 -24.451951  -4.493070  1.901223  "
      ]
     },
     "execution_count": 48,
     "metadata": {},
     "output_type": "execute_result"
    }
   ],
   "source": [
    "# Now we reduced the 151 features to 15 by using Principal Analysis\n",
    "\n",
    "print(principal_Df.shape)\n",
    "principal_Df.head()"
   ]
  },
  {
   "cell_type": "code",
   "execution_count": 49,
   "id": "eb12fc2f",
   "metadata": {},
   "outputs": [
    {
     "data": {
      "text/html": [
       "<div>\n",
       "<style scoped>\n",
       "    .dataframe tbody tr th:only-of-type {\n",
       "        vertical-align: middle;\n",
       "    }\n",
       "\n",
       "    .dataframe tbody tr th {\n",
       "        vertical-align: top;\n",
       "    }\n",
       "\n",
       "    .dataframe thead th {\n",
       "        text-align: right;\n",
       "    }\n",
       "</style>\n",
       "<table border=\"1\" class=\"dataframe\">\n",
       "  <thead>\n",
       "    <tr style=\"text-align: right;\">\n",
       "      <th></th>\n",
       "      <th>loudness</th>\n",
       "      <th>tempo</th>\n",
       "      <th>time_signature</th>\n",
       "      <th>key</th>\n",
       "      <th>mode</th>\n",
       "      <th>duration</th>\n",
       "    </tr>\n",
       "  </thead>\n",
       "  <tbody>\n",
       "    <tr>\n",
       "      <th>0</th>\n",
       "      <td>-8.539</td>\n",
       "      <td>104.341</td>\n",
       "      <td>3</td>\n",
       "      <td>7</td>\n",
       "      <td>1</td>\n",
       "      <td>298.73587</td>\n",
       "    </tr>\n",
       "    <tr>\n",
       "      <th>1</th>\n",
       "      <td>-9.637</td>\n",
       "      <td>126.003</td>\n",
       "      <td>4</td>\n",
       "      <td>10</td>\n",
       "      <td>0</td>\n",
       "      <td>412.94322</td>\n",
       "    </tr>\n",
       "    <tr>\n",
       "      <th>2</th>\n",
       "      <td>-10.969</td>\n",
       "      <td>197.625</td>\n",
       "      <td>4</td>\n",
       "      <td>2</td>\n",
       "      <td>1</td>\n",
       "      <td>64.78322</td>\n",
       "    </tr>\n",
       "    <tr>\n",
       "      <th>3</th>\n",
       "      <td>-5.369</td>\n",
       "      <td>170.008</td>\n",
       "      <td>4</td>\n",
       "      <td>0</td>\n",
       "      <td>1</td>\n",
       "      <td>191.97342</td>\n",
       "    </tr>\n",
       "    <tr>\n",
       "      <th>4</th>\n",
       "      <td>-16.516</td>\n",
       "      <td>142.254</td>\n",
       "      <td>5</td>\n",
       "      <td>4</td>\n",
       "      <td>1</td>\n",
       "      <td>146.75546</td>\n",
       "    </tr>\n",
       "  </tbody>\n",
       "</table>\n",
       "</div>"
      ],
      "text/plain": [
       "   loudness    tempo  time_signature  key  mode   duration\n",
       "0    -8.539  104.341               3    7     1  298.73587\n",
       "1    -9.637  126.003               4   10     0  412.94322\n",
       "2   -10.969  197.625               4    2     1   64.78322\n",
       "3    -5.369  170.008               4    0     1  191.97342\n",
       "4   -16.516  142.254               5    4     1  146.75546"
      ]
     },
     "execution_count": 49,
     "metadata": {},
     "output_type": "execute_result"
    }
   ],
   "source": [
    "z = df[['loudness','tempo','time_signature','key','mode','duration']]\n",
    "z.head()"
   ]
  },
  {
   "cell_type": "code",
   "execution_count": 50,
   "id": "4dcfad5a",
   "metadata": {},
   "outputs": [
    {
     "data": {
      "text/html": [
       "<div>\n",
       "<style scoped>\n",
       "    .dataframe tbody tr th:only-of-type {\n",
       "        vertical-align: middle;\n",
       "    }\n",
       "\n",
       "    .dataframe tbody tr th {\n",
       "        vertical-align: top;\n",
       "    }\n",
       "\n",
       "    .dataframe thead th {\n",
       "        text-align: right;\n",
       "    }\n",
       "</style>\n",
       "<table border=\"1\" class=\"dataframe\">\n",
       "  <thead>\n",
       "    <tr style=\"text-align: right;\">\n",
       "      <th></th>\n",
       "      <th>a_1</th>\n",
       "      <th>a_2</th>\n",
       "      <th>a_3</th>\n",
       "      <th>a_4</th>\n",
       "      <th>a_5</th>\n",
       "      <th>a_6</th>\n",
       "      <th>a_7</th>\n",
       "      <th>a_8</th>\n",
       "      <th>a_9</th>\n",
       "      <th>a_10</th>\n",
       "      <th>...</th>\n",
       "      <th>a_12</th>\n",
       "      <th>a_13</th>\n",
       "      <th>a_14</th>\n",
       "      <th>a_15</th>\n",
       "      <th>loudness</th>\n",
       "      <th>tempo</th>\n",
       "      <th>time_signature</th>\n",
       "      <th>key</th>\n",
       "      <th>mode</th>\n",
       "      <th>duration</th>\n",
       "    </tr>\n",
       "  </thead>\n",
       "  <tbody>\n",
       "    <tr>\n",
       "      <th>0</th>\n",
       "      <td>-2460.552611</td>\n",
       "      <td>-1023.711167</td>\n",
       "      <td>23.505810</td>\n",
       "      <td>-295.750967</td>\n",
       "      <td>-140.865649</td>\n",
       "      <td>32.037205</td>\n",
       "      <td>29.637709</td>\n",
       "      <td>19.752676</td>\n",
       "      <td>-17.317485</td>\n",
       "      <td>10.987475</td>\n",
       "      <td>...</td>\n",
       "      <td>14.511526</td>\n",
       "      <td>29.363923</td>\n",
       "      <td>15.773612</td>\n",
       "      <td>2.280695</td>\n",
       "      <td>-8.539</td>\n",
       "      <td>104.341</td>\n",
       "      <td>3</td>\n",
       "      <td>7</td>\n",
       "      <td>1</td>\n",
       "      <td>298.73587</td>\n",
       "    </tr>\n",
       "    <tr>\n",
       "      <th>1</th>\n",
       "      <td>1737.056319</td>\n",
       "      <td>4755.003363</td>\n",
       "      <td>3176.863631</td>\n",
       "      <td>-968.392151</td>\n",
       "      <td>-670.754303</td>\n",
       "      <td>500.810842</td>\n",
       "      <td>-171.567715</td>\n",
       "      <td>-24.967867</td>\n",
       "      <td>-98.358074</td>\n",
       "      <td>-14.103686</td>\n",
       "      <td>...</td>\n",
       "      <td>-164.353380</td>\n",
       "      <td>-32.323483</td>\n",
       "      <td>18.669751</td>\n",
       "      <td>0.767081</td>\n",
       "      <td>-9.637</td>\n",
       "      <td>126.003</td>\n",
       "      <td>4</td>\n",
       "      <td>10</td>\n",
       "      <td>0</td>\n",
       "      <td>412.94322</td>\n",
       "    </tr>\n",
       "    <tr>\n",
       "      <th>2</th>\n",
       "      <td>-3126.493856</td>\n",
       "      <td>-2037.918333</td>\n",
       "      <td>159.689312</td>\n",
       "      <td>-324.942543</td>\n",
       "      <td>-230.214344</td>\n",
       "      <td>80.223567</td>\n",
       "      <td>-54.695481</td>\n",
       "      <td>98.635751</td>\n",
       "      <td>-55.366901</td>\n",
       "      <td>10.203986</td>\n",
       "      <td>...</td>\n",
       "      <td>13.346602</td>\n",
       "      <td>20.782336</td>\n",
       "      <td>32.392510</td>\n",
       "      <td>-0.611792</td>\n",
       "      <td>-10.969</td>\n",
       "      <td>197.625</td>\n",
       "      <td>4</td>\n",
       "      <td>2</td>\n",
       "      <td>1</td>\n",
       "      <td>64.78322</td>\n",
       "    </tr>\n",
       "    <tr>\n",
       "      <th>3</th>\n",
       "      <td>-3051.911766</td>\n",
       "      <td>734.223355</td>\n",
       "      <td>-909.397872</td>\n",
       "      <td>-743.696440</td>\n",
       "      <td>458.984125</td>\n",
       "      <td>206.663056</td>\n",
       "      <td>-269.059505</td>\n",
       "      <td>28.093201</td>\n",
       "      <td>-39.880569</td>\n",
       "      <td>6.993910</td>\n",
       "      <td>...</td>\n",
       "      <td>-8.134047</td>\n",
       "      <td>62.080614</td>\n",
       "      <td>30.599421</td>\n",
       "      <td>-0.902522</td>\n",
       "      <td>-5.369</td>\n",
       "      <td>170.008</td>\n",
       "      <td>4</td>\n",
       "      <td>0</td>\n",
       "      <td>1</td>\n",
       "      <td>191.97342</td>\n",
       "    </tr>\n",
       "    <tr>\n",
       "      <th>4</th>\n",
       "      <td>-2446.935740</td>\n",
       "      <td>70.452635</td>\n",
       "      <td>218.023965</td>\n",
       "      <td>-27.483031</td>\n",
       "      <td>-13.171991</td>\n",
       "      <td>-36.520457</td>\n",
       "      <td>164.244444</td>\n",
       "      <td>264.073906</td>\n",
       "      <td>9.354873</td>\n",
       "      <td>-9.306503</td>\n",
       "      <td>...</td>\n",
       "      <td>60.594781</td>\n",
       "      <td>-24.451951</td>\n",
       "      <td>-4.493070</td>\n",
       "      <td>1.901223</td>\n",
       "      <td>-16.516</td>\n",
       "      <td>142.254</td>\n",
       "      <td>5</td>\n",
       "      <td>4</td>\n",
       "      <td>1</td>\n",
       "      <td>146.75546</td>\n",
       "    </tr>\n",
       "  </tbody>\n",
       "</table>\n",
       "<p>5 rows × 21 columns</p>\n",
       "</div>"
      ],
      "text/plain": [
       "           a_1          a_2          a_3         a_4         a_5         a_6  \\\n",
       "0 -2460.552611 -1023.711167    23.505810 -295.750967 -140.865649   32.037205   \n",
       "1  1737.056319  4755.003363  3176.863631 -968.392151 -670.754303  500.810842   \n",
       "2 -3126.493856 -2037.918333   159.689312 -324.942543 -230.214344   80.223567   \n",
       "3 -3051.911766   734.223355  -909.397872 -743.696440  458.984125  206.663056   \n",
       "4 -2446.935740    70.452635   218.023965  -27.483031  -13.171991  -36.520457   \n",
       "\n",
       "          a_7         a_8        a_9       a_10  ...        a_12       a_13  \\\n",
       "0   29.637709   19.752676 -17.317485  10.987475  ...   14.511526  29.363923   \n",
       "1 -171.567715  -24.967867 -98.358074 -14.103686  ... -164.353380 -32.323483   \n",
       "2  -54.695481   98.635751 -55.366901  10.203986  ...   13.346602  20.782336   \n",
       "3 -269.059505   28.093201 -39.880569   6.993910  ...   -8.134047  62.080614   \n",
       "4  164.244444  264.073906   9.354873  -9.306503  ...   60.594781 -24.451951   \n",
       "\n",
       "        a_14      a_15  loudness    tempo  time_signature  key  mode  \\\n",
       "0  15.773612  2.280695    -8.539  104.341               3    7     1   \n",
       "1  18.669751  0.767081    -9.637  126.003               4   10     0   \n",
       "2  32.392510 -0.611792   -10.969  197.625               4    2     1   \n",
       "3  30.599421 -0.902522    -5.369  170.008               4    0     1   \n",
       "4  -4.493070  1.901223   -16.516  142.254               5    4     1   \n",
       "\n",
       "    duration  \n",
       "0  298.73587  \n",
       "1  412.94322  \n",
       "2   64.78322  \n",
       "3  191.97342  \n",
       "4  146.75546  \n",
       "\n",
       "[5 rows x 21 columns]"
      ]
     },
     "execution_count": 50,
     "metadata": {},
     "output_type": "execute_result"
    }
   ],
   "source": [
    "### We are taking Z as an Independent Features\n",
    "\n",
    "\n",
    "Z = pd.merge(principal_Df,z,left_index=True,right_index=True)\n",
    "Z.head()\n",
    "# Using Z as Independent Features"
   ]
  },
  {
   "cell_type": "code",
   "execution_count": 51,
   "id": "92aa44a3",
   "metadata": {},
   "outputs": [],
   "source": [
    "#This has the seperate split becaue we are using X_pca as our independent feature\n",
    "X_train,X_test,y_train,y_test = train_test_split(Z,y,train_size=0.7,random_state=350)"
   ]
  },
  {
   "cell_type": "code",
   "execution_count": 35,
   "id": "f5273a93",
   "metadata": {},
   "outputs": [
    {
     "data": {
      "text/html": [
       "<div>\n",
       "<style scoped>\n",
       "    .dataframe tbody tr th:only-of-type {\n",
       "        vertical-align: middle;\n",
       "    }\n",
       "\n",
       "    .dataframe tbody tr th {\n",
       "        vertical-align: top;\n",
       "    }\n",
       "\n",
       "    .dataframe thead th {\n",
       "        text-align: right;\n",
       "    }\n",
       "</style>\n",
       "<table border=\"1\" class=\"dataframe\">\n",
       "  <thead>\n",
       "    <tr style=\"text-align: right;\">\n",
       "      <th></th>\n",
       "      <th>a_1</th>\n",
       "      <th>a_2</th>\n",
       "      <th>a_3</th>\n",
       "      <th>a_4</th>\n",
       "      <th>a_5</th>\n",
       "      <th>a_6</th>\n",
       "      <th>a_7</th>\n",
       "      <th>a_8</th>\n",
       "      <th>a_9</th>\n",
       "      <th>a_10</th>\n",
       "      <th>...</th>\n",
       "      <th>a_12</th>\n",
       "      <th>a_13</th>\n",
       "      <th>a_14</th>\n",
       "      <th>a_15</th>\n",
       "      <th>loudness</th>\n",
       "      <th>tempo</th>\n",
       "      <th>time_signature</th>\n",
       "      <th>key</th>\n",
       "      <th>mode</th>\n",
       "      <th>duration</th>\n",
       "    </tr>\n",
       "  </thead>\n",
       "  <tbody>\n",
       "    <tr>\n",
       "      <th>7698</th>\n",
       "      <td>-695.103025</td>\n",
       "      <td>828.530124</td>\n",
       "      <td>907.683908</td>\n",
       "      <td>504.522787</td>\n",
       "      <td>-205.012313</td>\n",
       "      <td>-175.628812</td>\n",
       "      <td>-238.673259</td>\n",
       "      <td>-53.813460</td>\n",
       "      <td>61.823467</td>\n",
       "      <td>-23.860582</td>\n",
       "      <td>...</td>\n",
       "      <td>-2.152334</td>\n",
       "      <td>-0.809349</td>\n",
       "      <td>37.203270</td>\n",
       "      <td>0.290234</td>\n",
       "      <td>-10.104</td>\n",
       "      <td>133.870</td>\n",
       "      <td>3</td>\n",
       "      <td>0</td>\n",
       "      <td>1</td>\n",
       "      <td>235.23220</td>\n",
       "    </tr>\n",
       "    <tr>\n",
       "      <th>3862</th>\n",
       "      <td>-183.546441</td>\n",
       "      <td>1507.338499</td>\n",
       "      <td>-1046.383070</td>\n",
       "      <td>-27.983386</td>\n",
       "      <td>-211.090516</td>\n",
       "      <td>-181.946241</td>\n",
       "      <td>-97.741257</td>\n",
       "      <td>271.094101</td>\n",
       "      <td>-98.785109</td>\n",
       "      <td>-4.581191</td>\n",
       "      <td>...</td>\n",
       "      <td>-1.689522</td>\n",
       "      <td>-33.458081</td>\n",
       "      <td>40.512411</td>\n",
       "      <td>1.284982</td>\n",
       "      <td>-10.123</td>\n",
       "      <td>142.200</td>\n",
       "      <td>7</td>\n",
       "      <td>2</td>\n",
       "      <td>0</td>\n",
       "      <td>184.78975</td>\n",
       "    </tr>\n",
       "    <tr>\n",
       "      <th>6827</th>\n",
       "      <td>-2406.666300</td>\n",
       "      <td>-469.988415</td>\n",
       "      <td>428.990157</td>\n",
       "      <td>132.151226</td>\n",
       "      <td>122.587944</td>\n",
       "      <td>129.592032</td>\n",
       "      <td>-27.540777</td>\n",
       "      <td>-23.349580</td>\n",
       "      <td>14.877462</td>\n",
       "      <td>-14.932470</td>\n",
       "      <td>...</td>\n",
       "      <td>-162.728928</td>\n",
       "      <td>16.559994</td>\n",
       "      <td>-20.545699</td>\n",
       "      <td>-0.736460</td>\n",
       "      <td>-9.296</td>\n",
       "      <td>85.286</td>\n",
       "      <td>4</td>\n",
       "      <td>11</td>\n",
       "      <td>0</td>\n",
       "      <td>256.96608</td>\n",
       "    </tr>\n",
       "    <tr>\n",
       "      <th>5190</th>\n",
       "      <td>-2764.637385</td>\n",
       "      <td>-1365.382576</td>\n",
       "      <td>552.349445</td>\n",
       "      <td>-300.079209</td>\n",
       "      <td>156.907433</td>\n",
       "      <td>144.580142</td>\n",
       "      <td>-203.625122</td>\n",
       "      <td>25.955755</td>\n",
       "      <td>-7.409934</td>\n",
       "      <td>-0.245687</td>\n",
       "      <td>...</td>\n",
       "      <td>-5.544392</td>\n",
       "      <td>0.738815</td>\n",
       "      <td>-15.852251</td>\n",
       "      <td>1.465365</td>\n",
       "      <td>-6.537</td>\n",
       "      <td>187.767</td>\n",
       "      <td>4</td>\n",
       "      <td>8</td>\n",
       "      <td>1</td>\n",
       "      <td>112.58730</td>\n",
       "    </tr>\n",
       "    <tr>\n",
       "      <th>64</th>\n",
       "      <td>-1316.953062</td>\n",
       "      <td>-657.408644</td>\n",
       "      <td>-300.854955</td>\n",
       "      <td>151.017495</td>\n",
       "      <td>-156.304815</td>\n",
       "      <td>-375.537434</td>\n",
       "      <td>-92.367865</td>\n",
       "      <td>-7.033122</td>\n",
       "      <td>105.191156</td>\n",
       "      <td>0.158172</td>\n",
       "      <td>...</td>\n",
       "      <td>-2.390720</td>\n",
       "      <td>-22.450413</td>\n",
       "      <td>6.042716</td>\n",
       "      <td>1.529971</td>\n",
       "      <td>-8.184</td>\n",
       "      <td>123.919</td>\n",
       "      <td>4</td>\n",
       "      <td>2</td>\n",
       "      <td>1</td>\n",
       "      <td>275.27791</td>\n",
       "    </tr>\n",
       "  </tbody>\n",
       "</table>\n",
       "<p>5 rows × 21 columns</p>\n",
       "</div>"
      ],
      "text/plain": [
       "              a_1          a_2          a_3         a_4         a_5  \\\n",
       "7698  -695.103025   828.530124   907.683908  504.522787 -205.012313   \n",
       "3862  -183.546441  1507.338499 -1046.383070  -27.983386 -211.090516   \n",
       "6827 -2406.666300  -469.988415   428.990157  132.151226  122.587944   \n",
       "5190 -2764.637385 -1365.382576   552.349445 -300.079209  156.907433   \n",
       "64   -1316.953062  -657.408644  -300.854955  151.017495 -156.304815   \n",
       "\n",
       "             a_6         a_7         a_8         a_9       a_10  ...  \\\n",
       "7698 -175.628812 -238.673259  -53.813460   61.823467 -23.860582  ...   \n",
       "3862 -181.946241  -97.741257  271.094101  -98.785109  -4.581191  ...   \n",
       "6827  129.592032  -27.540777  -23.349580   14.877462 -14.932470  ...   \n",
       "5190  144.580142 -203.625122   25.955755   -7.409934  -0.245687  ...   \n",
       "64   -375.537434  -92.367865   -7.033122  105.191156   0.158172  ...   \n",
       "\n",
       "            a_12       a_13       a_14      a_15  loudness    tempo  \\\n",
       "7698   -2.152334  -0.809349  37.203270  0.290234   -10.104  133.870   \n",
       "3862   -1.689522 -33.458081  40.512411  1.284982   -10.123  142.200   \n",
       "6827 -162.728928  16.559994 -20.545699 -0.736460    -9.296   85.286   \n",
       "5190   -5.544392   0.738815 -15.852251  1.465365    -6.537  187.767   \n",
       "64     -2.390720 -22.450413   6.042716  1.529971    -8.184  123.919   \n",
       "\n",
       "      time_signature  key  mode   duration  \n",
       "7698               3    0     1  235.23220  \n",
       "3862               7    2     0  184.78975  \n",
       "6827               4   11     0  256.96608  \n",
       "5190               4    8     1  112.58730  \n",
       "64                 4    2     1  275.27791  \n",
       "\n",
       "[5 rows x 21 columns]"
      ]
     },
     "execution_count": 35,
     "metadata": {},
     "output_type": "execute_result"
    }
   ],
   "source": [
    "X_train.head()"
   ]
  },
  {
   "cell_type": "code",
   "execution_count": null,
   "id": "b8a18d66",
   "metadata": {},
   "outputs": [],
   "source": [
    "import seaborn as sns\n",
    "sns.pairplot(Z)"
   ]
  },
  {
   "cell_type": "markdown",
   "id": "7b84357d",
   "metadata": {},
   "source": [
    "# Model Selection"
   ]
  },
  {
   "cell_type": "markdown",
   "id": "140b4d3d",
   "metadata": {},
   "source": [
    "## 1. Using Logistic Regresssion"
   ]
  },
  {
   "cell_type": "code",
   "execution_count": 307,
   "id": "fff3e807",
   "metadata": {},
   "outputs": [],
   "source": [
    "from sklearn.linear_model import LogisticRegression\n",
    "from sklearn.metrics import accuracy_score,confusion_matrix,classification_report\n",
    "from sklearn.model_selection import KFold,GridSearchCV,RandomizedSearchCV\n",
    "\n",
    "X_train,X_test,y_train,y_test = train_test_split(X,y,train_size=0.7,random_state=350)"
   ]
  },
  {
   "cell_type": "code",
   "execution_count": 308,
   "id": "8e324cf4",
   "metadata": {},
   "outputs": [],
   "source": [
    "log = LogisticRegression()"
   ]
  },
  {
   "cell_type": "code",
   "execution_count": 309,
   "id": "ed5a3ee3",
   "metadata": {},
   "outputs": [],
   "source": [
    "grid = {'C':10.0 **np.arange(-2,3),'penalty':['l1','l2']}\n",
    "cv = KFold(n_splits=5,shuffle=False)"
   ]
  },
  {
   "cell_type": "code",
   "execution_count": 310,
   "id": "371da575",
   "metadata": {},
   "outputs": [
    {
     "name": "stderr",
     "output_type": "stream",
     "text": [
      "C:\\Users\\Ganesh\\anaconda3\\lib\\site-packages\\sklearn\\model_selection\\_search.py:918: UserWarning: One or more of the test scores are non-finite: [       nan 0.23490076        nan 0.23946661        nan 0.23432073\n",
      "        nan 0.23824326        nan 0.23476758]\n",
      "  warnings.warn(\n",
      "C:\\Users\\Ganesh\\anaconda3\\lib\\site-packages\\sklearn\\linear_model\\_logistic.py:763: ConvergenceWarning: lbfgs failed to converge (status=1):\n",
      "STOP: TOTAL NO. of ITERATIONS REACHED LIMIT.\n",
      "\n",
      "Increase the number of iterations (max_iter) or scale the data as shown in:\n",
      "    https://scikit-learn.org/stable/modules/preprocessing.html\n",
      "Please also refer to the documentation for alternative solver options:\n",
      "    https://scikit-learn.org/stable/modules/linear_model.html#logistic-regression\n",
      "  n_iter_i = _check_optimize_result(\n"
     ]
    },
    {
     "data": {
      "text/plain": [
       "GridSearchCV(cv=KFold(n_splits=5, random_state=None, shuffle=False),\n",
       "             estimator=LogisticRegression(), n_jobs=-1,\n",
       "             param_grid={'C': array([1.e-02, 1.e-01, 1.e+00, 1.e+01, 1.e+02]),\n",
       "                         'penalty': ['l1', 'l2']},\n",
       "             scoring='f1_macro')"
      ]
     },
     "execution_count": 310,
     "metadata": {},
     "output_type": "execute_result"
    }
   ],
   "source": [
    "clf = GridSearchCV(log,grid,cv=cv,n_jobs=-1,scoring='f1_macro')\n",
    "clf.fit(X_train,y_train)"
   ]
  },
  {
   "cell_type": "code",
   "execution_count": 311,
   "id": "ec0665d9",
   "metadata": {},
   "outputs": [],
   "source": [
    "y_pred = clf.predict(X_test)"
   ]
  },
  {
   "cell_type": "code",
   "execution_count": 312,
   "id": "489f9123",
   "metadata": {},
   "outputs": [
    {
     "name": "stdout",
     "output_type": "stream",
     "text": [
      "[[  0   4   0   0   9   5  48  30]\n",
      " [  0   9   0   3  35   7  50  35]\n",
      " [  0   2   0   0  28  12  69  85]\n",
      " [  0   7   0  29  39  96  60  86]\n",
      " [  0  13   0   2 105   5  83  92]\n",
      " [  1   3   0  18   7 254  46  42]\n",
      " [  0   7   0   1  38  18 247 137]\n",
      " [  0   7   0   6  47  65 156 170]]\n",
      "0.3511647972389991\n",
      "              precision    recall  f1-score   support\n",
      "\n",
      "           0       0.00      0.00      0.00        96\n",
      "           1       0.17      0.06      0.09       139\n",
      "           2       0.00      0.00      0.00       196\n",
      "           3       0.49      0.09      0.15       317\n",
      "           4       0.34      0.35      0.35       300\n",
      "           5       0.55      0.68      0.61       371\n",
      "           6       0.33      0.55      0.41       448\n",
      "           7       0.25      0.38      0.30       451\n",
      "\n",
      "    accuracy                           0.35      2318\n",
      "   macro avg       0.27      0.26      0.24      2318\n",
      "weighted avg       0.32      0.35      0.31      2318\n",
      "\n"
     ]
    },
    {
     "name": "stderr",
     "output_type": "stream",
     "text": [
      "C:\\Users\\Ganesh\\anaconda3\\lib\\site-packages\\sklearn\\metrics\\_classification.py:1245: UndefinedMetricWarning: Precision and F-score are ill-defined and being set to 0.0 in labels with no predicted samples. Use `zero_division` parameter to control this behavior.\n",
      "  _warn_prf(average, modifier, msg_start, len(result))\n",
      "C:\\Users\\Ganesh\\anaconda3\\lib\\site-packages\\sklearn\\metrics\\_classification.py:1245: UndefinedMetricWarning: Precision and F-score are ill-defined and being set to 0.0 in labels with no predicted samples. Use `zero_division` parameter to control this behavior.\n",
      "  _warn_prf(average, modifier, msg_start, len(result))\n",
      "C:\\Users\\Ganesh\\anaconda3\\lib\\site-packages\\sklearn\\metrics\\_classification.py:1245: UndefinedMetricWarning: Precision and F-score are ill-defined and being set to 0.0 in labels with no predicted samples. Use `zero_division` parameter to control this behavior.\n",
      "  _warn_prf(average, modifier, msg_start, len(result))\n"
     ]
    }
   ],
   "source": [
    "print(confusion_matrix(y_test,y_pred))\n",
    "print(accuracy_score(y_test,y_pred))\n",
    "print(classification_report(y_test,y_pred))"
   ]
  },
  {
   "cell_type": "markdown",
   "id": "a6e3d29a",
   "metadata": {},
   "source": [
    "### 2. Random Forest"
   ]
  },
  {
   "cell_type": "code",
   "execution_count": 313,
   "id": "2a013ad5",
   "metadata": {},
   "outputs": [
    {
     "data": {
      "text/plain": [
       "RandomForestClassifier()"
      ]
     },
     "execution_count": 313,
     "metadata": {},
     "output_type": "execute_result"
    }
   ],
   "source": [
    "from sklearn.ensemble import RandomForestClassifier\n",
    "classifier = RandomForestClassifier()\n",
    "classifier.fit(X_train,y_train)"
   ]
  },
  {
   "cell_type": "code",
   "execution_count": 314,
   "id": "d03420cf",
   "metadata": {},
   "outputs": [
    {
     "name": "stdout",
     "output_type": "stream",
     "text": [
      "(2318, 154) (2318,) (2318,)\n",
      "[[  4   0   2   1  11   0  57  21]\n",
      " [  0  33   4  11  40   6  28  17]\n",
      " [  1   2  65   5  17   5  52  49]\n",
      " [  0   1   5 204  11  44  17  35]\n",
      " [  0   6  17   1 190   0  34  52]\n",
      " [  0   0   2  25   0 321   6  17]\n",
      " [  0   1   7   7  15   1 339  78]\n",
      " [  1   3  13  15  41  17 112 249]]\n",
      "0.6061259706643658\n",
      "              precision    recall  f1-score   support\n",
      "\n",
      "           0       0.67      0.04      0.08        96\n",
      "           1       0.72      0.24      0.36       139\n",
      "           2       0.57      0.33      0.42       196\n",
      "           3       0.76      0.64      0.70       317\n",
      "           4       0.58      0.63      0.61       300\n",
      "           5       0.81      0.87      0.84       371\n",
      "           6       0.53      0.76      0.62       448\n",
      "           7       0.48      0.55      0.51       451\n",
      "\n",
      "    accuracy                           0.61      2318\n",
      "   macro avg       0.64      0.51      0.52      2318\n",
      "weighted avg       0.62      0.61      0.59      2318\n",
      "\n"
     ]
    }
   ],
   "source": [
    "y_pred = classifier.predict(X_test)\n",
    "print(X_test.shape,y_pred.shape,y_test.shape)\n",
    "print(confusion_matrix(y_test,y_pred))\n",
    "print(accuracy_score(y_pred,y_test))\n",
    "print(classification_report(y_test,y_pred))"
   ]
  },
  {
   "cell_type": "code",
   "execution_count": 315,
   "id": "2fd00958",
   "metadata": {},
   "outputs": [
    {
     "name": "stdout",
     "output_type": "stream",
     "text": [
      "The accuracy for the Random Forest Classifier after doing label Encoding is: 0.6061259706643658 and 60.61259706643658 %\n"
     ]
    }
   ],
   "source": [
    "print(f'The accuracy for the Random Forest Classifier after doing label Encoding is: {accuracy_score(y_test,y_pred)} and {accuracy_score(y_test,y_pred)*100} %')\n"
   ]
  },
  {
   "cell_type": "code",
   "execution_count": 316,
   "id": "44550560",
   "metadata": {},
   "outputs": [],
   "source": [
    "### RF ### After Classification"
   ]
  },
  {
   "cell_type": "code",
   "execution_count": 317,
   "id": "4ae84f18",
   "metadata": {},
   "outputs": [],
   "source": [
    "grid_param = {\n",
    "    'n_estimators': [100,150,500],\n",
    "    'criterion': ['gini', 'entropy'],\n",
    "    'min_samples_leaf' : range(1,10,1),\n",
    "    'min_samples_split': range(2,10,1),\n",
    "    'max_features' : ['auto', 'sqrt']\n",
    "    \n",
    "}"
   ]
  },
  {
   "cell_type": "code",
   "execution_count": 318,
   "id": "ab5499fa",
   "metadata": {},
   "outputs": [],
   "source": [
    "Randomised_search = RandomizedSearchCV(estimator=classifier,param_distributions=grid_param,cv=10,n_jobs =1,verbose=2,scoring = 'neg_mean_squared_error',n_iter = 10,random_state = 50)"
   ]
  },
  {
   "cell_type": "code",
   "execution_count": 319,
   "id": "dbe9cdd8",
   "metadata": {},
   "outputs": [
    {
     "data": {
      "text/plain": [
       "10"
      ]
     },
     "execution_count": 319,
     "metadata": {},
     "output_type": "execute_result"
    }
   ],
   "source": [
    "Randomised_search.cv"
   ]
  },
  {
   "cell_type": "code",
   "execution_count": 320,
   "id": "23d8b190",
   "metadata": {},
   "outputs": [
    {
     "name": "stdout",
     "output_type": "stream",
     "text": [
      "Fitting 10 folds for each of 10 candidates, totalling 100 fits\n",
      "[CV] END criterion=entropy, max_features=auto, min_samples_leaf=9, min_samples_split=2, n_estimators=500; total time=  40.4s\n",
      "[CV] END criterion=entropy, max_features=auto, min_samples_leaf=9, min_samples_split=2, n_estimators=500; total time=  40.1s\n",
      "[CV] END criterion=entropy, max_features=auto, min_samples_leaf=9, min_samples_split=2, n_estimators=500; total time=  40.6s\n",
      "[CV] END criterion=entropy, max_features=auto, min_samples_leaf=9, min_samples_split=2, n_estimators=500; total time=  39.9s\n",
      "[CV] END criterion=entropy, max_features=auto, min_samples_leaf=9, min_samples_split=2, n_estimators=500; total time=  39.5s\n",
      "[CV] END criterion=entropy, max_features=auto, min_samples_leaf=9, min_samples_split=2, n_estimators=500; total time=  40.3s\n",
      "[CV] END criterion=entropy, max_features=auto, min_samples_leaf=9, min_samples_split=2, n_estimators=500; total time=  40.0s\n",
      "[CV] END criterion=entropy, max_features=auto, min_samples_leaf=9, min_samples_split=2, n_estimators=500; total time=  41.4s\n",
      "[CV] END criterion=entropy, max_features=auto, min_samples_leaf=9, min_samples_split=2, n_estimators=500; total time=  41.4s\n",
      "[CV] END criterion=entropy, max_features=auto, min_samples_leaf=9, min_samples_split=2, n_estimators=500; total time=  40.7s\n",
      "[CV] END criterion=entropy, max_features=sqrt, min_samples_leaf=1, min_samples_split=2, n_estimators=150; total time=  15.3s\n",
      "[CV] END criterion=entropy, max_features=sqrt, min_samples_leaf=1, min_samples_split=2, n_estimators=150; total time=  14.8s\n",
      "[CV] END criterion=entropy, max_features=sqrt, min_samples_leaf=1, min_samples_split=2, n_estimators=150; total time=  15.0s\n",
      "[CV] END criterion=entropy, max_features=sqrt, min_samples_leaf=1, min_samples_split=2, n_estimators=150; total time=  14.7s\n",
      "[CV] END criterion=entropy, max_features=sqrt, min_samples_leaf=1, min_samples_split=2, n_estimators=150; total time=  14.6s\n",
      "[CV] END criterion=entropy, max_features=sqrt, min_samples_leaf=1, min_samples_split=2, n_estimators=150; total time=  14.9s\n",
      "[CV] END criterion=entropy, max_features=sqrt, min_samples_leaf=1, min_samples_split=2, n_estimators=150; total time=  14.6s\n",
      "[CV] END criterion=entropy, max_features=sqrt, min_samples_leaf=1, min_samples_split=2, n_estimators=150; total time=  14.8s\n",
      "[CV] END criterion=entropy, max_features=sqrt, min_samples_leaf=1, min_samples_split=2, n_estimators=150; total time=  14.9s\n",
      "[CV] END criterion=entropy, max_features=sqrt, min_samples_leaf=1, min_samples_split=2, n_estimators=150; total time=  14.9s\n",
      "[CV] END criterion=entropy, max_features=sqrt, min_samples_leaf=4, min_samples_split=8, n_estimators=100; total time=   8.9s\n",
      "[CV] END criterion=entropy, max_features=sqrt, min_samples_leaf=4, min_samples_split=8, n_estimators=100; total time=   8.8s\n",
      "[CV] END criterion=entropy, max_features=sqrt, min_samples_leaf=4, min_samples_split=8, n_estimators=100; total time=   8.8s\n",
      "[CV] END criterion=entropy, max_features=sqrt, min_samples_leaf=4, min_samples_split=8, n_estimators=100; total time=   8.9s\n",
      "[CV] END criterion=entropy, max_features=sqrt, min_samples_leaf=4, min_samples_split=8, n_estimators=100; total time=   8.9s\n",
      "[CV] END criterion=entropy, max_features=sqrt, min_samples_leaf=4, min_samples_split=8, n_estimators=100; total time=   8.9s\n",
      "[CV] END criterion=entropy, max_features=sqrt, min_samples_leaf=4, min_samples_split=8, n_estimators=100; total time=   8.9s\n",
      "[CV] END criterion=entropy, max_features=sqrt, min_samples_leaf=4, min_samples_split=8, n_estimators=100; total time=   8.8s\n",
      "[CV] END criterion=entropy, max_features=sqrt, min_samples_leaf=4, min_samples_split=8, n_estimators=100; total time=   9.1s\n",
      "[CV] END criterion=entropy, max_features=sqrt, min_samples_leaf=4, min_samples_split=8, n_estimators=100; total time=   9.0s\n",
      "[CV] END criterion=entropy, max_features=auto, min_samples_leaf=2, min_samples_split=8, n_estimators=100; total time=   9.6s\n",
      "[CV] END criterion=entropy, max_features=auto, min_samples_leaf=2, min_samples_split=8, n_estimators=100; total time=   9.4s\n",
      "[CV] END criterion=entropy, max_features=auto, min_samples_leaf=2, min_samples_split=8, n_estimators=100; total time=   9.4s\n",
      "[CV] END criterion=entropy, max_features=auto, min_samples_leaf=2, min_samples_split=8, n_estimators=100; total time=   9.4s\n",
      "[CV] END criterion=entropy, max_features=auto, min_samples_leaf=2, min_samples_split=8, n_estimators=100; total time=   9.4s\n",
      "[CV] END criterion=entropy, max_features=auto, min_samples_leaf=2, min_samples_split=8, n_estimators=100; total time=   9.5s\n",
      "[CV] END criterion=entropy, max_features=auto, min_samples_leaf=2, min_samples_split=8, n_estimators=100; total time=   9.5s\n",
      "[CV] END criterion=entropy, max_features=auto, min_samples_leaf=2, min_samples_split=8, n_estimators=100; total time=   9.4s\n",
      "[CV] END criterion=entropy, max_features=auto, min_samples_leaf=2, min_samples_split=8, n_estimators=100; total time=   9.5s\n",
      "[CV] END criterion=entropy, max_features=auto, min_samples_leaf=2, min_samples_split=8, n_estimators=100; total time=   9.4s\n",
      "[CV] END criterion=entropy, max_features=sqrt, min_samples_leaf=5, min_samples_split=5, n_estimators=500; total time=  43.7s\n",
      "[CV] END criterion=entropy, max_features=sqrt, min_samples_leaf=5, min_samples_split=5, n_estimators=500; total time=  43.2s\n",
      "[CV] END criterion=entropy, max_features=sqrt, min_samples_leaf=5, min_samples_split=5, n_estimators=500; total time=  44.1s\n",
      "[CV] END criterion=entropy, max_features=sqrt, min_samples_leaf=5, min_samples_split=5, n_estimators=500; total time=  44.2s\n",
      "[CV] END criterion=entropy, max_features=sqrt, min_samples_leaf=5, min_samples_split=5, n_estimators=500; total time=  45.8s\n",
      "[CV] END criterion=entropy, max_features=sqrt, min_samples_leaf=5, min_samples_split=5, n_estimators=500; total time=  44.6s\n",
      "[CV] END criterion=entropy, max_features=sqrt, min_samples_leaf=5, min_samples_split=5, n_estimators=500; total time=  45.0s\n",
      "[CV] END criterion=entropy, max_features=sqrt, min_samples_leaf=5, min_samples_split=5, n_estimators=500; total time=  44.9s\n",
      "[CV] END criterion=entropy, max_features=sqrt, min_samples_leaf=5, min_samples_split=5, n_estimators=500; total time=  44.3s\n",
      "[CV] END criterion=entropy, max_features=sqrt, min_samples_leaf=5, min_samples_split=5, n_estimators=500; total time=  43.5s\n",
      "[CV] END criterion=entropy, max_features=sqrt, min_samples_leaf=3, min_samples_split=4, n_estimators=150; total time=  13.9s\n",
      "[CV] END criterion=entropy, max_features=sqrt, min_samples_leaf=3, min_samples_split=4, n_estimators=150; total time=  13.6s\n",
      "[CV] END criterion=entropy, max_features=sqrt, min_samples_leaf=3, min_samples_split=4, n_estimators=150; total time=  13.6s\n",
      "[CV] END criterion=entropy, max_features=sqrt, min_samples_leaf=3, min_samples_split=4, n_estimators=150; total time=  13.6s\n",
      "[CV] END criterion=entropy, max_features=sqrt, min_samples_leaf=3, min_samples_split=4, n_estimators=150; total time=  13.7s\n",
      "[CV] END criterion=entropy, max_features=sqrt, min_samples_leaf=3, min_samples_split=4, n_estimators=150; total time=  13.7s\n",
      "[CV] END criterion=entropy, max_features=sqrt, min_samples_leaf=3, min_samples_split=4, n_estimators=150; total time=  13.5s\n",
      "[CV] END criterion=entropy, max_features=sqrt, min_samples_leaf=3, min_samples_split=4, n_estimators=150; total time=  13.5s\n",
      "[CV] END criterion=entropy, max_features=sqrt, min_samples_leaf=3, min_samples_split=4, n_estimators=150; total time=  13.9s\n",
      "[CV] END criterion=entropy, max_features=sqrt, min_samples_leaf=3, min_samples_split=4, n_estimators=150; total time=  13.8s\n",
      "[CV] END criterion=entropy, max_features=auto, min_samples_leaf=1, min_samples_split=5, n_estimators=500; total time=  49.4s\n",
      "[CV] END criterion=entropy, max_features=auto, min_samples_leaf=1, min_samples_split=5, n_estimators=500; total time=  48.2s\n",
      "[CV] END criterion=entropy, max_features=auto, min_samples_leaf=1, min_samples_split=5, n_estimators=500; total time=  49.4s\n",
      "[CV] END criterion=entropy, max_features=auto, min_samples_leaf=1, min_samples_split=5, n_estimators=500; total time=  48.7s\n",
      "[CV] END criterion=entropy, max_features=auto, min_samples_leaf=1, min_samples_split=5, n_estimators=500; total time=  48.6s\n",
      "[CV] END criterion=entropy, max_features=auto, min_samples_leaf=1, min_samples_split=5, n_estimators=500; total time=  48.6s\n"
     ]
    },
    {
     "name": "stdout",
     "output_type": "stream",
     "text": [
      "[CV] END criterion=entropy, max_features=auto, min_samples_leaf=1, min_samples_split=5, n_estimators=500; total time=  47.5s\n",
      "[CV] END criterion=entropy, max_features=auto, min_samples_leaf=1, min_samples_split=5, n_estimators=500; total time=  47.3s\n",
      "[CV] END criterion=entropy, max_features=auto, min_samples_leaf=1, min_samples_split=5, n_estimators=500; total time=  47.4s\n",
      "[CV] END criterion=entropy, max_features=auto, min_samples_leaf=1, min_samples_split=5, n_estimators=500; total time=  46.8s\n",
      "[CV] END criterion=gini, max_features=auto, min_samples_leaf=9, min_samples_split=5, n_estimators=150; total time=   4.2s\n",
      "[CV] END criterion=gini, max_features=auto, min_samples_leaf=9, min_samples_split=5, n_estimators=150; total time=   4.2s\n",
      "[CV] END criterion=gini, max_features=auto, min_samples_leaf=9, min_samples_split=5, n_estimators=150; total time=   4.2s\n",
      "[CV] END criterion=gini, max_features=auto, min_samples_leaf=9, min_samples_split=5, n_estimators=150; total time=   4.2s\n",
      "[CV] END criterion=gini, max_features=auto, min_samples_leaf=9, min_samples_split=5, n_estimators=150; total time=   4.3s\n",
      "[CV] END criterion=gini, max_features=auto, min_samples_leaf=9, min_samples_split=5, n_estimators=150; total time=   4.2s\n",
      "[CV] END criterion=gini, max_features=auto, min_samples_leaf=9, min_samples_split=5, n_estimators=150; total time=   4.2s\n",
      "[CV] END criterion=gini, max_features=auto, min_samples_leaf=9, min_samples_split=5, n_estimators=150; total time=   4.2s\n",
      "[CV] END criterion=gini, max_features=auto, min_samples_leaf=9, min_samples_split=5, n_estimators=150; total time=   4.2s\n",
      "[CV] END criterion=gini, max_features=auto, min_samples_leaf=9, min_samples_split=5, n_estimators=150; total time=   4.2s\n",
      "[CV] END criterion=gini, max_features=auto, min_samples_leaf=3, min_samples_split=2, n_estimators=100; total time=   3.3s\n",
      "[CV] END criterion=gini, max_features=auto, min_samples_leaf=3, min_samples_split=2, n_estimators=100; total time=   3.4s\n",
      "[CV] END criterion=gini, max_features=auto, min_samples_leaf=3, min_samples_split=2, n_estimators=100; total time=   3.5s\n",
      "[CV] END criterion=gini, max_features=auto, min_samples_leaf=3, min_samples_split=2, n_estimators=100; total time=   3.4s\n",
      "[CV] END criterion=gini, max_features=auto, min_samples_leaf=3, min_samples_split=2, n_estimators=100; total time=   3.4s\n",
      "[CV] END criterion=gini, max_features=auto, min_samples_leaf=3, min_samples_split=2, n_estimators=100; total time=   3.4s\n",
      "[CV] END criterion=gini, max_features=auto, min_samples_leaf=3, min_samples_split=2, n_estimators=100; total time=   3.3s\n",
      "[CV] END criterion=gini, max_features=auto, min_samples_leaf=3, min_samples_split=2, n_estimators=100; total time=   3.4s\n",
      "[CV] END criterion=gini, max_features=auto, min_samples_leaf=3, min_samples_split=2, n_estimators=100; total time=   3.4s\n",
      "[CV] END criterion=gini, max_features=auto, min_samples_leaf=3, min_samples_split=2, n_estimators=100; total time=   3.3s\n",
      "[CV] END criterion=entropy, max_features=sqrt, min_samples_leaf=5, min_samples_split=4, n_estimators=500; total time=  44.2s\n",
      "[CV] END criterion=entropy, max_features=sqrt, min_samples_leaf=5, min_samples_split=4, n_estimators=500; total time=  43.9s\n",
      "[CV] END criterion=entropy, max_features=sqrt, min_samples_leaf=5, min_samples_split=4, n_estimators=500; total time=  43.1s\n",
      "[CV] END criterion=entropy, max_features=sqrt, min_samples_leaf=5, min_samples_split=4, n_estimators=500; total time=  42.8s\n",
      "[CV] END criterion=entropy, max_features=sqrt, min_samples_leaf=5, min_samples_split=4, n_estimators=500; total time=  43.3s\n",
      "[CV] END criterion=entropy, max_features=sqrt, min_samples_leaf=5, min_samples_split=4, n_estimators=500; total time=  45.2s\n",
      "[CV] END criterion=entropy, max_features=sqrt, min_samples_leaf=5, min_samples_split=4, n_estimators=500; total time=  44.3s\n",
      "[CV] END criterion=entropy, max_features=sqrt, min_samples_leaf=5, min_samples_split=4, n_estimators=500; total time=  44.7s\n",
      "[CV] END criterion=entropy, max_features=sqrt, min_samples_leaf=5, min_samples_split=4, n_estimators=500; total time=  43.2s\n",
      "[CV] END criterion=entropy, max_features=sqrt, min_samples_leaf=5, min_samples_split=4, n_estimators=500; total time=  42.5s\n"
     ]
    },
    {
     "data": {
      "text/plain": [
       "RandomizedSearchCV(cv=10, estimator=RandomForestClassifier(), n_jobs=1,\n",
       "                   param_distributions={'criterion': ['gini', 'entropy'],\n",
       "                                        'max_features': ['auto', 'sqrt'],\n",
       "                                        'min_samples_leaf': range(1, 10),\n",
       "                                        'min_samples_split': range(2, 10),\n",
       "                                        'n_estimators': [100, 150, 500]},\n",
       "                   random_state=50, scoring='neg_mean_squared_error',\n",
       "                   verbose=2)"
      ]
     },
     "execution_count": 320,
     "metadata": {},
     "output_type": "execute_result"
    }
   ],
   "source": [
    "Randomised_search.fit(X_train,y_train)"
   ]
  },
  {
   "cell_type": "code",
   "execution_count": 321,
   "id": "e57313de",
   "metadata": {},
   "outputs": [
    {
     "name": "stdout",
     "output_type": "stream",
     "text": [
      "0.6048317515099223\n"
     ]
    }
   ],
   "source": [
    "pred_HPT = Randomised_search.predict(X_test)\n",
    "\n",
    "print(accuracy_score(pred_HPT,y_test))\n"
   ]
  },
  {
   "cell_type": "markdown",
   "id": "d65c4d1a",
   "metadata": {},
   "source": [
    "## 3. Decision Trees"
   ]
  },
  {
   "cell_type": "code",
   "execution_count": 322,
   "id": "32b62f82",
   "metadata": {},
   "outputs": [
    {
     "data": {
      "text/plain": [
       "DecisionTreeClassifier()"
      ]
     },
     "execution_count": 322,
     "metadata": {},
     "output_type": "execute_result"
    }
   ],
   "source": [
    "from sklearn import tree\n",
    "from sklearn.tree import DecisionTreeClassifier\n",
    "clf = DecisionTreeClassifier()\n",
    "clf.fit(X_train,y_train)"
   ]
  },
  {
   "cell_type": "code",
   "execution_count": 323,
   "id": "7118b1aa",
   "metadata": {},
   "outputs": [
    {
     "data": {
      "text/plain": [
       "0.43485763589301124"
      ]
     },
     "execution_count": 323,
     "metadata": {},
     "output_type": "execute_result"
    }
   ],
   "source": [
    "clf.score(X_test,y_test)"
   ]
  },
  {
   "cell_type": "code",
   "execution_count": 324,
   "id": "9fe0c848",
   "metadata": {},
   "outputs": [],
   "source": [
    "grid_param = {\n",
    "    'criterion': ['gini', 'entropy'],\n",
    "    'max_depth' : range(2,32,1),\n",
    "    'min_samples_leaf' : range(1,10,1),\n",
    "    'min_samples_split': range(2,10,1),\n",
    "    'splitter' : ['best', 'random']\n",
    "    \n",
    "}"
   ]
  },
  {
   "cell_type": "code",
   "execution_count": 325,
   "id": "e438d1a2",
   "metadata": {},
   "outputs": [],
   "source": [
    "from sklearn.model_selection import train_test_split,GridSearchCV,RandomizedSearchCV\n",
    "\n",
    "Randomised_search = RandomizedSearchCV(estimator=clf,param_distributions=grid_param,cv=10,n_jobs =-1)"
   ]
  },
  {
   "cell_type": "code",
   "execution_count": 326,
   "id": "45152af8",
   "metadata": {},
   "outputs": [
    {
     "data": {
      "text/plain": [
       "RandomizedSearchCV(cv=10, estimator=DecisionTreeClassifier(), n_jobs=-1,\n",
       "                   param_distributions={'criterion': ['gini', 'entropy'],\n",
       "                                        'max_depth': range(2, 32),\n",
       "                                        'min_samples_leaf': range(1, 10),\n",
       "                                        'min_samples_split': range(2, 10),\n",
       "                                        'splitter': ['best', 'random']})"
      ]
     },
     "execution_count": 326,
     "metadata": {},
     "output_type": "execute_result"
    }
   ],
   "source": [
    "Randomised_search.fit(X_train,y_train)"
   ]
  },
  {
   "cell_type": "code",
   "execution_count": 327,
   "id": "527bad5f",
   "metadata": {},
   "outputs": [
    {
     "name": "stdout",
     "output_type": "stream",
     "text": [
      "{'splitter': 'best', 'min_samples_split': 5, 'min_samples_leaf': 2, 'max_depth': 7, 'criterion': 'gini'}\n"
     ]
    }
   ],
   "source": [
    "best_parameters = Randomised_search.best_params_\n",
    "print(best_parameters)"
   ]
  },
  {
   "cell_type": "code",
   "execution_count": 328,
   "id": "4558286e",
   "metadata": {},
   "outputs": [
    {
     "data": {
      "text/plain": [
       "DecisionTreeClassifier(max_depth=7, min_samples_split=7)"
      ]
     },
     "execution_count": 328,
     "metadata": {},
     "output_type": "execute_result"
    }
   ],
   "source": [
    "clf = DecisionTreeClassifier(criterion = 'gini', max_depth =7, min_samples_leaf= 1, min_samples_split= 7, splitter ='best')\n",
    "clf.fit(X_train,y_train)"
   ]
  },
  {
   "cell_type": "code",
   "execution_count": 329,
   "id": "3af4390c",
   "metadata": {},
   "outputs": [
    {
     "name": "stdout",
     "output_type": "stream",
     "text": [
      "The accuracy for the Decision Tree Classifier after doing label Encoding is: 0.47497842968075926 and 47.49784296807593 % \n"
     ]
    }
   ],
   "source": [
    "print(f'The accuracy for the Decision Tree Classifier after doing label Encoding is: {clf.score(X_test,y_test)} and {clf.score(X_test,y_test)*100} % ')"
   ]
  },
  {
   "cell_type": "code",
   "execution_count": 330,
   "id": "7a6478fe",
   "metadata": {},
   "outputs": [
    {
     "data": {
      "text/html": [
       "<div>\n",
       "<style scoped>\n",
       "    .dataframe tbody tr th:only-of-type {\n",
       "        vertical-align: middle;\n",
       "    }\n",
       "\n",
       "    .dataframe tbody tr th {\n",
       "        vertical-align: top;\n",
       "    }\n",
       "\n",
       "    .dataframe thead th {\n",
       "        text-align: right;\n",
       "    }\n",
       "</style>\n",
       "<table border=\"1\" class=\"dataframe\">\n",
       "  <thead>\n",
       "    <tr style=\"text-align: right;\">\n",
       "      <th></th>\n",
       "      <th>loudness</th>\n",
       "      <th>tempo</th>\n",
       "      <th>time_signature</th>\n",
       "      <th>key</th>\n",
       "      <th>mode</th>\n",
       "      <th>duration</th>\n",
       "      <th>vect_1</th>\n",
       "      <th>vect_2</th>\n",
       "      <th>vect_3</th>\n",
       "      <th>vect_4</th>\n",
       "      <th>...</th>\n",
       "      <th>vect_139</th>\n",
       "      <th>vect_140</th>\n",
       "      <th>vect_141</th>\n",
       "      <th>vect_142</th>\n",
       "      <th>vect_143</th>\n",
       "      <th>vect_144</th>\n",
       "      <th>vect_145</th>\n",
       "      <th>vect_146</th>\n",
       "      <th>vect_147</th>\n",
       "      <th>vect_148</th>\n",
       "    </tr>\n",
       "  </thead>\n",
       "  <tbody>\n",
       "    <tr>\n",
       "      <th>0</th>\n",
       "      <td>-8.539</td>\n",
       "      <td>104.341</td>\n",
       "      <td>3</td>\n",
       "      <td>7</td>\n",
       "      <td>1</td>\n",
       "      <td>298.73587</td>\n",
       "      <td>44.462048</td>\n",
       "      <td>-13.499814</td>\n",
       "      <td>26.257028</td>\n",
       "      <td>-2.794023</td>\n",
       "      <td>...</td>\n",
       "      <td>0.000308</td>\n",
       "      <td>0.000302</td>\n",
       "      <td>0.000302</td>\n",
       "      <td>0.000315</td>\n",
       "      <td>0.000297</td>\n",
       "      <td>0.000305</td>\n",
       "      <td>0.000266</td>\n",
       "      <td>0.000225</td>\n",
       "      <td>0.130826</td>\n",
       "      <td>1.071914</td>\n",
       "    </tr>\n",
       "    <tr>\n",
       "      <th>1</th>\n",
       "      <td>-9.637</td>\n",
       "      <td>126.003</td>\n",
       "      <td>4</td>\n",
       "      <td>10</td>\n",
       "      <td>0</td>\n",
       "      <td>412.94322</td>\n",
       "      <td>40.376622</td>\n",
       "      <td>27.546188</td>\n",
       "      <td>-24.231226</td>\n",
       "      <td>49.840873</td>\n",
       "      <td>...</td>\n",
       "      <td>0.000951</td>\n",
       "      <td>0.001039</td>\n",
       "      <td>0.001116</td>\n",
       "      <td>0.001166</td>\n",
       "      <td>0.001159</td>\n",
       "      <td>0.001110</td>\n",
       "      <td>0.001015</td>\n",
       "      <td>0.000895</td>\n",
       "      <td>0.116206</td>\n",
       "      <td>0.306846</td>\n",
       "    </tr>\n",
       "    <tr>\n",
       "      <th>2</th>\n",
       "      <td>-10.969</td>\n",
       "      <td>197.625</td>\n",
       "      <td>4</td>\n",
       "      <td>2</td>\n",
       "      <td>1</td>\n",
       "      <td>64.78322</td>\n",
       "      <td>45.598532</td>\n",
       "      <td>10.249509</td>\n",
       "      <td>52.666606</td>\n",
       "      <td>1.962486</td>\n",
       "      <td>...</td>\n",
       "      <td>0.000233</td>\n",
       "      <td>0.000284</td>\n",
       "      <td>0.000313</td>\n",
       "      <td>0.000325</td>\n",
       "      <td>0.000324</td>\n",
       "      <td>0.000299</td>\n",
       "      <td>0.000273</td>\n",
       "      <td>0.000236</td>\n",
       "      <td>0.163738</td>\n",
       "      <td>1.247803</td>\n",
       "    </tr>\n",
       "    <tr>\n",
       "      <th>3</th>\n",
       "      <td>-5.369</td>\n",
       "      <td>170.008</td>\n",
       "      <td>4</td>\n",
       "      <td>0</td>\n",
       "      <td>1</td>\n",
       "      <td>191.97342</td>\n",
       "      <td>47.159148</td>\n",
       "      <td>-52.070941</td>\n",
       "      <td>18.232822</td>\n",
       "      <td>31.694016</td>\n",
       "      <td>...</td>\n",
       "      <td>0.000853</td>\n",
       "      <td>0.000927</td>\n",
       "      <td>0.000994</td>\n",
       "      <td>0.001037</td>\n",
       "      <td>0.001051</td>\n",
       "      <td>0.001011</td>\n",
       "      <td>0.000962</td>\n",
       "      <td>0.000898</td>\n",
       "      <td>0.108193</td>\n",
       "      <td>0.366419</td>\n",
       "    </tr>\n",
       "    <tr>\n",
       "      <th>4</th>\n",
       "      <td>-16.516</td>\n",
       "      <td>142.254</td>\n",
       "      <td>5</td>\n",
       "      <td>4</td>\n",
       "      <td>1</td>\n",
       "      <td>146.75546</td>\n",
       "      <td>36.712606</td>\n",
       "      <td>-1.896533</td>\n",
       "      <td>3.454569</td>\n",
       "      <td>-9.656709</td>\n",
       "      <td>...</td>\n",
       "      <td>0.000109</td>\n",
       "      <td>0.000130</td>\n",
       "      <td>0.000132</td>\n",
       "      <td>0.000124</td>\n",
       "      <td>0.000117</td>\n",
       "      <td>0.000109</td>\n",
       "      <td>0.000107</td>\n",
       "      <td>0.000114</td>\n",
       "      <td>0.131246</td>\n",
       "      <td>0.693531</td>\n",
       "    </tr>\n",
       "    <tr>\n",
       "      <th>...</th>\n",
       "      <td>...</td>\n",
       "      <td>...</td>\n",
       "      <td>...</td>\n",
       "      <td>...</td>\n",
       "      <td>...</td>\n",
       "      <td>...</td>\n",
       "      <td>...</td>\n",
       "      <td>...</td>\n",
       "      <td>...</td>\n",
       "      <td>...</td>\n",
       "      <td>...</td>\n",
       "      <td>...</td>\n",
       "      <td>...</td>\n",
       "      <td>...</td>\n",
       "      <td>...</td>\n",
       "      <td>...</td>\n",
       "      <td>...</td>\n",
       "      <td>...</td>\n",
       "      <td>...</td>\n",
       "      <td>...</td>\n",
       "      <td>...</td>\n",
       "    </tr>\n",
       "    <tr>\n",
       "      <th>7719</th>\n",
       "      <td>-13.483</td>\n",
       "      <td>117.425</td>\n",
       "      <td>4</td>\n",
       "      <td>0</td>\n",
       "      <td>1</td>\n",
       "      <td>197.53751</td>\n",
       "      <td>39.984047</td>\n",
       "      <td>-29.873895</td>\n",
       "      <td>16.388624</td>\n",
       "      <td>-3.624151</td>\n",
       "      <td>...</td>\n",
       "      <td>0.000580</td>\n",
       "      <td>0.000614</td>\n",
       "      <td>0.000633</td>\n",
       "      <td>0.000637</td>\n",
       "      <td>0.000634</td>\n",
       "      <td>0.000633</td>\n",
       "      <td>0.000613</td>\n",
       "      <td>0.000588</td>\n",
       "      <td>0.149750</td>\n",
       "      <td>1.077480</td>\n",
       "    </tr>\n",
       "    <tr>\n",
       "      <th>7720</th>\n",
       "      <td>-11.508</td>\n",
       "      <td>90.552</td>\n",
       "      <td>3</td>\n",
       "      <td>9</td>\n",
       "      <td>1</td>\n",
       "      <td>259.36934</td>\n",
       "      <td>39.272394</td>\n",
       "      <td>-26.411095</td>\n",
       "      <td>-54.721705</td>\n",
       "      <td>-8.332000</td>\n",
       "      <td>...</td>\n",
       "      <td>0.001244</td>\n",
       "      <td>0.001331</td>\n",
       "      <td>0.001404</td>\n",
       "      <td>0.001448</td>\n",
       "      <td>0.001455</td>\n",
       "      <td>0.001431</td>\n",
       "      <td>0.001375</td>\n",
       "      <td>0.001291</td>\n",
       "      <td>0.077494</td>\n",
       "      <td>0.303018</td>\n",
       "    </tr>\n",
       "    <tr>\n",
       "      <th>7721</th>\n",
       "      <td>-1.503</td>\n",
       "      <td>121.536</td>\n",
       "      <td>1</td>\n",
       "      <td>2</td>\n",
       "      <td>1</td>\n",
       "      <td>55.90159</td>\n",
       "      <td>53.644921</td>\n",
       "      <td>24.539225</td>\n",
       "      <td>55.392031</td>\n",
       "      <td>1.823932</td>\n",
       "      <td>...</td>\n",
       "      <td>0.001576</td>\n",
       "      <td>0.001609</td>\n",
       "      <td>0.001584</td>\n",
       "      <td>0.002127</td>\n",
       "      <td>0.001386</td>\n",
       "      <td>0.001560</td>\n",
       "      <td>0.002559</td>\n",
       "      <td>0.002041</td>\n",
       "      <td>0.305190</td>\n",
       "      <td>7.420716</td>\n",
       "    </tr>\n",
       "    <tr>\n",
       "      <th>7722</th>\n",
       "      <td>-15.945</td>\n",
       "      <td>129.310</td>\n",
       "      <td>4</td>\n",
       "      <td>4</td>\n",
       "      <td>1</td>\n",
       "      <td>375.37914</td>\n",
       "      <td>32.199930</td>\n",
       "      <td>25.827725</td>\n",
       "      <td>-25.355410</td>\n",
       "      <td>24.817765</td>\n",
       "      <td>...</td>\n",
       "      <td>0.000270</td>\n",
       "      <td>0.000296</td>\n",
       "      <td>0.000323</td>\n",
       "      <td>0.000344</td>\n",
       "      <td>0.000348</td>\n",
       "      <td>0.000333</td>\n",
       "      <td>0.000305</td>\n",
       "      <td>0.000267</td>\n",
       "      <td>0.178468</td>\n",
       "      <td>0.712929</td>\n",
       "    </tr>\n",
       "    <tr>\n",
       "      <th>7723</th>\n",
       "      <td>-11.594</td>\n",
       "      <td>93.081</td>\n",
       "      <td>3</td>\n",
       "      <td>0</td>\n",
       "      <td>1</td>\n",
       "      <td>154.17424</td>\n",
       "      <td>42.784899</td>\n",
       "      <td>-8.480427</td>\n",
       "      <td>-7.134557</td>\n",
       "      <td>-12.212979</td>\n",
       "      <td>...</td>\n",
       "      <td>0.000293</td>\n",
       "      <td>0.000282</td>\n",
       "      <td>0.000267</td>\n",
       "      <td>0.000275</td>\n",
       "      <td>0.000256</td>\n",
       "      <td>0.000212</td>\n",
       "      <td>0.000188</td>\n",
       "      <td>0.000191</td>\n",
       "      <td>0.184350</td>\n",
       "      <td>0.919770</td>\n",
       "    </tr>\n",
       "  </tbody>\n",
       "</table>\n",
       "<p>7724 rows × 154 columns</p>\n",
       "</div>"
      ],
      "text/plain": [
       "      loudness    tempo  time_signature  key  mode   duration     vect_1  \\\n",
       "0       -8.539  104.341               3    7     1  298.73587  44.462048   \n",
       "1       -9.637  126.003               4   10     0  412.94322  40.376622   \n",
       "2      -10.969  197.625               4    2     1   64.78322  45.598532   \n",
       "3       -5.369  170.008               4    0     1  191.97342  47.159148   \n",
       "4      -16.516  142.254               5    4     1  146.75546  36.712606   \n",
       "...        ...      ...             ...  ...   ...        ...        ...   \n",
       "7719   -13.483  117.425               4    0     1  197.53751  39.984047   \n",
       "7720   -11.508   90.552               3    9     1  259.36934  39.272394   \n",
       "7721    -1.503  121.536               1    2     1   55.90159  53.644921   \n",
       "7722   -15.945  129.310               4    4     1  375.37914  32.199930   \n",
       "7723   -11.594   93.081               3    0     1  154.17424  42.784899   \n",
       "\n",
       "         vect_2     vect_3     vect_4  ...  vect_139  vect_140  vect_141  \\\n",
       "0    -13.499814  26.257028  -2.794023  ...  0.000308  0.000302  0.000302   \n",
       "1     27.546188 -24.231226  49.840873  ...  0.000951  0.001039  0.001116   \n",
       "2     10.249509  52.666606   1.962486  ...  0.000233  0.000284  0.000313   \n",
       "3    -52.070941  18.232822  31.694016  ...  0.000853  0.000927  0.000994   \n",
       "4     -1.896533   3.454569  -9.656709  ...  0.000109  0.000130  0.000132   \n",
       "...         ...        ...        ...  ...       ...       ...       ...   \n",
       "7719 -29.873895  16.388624  -3.624151  ...  0.000580  0.000614  0.000633   \n",
       "7720 -26.411095 -54.721705  -8.332000  ...  0.001244  0.001331  0.001404   \n",
       "7721  24.539225  55.392031   1.823932  ...  0.001576  0.001609  0.001584   \n",
       "7722  25.827725 -25.355410  24.817765  ...  0.000270  0.000296  0.000323   \n",
       "7723  -8.480427  -7.134557 -12.212979  ...  0.000293  0.000282  0.000267   \n",
       "\n",
       "      vect_142  vect_143  vect_144  vect_145  vect_146  vect_147  vect_148  \n",
       "0     0.000315  0.000297  0.000305  0.000266  0.000225  0.130826  1.071914  \n",
       "1     0.001166  0.001159  0.001110  0.001015  0.000895  0.116206  0.306846  \n",
       "2     0.000325  0.000324  0.000299  0.000273  0.000236  0.163738  1.247803  \n",
       "3     0.001037  0.001051  0.001011  0.000962  0.000898  0.108193  0.366419  \n",
       "4     0.000124  0.000117  0.000109  0.000107  0.000114  0.131246  0.693531  \n",
       "...        ...       ...       ...       ...       ...       ...       ...  \n",
       "7719  0.000637  0.000634  0.000633  0.000613  0.000588  0.149750  1.077480  \n",
       "7720  0.001448  0.001455  0.001431  0.001375  0.001291  0.077494  0.303018  \n",
       "7721  0.002127  0.001386  0.001560  0.002559  0.002041  0.305190  7.420716  \n",
       "7722  0.000344  0.000348  0.000333  0.000305  0.000267  0.178468  0.712929  \n",
       "7723  0.000275  0.000256  0.000212  0.000188  0.000191  0.184350  0.919770  \n",
       "\n",
       "[7724 rows x 154 columns]"
      ]
     },
     "execution_count": 330,
     "metadata": {},
     "output_type": "execute_result"
    }
   ],
   "source": [
    "X"
   ]
  },
  {
   "cell_type": "markdown",
   "id": "ca1d3cd4",
   "metadata": {},
   "source": [
    "## 4. Using XG BOOST"
   ]
  },
  {
   "cell_type": "code",
   "execution_count": 331,
   "id": "d766eb04",
   "metadata": {},
   "outputs": [],
   "source": [
    "import xgboost as xgb\n",
    "\n"
   ]
  },
  {
   "cell_type": "code",
   "execution_count": 332,
   "id": "80145a05",
   "metadata": {},
   "outputs": [],
   "source": [
    "from xgboost import XGBClassifier\n",
    "from sklearn.metrics import accuracy_score"
   ]
  },
  {
   "cell_type": "markdown",
   "id": "bd4a74f4",
   "metadata": {},
   "source": [
    "### USING PCA"
   ]
  },
  {
   "cell_type": "code",
   "execution_count": 333,
   "id": "2d78bf57",
   "metadata": {},
   "outputs": [],
   "source": [
    "\n",
    "train_x,test_x,train_y,test_y=train_test_split(Z,y,test_size=0.3,random_state=420)\n"
   ]
  },
  {
   "cell_type": "code",
   "execution_count": 334,
   "id": "39dab002",
   "metadata": {},
   "outputs": [
    {
     "data": {
      "text/plain": [
       "21"
      ]
     },
     "execution_count": 334,
     "metadata": {},
     "output_type": "execute_result"
    }
   ],
   "source": [
    "len(list(train_x.columns))"
   ]
  },
  {
   "cell_type": "code",
   "execution_count": 335,
   "id": "8dbbb360",
   "metadata": {},
   "outputs": [
    {
     "name": "stderr",
     "output_type": "stream",
     "text": [
      "C:\\Users\\Ganesh\\anaconda3\\lib\\site-packages\\xgboost\\sklearn.py:888: UserWarning: The use of label encoder in XGBClassifier is deprecated and will be removed in a future release. To remove this warning, do the following: 1) Pass option use_label_encoder=False when constructing XGBClassifier object; and 2) Encode your labels (y) as integers starting with 0, i.e. 0, 1, 2, ..., [num_class - 1].\n",
      "  warnings.warn(label_encoder_deprecation_msg, UserWarning)\n"
     ]
    },
    {
     "name": "stdout",
     "output_type": "stream",
     "text": [
      "[16:35:24] WARNING: ..\\src\\learner.cc:1061: Starting in XGBoost 1.3.0, the default evaluation metric used with the objective 'multi:softprob' was changed from 'merror' to 'mlogloss'. Explicitly set eval_metric if you'd like to restore the old behavior.\n"
     ]
    },
    {
     "data": {
      "text/plain": [
       "XGBClassifier(base_score=0.5, booster='gbtree', colsample_bylevel=1,\n",
       "              colsample_bynode=1, colsample_bytree=1, gamma=0, gpu_id=-1,\n",
       "              importance_type='gain', interaction_constraints='',\n",
       "              learning_rate=0.300000012, max_delta_step=0, max_depth=6,\n",
       "              min_child_weight=1, missing=nan, monotone_constraints='()',\n",
       "              n_estimators=100, n_jobs=6, num_parallel_tree=1,\n",
       "              objective='multi:softprob', random_state=0, reg_alpha=0,\n",
       "              reg_lambda=1, scale_pos_weight=None, subsample=1,\n",
       "              tree_method='exact', validate_parameters=1, verbosity=None)"
      ]
     },
     "execution_count": 335,
     "metadata": {},
     "output_type": "execute_result"
    }
   ],
   "source": [
    "# no training data\n",
    "\n",
    "model = XGBClassifier(objective='binary:logistic')\n",
    "\n",
    "model.fit(train_x, train_y)"
   ]
  },
  {
   "cell_type": "code",
   "execution_count": 336,
   "id": "12223d14",
   "metadata": {},
   "outputs": [
    {
     "data": {
      "text/plain": [
       "0.5181190681622088"
      ]
     },
     "execution_count": 336,
     "metadata": {},
     "output_type": "execute_result"
    }
   ],
   "source": [
    "model.score(test_x,test_y)"
   ]
  },
  {
   "cell_type": "code",
   "execution_count": 337,
   "id": "0a1f7377",
   "metadata": {},
   "outputs": [
    {
     "data": {
      "text/plain": [
       "0.5181190681622088"
      ]
     },
     "execution_count": 337,
     "metadata": {},
     "output_type": "execute_result"
    }
   ],
   "source": [
    "pred = model.predict(test_x)\n",
    "accuracy_score(pred,test_y)"
   ]
  },
  {
   "cell_type": "code",
   "execution_count": 338,
   "id": "e2712382",
   "metadata": {},
   "outputs": [],
   "source": [
    "#### XG Boost after Tuning ####"
   ]
  },
  {
   "cell_type": "code",
   "execution_count": 339,
   "id": "a6c2be0d",
   "metadata": {},
   "outputs": [],
   "source": [
    "params = {\n",
    "    'learning_rate': [0.005,0.05,0.10,0.15,0.20,0.30],\n",
    "    'max_depth' : [3,4,5,6,8,10,15],\n",
    "    'min_child_weight': [1,3,5,7],\n",
    "    'gamma': [0.1,0.2,0.3,0.0]\n",
    "}"
   ]
  },
  {
   "cell_type": "code",
   "execution_count": 340,
   "id": "8bc2bc77",
   "metadata": {},
   "outputs": [],
   "source": [
    "from sklearn.model_selection import RandomizedSearchCV\n",
    "random_search = RandomizedSearchCV(model,param_distributions=params,n_iter=5,scoring='roc_auc',n_jobs=-1,verbose=2,cv=5)"
   ]
  },
  {
   "cell_type": "code",
   "execution_count": 341,
   "id": "77654b02",
   "metadata": {},
   "outputs": [
    {
     "name": "stdout",
     "output_type": "stream",
     "text": [
      "Fitting 5 folds for each of 5 candidates, totalling 25 fits\n"
     ]
    },
    {
     "name": "stderr",
     "output_type": "stream",
     "text": [
      "C:\\Users\\Ganesh\\anaconda3\\lib\\site-packages\\sklearn\\model_selection\\_search.py:918: UserWarning: One or more of the test scores are non-finite: [nan nan nan nan nan]\n",
      "  warnings.warn(\n",
      "C:\\Users\\Ganesh\\anaconda3\\lib\\site-packages\\xgboost\\sklearn.py:888: UserWarning: The use of label encoder in XGBClassifier is deprecated and will be removed in a future release. To remove this warning, do the following: 1) Pass option use_label_encoder=False when constructing XGBClassifier object; and 2) Encode your labels (y) as integers starting with 0, i.e. 0, 1, 2, ..., [num_class - 1].\n",
      "  warnings.warn(label_encoder_deprecation_msg, UserWarning)\n"
     ]
    },
    {
     "name": "stdout",
     "output_type": "stream",
     "text": [
      "[16:36:27] WARNING: ..\\src\\learner.cc:1061: Starting in XGBoost 1.3.0, the default evaluation metric used with the objective 'multi:softprob' was changed from 'merror' to 'mlogloss'. Explicitly set eval_metric if you'd like to restore the old behavior.\n"
     ]
    },
    {
     "data": {
      "text/plain": [
       "RandomizedSearchCV(cv=5,\n",
       "                   estimator=XGBClassifier(base_score=0.5, booster='gbtree',\n",
       "                                           colsample_bylevel=1,\n",
       "                                           colsample_bynode=1,\n",
       "                                           colsample_bytree=1, gamma=0,\n",
       "                                           gpu_id=-1, importance_type='gain',\n",
       "                                           interaction_constraints='',\n",
       "                                           learning_rate=0.300000012,\n",
       "                                           max_delta_step=0, max_depth=6,\n",
       "                                           min_child_weight=1, missing=nan,\n",
       "                                           monotone_constraints='()',\n",
       "                                           n_estimators=100, n_jobs=6,\n",
       "                                           num_pa...\n",
       "                                           objective='multi:softprob',\n",
       "                                           random_state=0, reg_alpha=0,\n",
       "                                           reg_lambda=1, scale_pos_weight=None,\n",
       "                                           subsample=1, tree_method='exact',\n",
       "                                           validate_parameters=1,\n",
       "                                           verbosity=None),\n",
       "                   n_iter=5, n_jobs=-1,\n",
       "                   param_distributions={'gamma': [0.1, 0.2, 0.3, 0.0],\n",
       "                                        'learning_rate': [0.005, 0.05, 0.1,\n",
       "                                                          0.15, 0.2, 0.3],\n",
       "                                        'max_depth': [3, 4, 5, 6, 8, 10, 15],\n",
       "                                        'min_child_weight': [1, 3, 5, 7]},\n",
       "                   scoring='roc_auc', verbose=2)"
      ]
     },
     "execution_count": 341,
     "metadata": {},
     "output_type": "execute_result"
    }
   ],
   "source": [
    "random_search.fit(train_x,train_y)"
   ]
  },
  {
   "cell_type": "code",
   "execution_count": 342,
   "id": "d954fa21",
   "metadata": {},
   "outputs": [
    {
     "data": {
      "text/plain": [
       "XGBClassifier(base_score=0.5, booster='gbtree', colsample_bylevel=1,\n",
       "              colsample_bynode=1, colsample_bytree=1, gamma=0.1, gpu_id=-1,\n",
       "              importance_type='gain', interaction_constraints='',\n",
       "              learning_rate=0.15, max_delta_step=0, max_depth=4,\n",
       "              min_child_weight=7, missing=nan, monotone_constraints='()',\n",
       "              n_estimators=100, n_jobs=6, num_parallel_tree=1,\n",
       "              objective='multi:softprob', random_state=0, reg_alpha=0,\n",
       "              reg_lambda=1, scale_pos_weight=None, subsample=1,\n",
       "              tree_method='exact', validate_parameters=1, verbosity=None)"
      ]
     },
     "execution_count": 342,
     "metadata": {},
     "output_type": "execute_result"
    }
   ],
   "source": [
    "random_search.best_estimator_"
   ]
  },
  {
   "cell_type": "code",
   "execution_count": 343,
   "id": "bd3a78aa",
   "metadata": {},
   "outputs": [],
   "source": [
    "import xgboost\n",
    "new_xgboost_class = xgboost.XGBClassifier(base_score=0.5, booster='gbtree', colsample_bylevel=1,\n",
    "              colsample_bynode=1, colsample_bytree=1, gamma=0.1, gpu_id=-1,\n",
    "              importance_type='gain', interaction_constraints='',\n",
    "              learning_rate=0.05, max_delta_step=0, max_depth=5,\n",
    "              min_child_weight=5, missing=None, monotone_constraints='()',\n",
    "              n_estimators=100, n_jobs=6, num_parallel_tree=1,\n",
    "              objective='multi:softprob', random_state=0, reg_alpha=0,\n",
    "              reg_lambda=1, scale_pos_weight=None, subsample=1,\n",
    "              tree_method='exact', validate_parameters=1, verbosity=None)"
   ]
  },
  {
   "cell_type": "code",
   "execution_count": 344,
   "id": "a9501bc8",
   "metadata": {},
   "outputs": [
    {
     "name": "stderr",
     "output_type": "stream",
     "text": [
      "C:\\Users\\Ganesh\\anaconda3\\lib\\site-packages\\xgboost\\sklearn.py:888: UserWarning: The use of label encoder in XGBClassifier is deprecated and will be removed in a future release. To remove this warning, do the following: 1) Pass option use_label_encoder=False when constructing XGBClassifier object; and 2) Encode your labels (y) as integers starting with 0, i.e. 0, 1, 2, ..., [num_class - 1].\n",
      "  warnings.warn(label_encoder_deprecation_msg, UserWarning)\n"
     ]
    },
    {
     "name": "stdout",
     "output_type": "stream",
     "text": [
      "[16:36:30] WARNING: ..\\src\\learner.cc:1061: Starting in XGBoost 1.3.0, the default evaluation metric used with the objective 'multi:softprob' was changed from 'merror' to 'mlogloss'. Explicitly set eval_metric if you'd like to restore the old behavior.\n"
     ]
    },
    {
     "name": "stderr",
     "output_type": "stream",
     "text": [
      "C:\\Users\\Ganesh\\anaconda3\\lib\\site-packages\\xgboost\\sklearn.py:888: UserWarning: The use of label encoder in XGBClassifier is deprecated and will be removed in a future release. To remove this warning, do the following: 1) Pass option use_label_encoder=False when constructing XGBClassifier object; and 2) Encode your labels (y) as integers starting with 0, i.e. 0, 1, 2, ..., [num_class - 1].\n",
      "  warnings.warn(label_encoder_deprecation_msg, UserWarning)\n"
     ]
    },
    {
     "name": "stdout",
     "output_type": "stream",
     "text": [
      "[16:36:56] WARNING: ..\\src\\learner.cc:1061: Starting in XGBoost 1.3.0, the default evaluation metric used with the objective 'multi:softprob' was changed from 'merror' to 'mlogloss'. Explicitly set eval_metric if you'd like to restore the old behavior.\n"
     ]
    },
    {
     "name": "stderr",
     "output_type": "stream",
     "text": [
      "C:\\Users\\Ganesh\\anaconda3\\lib\\site-packages\\xgboost\\sklearn.py:888: UserWarning: The use of label encoder in XGBClassifier is deprecated and will be removed in a future release. To remove this warning, do the following: 1) Pass option use_label_encoder=False when constructing XGBClassifier object; and 2) Encode your labels (y) as integers starting with 0, i.e. 0, 1, 2, ..., [num_class - 1].\n",
      "  warnings.warn(label_encoder_deprecation_msg, UserWarning)\n"
     ]
    },
    {
     "name": "stdout",
     "output_type": "stream",
     "text": [
      "[16:37:22] WARNING: ..\\src\\learner.cc:1061: Starting in XGBoost 1.3.0, the default evaluation metric used with the objective 'multi:softprob' was changed from 'merror' to 'mlogloss'. Explicitly set eval_metric if you'd like to restore the old behavior.\n"
     ]
    },
    {
     "name": "stderr",
     "output_type": "stream",
     "text": [
      "C:\\Users\\Ganesh\\anaconda3\\lib\\site-packages\\xgboost\\sklearn.py:888: UserWarning: The use of label encoder in XGBClassifier is deprecated and will be removed in a future release. To remove this warning, do the following: 1) Pass option use_label_encoder=False when constructing XGBClassifier object; and 2) Encode your labels (y) as integers starting with 0, i.e. 0, 1, 2, ..., [num_class - 1].\n",
      "  warnings.warn(label_encoder_deprecation_msg, UserWarning)\n"
     ]
    },
    {
     "name": "stdout",
     "output_type": "stream",
     "text": [
      "[16:37:45] WARNING: ..\\src\\learner.cc:1061: Starting in XGBoost 1.3.0, the default evaluation metric used with the objective 'multi:softprob' was changed from 'merror' to 'mlogloss'. Explicitly set eval_metric if you'd like to restore the old behavior.\n"
     ]
    },
    {
     "name": "stderr",
     "output_type": "stream",
     "text": [
      "C:\\Users\\Ganesh\\anaconda3\\lib\\site-packages\\xgboost\\sklearn.py:888: UserWarning: The use of label encoder in XGBClassifier is deprecated and will be removed in a future release. To remove this warning, do the following: 1) Pass option use_label_encoder=False when constructing XGBClassifier object; and 2) Encode your labels (y) as integers starting with 0, i.e. 0, 1, 2, ..., [num_class - 1].\n",
      "  warnings.warn(label_encoder_deprecation_msg, UserWarning)\n"
     ]
    },
    {
     "name": "stdout",
     "output_type": "stream",
     "text": [
      "[16:38:08] WARNING: ..\\src\\learner.cc:1061: Starting in XGBoost 1.3.0, the default evaluation metric used with the objective 'multi:softprob' was changed from 'merror' to 'mlogloss'. Explicitly set eval_metric if you'd like to restore the old behavior.\n"
     ]
    },
    {
     "name": "stderr",
     "output_type": "stream",
     "text": [
      "C:\\Users\\Ganesh\\anaconda3\\lib\\site-packages\\xgboost\\sklearn.py:888: UserWarning: The use of label encoder in XGBClassifier is deprecated and will be removed in a future release. To remove this warning, do the following: 1) Pass option use_label_encoder=False when constructing XGBClassifier object; and 2) Encode your labels (y) as integers starting with 0, i.e. 0, 1, 2, ..., [num_class - 1].\n",
      "  warnings.warn(label_encoder_deprecation_msg, UserWarning)\n"
     ]
    },
    {
     "name": "stdout",
     "output_type": "stream",
     "text": [
      "[16:38:33] WARNING: ..\\src\\learner.cc:1061: Starting in XGBoost 1.3.0, the default evaluation metric used with the objective 'multi:softprob' was changed from 'merror' to 'mlogloss'. Explicitly set eval_metric if you'd like to restore the old behavior.\n"
     ]
    },
    {
     "name": "stderr",
     "output_type": "stream",
     "text": [
      "C:\\Users\\Ganesh\\anaconda3\\lib\\site-packages\\xgboost\\sklearn.py:888: UserWarning: The use of label encoder in XGBClassifier is deprecated and will be removed in a future release. To remove this warning, do the following: 1) Pass option use_label_encoder=False when constructing XGBClassifier object; and 2) Encode your labels (y) as integers starting with 0, i.e. 0, 1, 2, ..., [num_class - 1].\n",
      "  warnings.warn(label_encoder_deprecation_msg, UserWarning)\n"
     ]
    },
    {
     "name": "stdout",
     "output_type": "stream",
     "text": [
      "[16:38:57] WARNING: ..\\src\\learner.cc:1061: Starting in XGBoost 1.3.0, the default evaluation metric used with the objective 'multi:softprob' was changed from 'merror' to 'mlogloss'. Explicitly set eval_metric if you'd like to restore the old behavior.\n"
     ]
    },
    {
     "name": "stderr",
     "output_type": "stream",
     "text": [
      "C:\\Users\\Ganesh\\anaconda3\\lib\\site-packages\\xgboost\\sklearn.py:888: UserWarning: The use of label encoder in XGBClassifier is deprecated and will be removed in a future release. To remove this warning, do the following: 1) Pass option use_label_encoder=False when constructing XGBClassifier object; and 2) Encode your labels (y) as integers starting with 0, i.e. 0, 1, 2, ..., [num_class - 1].\n",
      "  warnings.warn(label_encoder_deprecation_msg, UserWarning)\n"
     ]
    },
    {
     "name": "stdout",
     "output_type": "stream",
     "text": [
      "[16:39:20] WARNING: ..\\src\\learner.cc:1061: Starting in XGBoost 1.3.0, the default evaluation metric used with the objective 'multi:softprob' was changed from 'merror' to 'mlogloss'. Explicitly set eval_metric if you'd like to restore the old behavior.\n"
     ]
    },
    {
     "name": "stderr",
     "output_type": "stream",
     "text": [
      "C:\\Users\\Ganesh\\anaconda3\\lib\\site-packages\\xgboost\\sklearn.py:888: UserWarning: The use of label encoder in XGBClassifier is deprecated and will be removed in a future release. To remove this warning, do the following: 1) Pass option use_label_encoder=False when constructing XGBClassifier object; and 2) Encode your labels (y) as integers starting with 0, i.e. 0, 1, 2, ..., [num_class - 1].\n",
      "  warnings.warn(label_encoder_deprecation_msg, UserWarning)\n"
     ]
    },
    {
     "name": "stdout",
     "output_type": "stream",
     "text": [
      "[16:39:44] WARNING: ..\\src\\learner.cc:1061: Starting in XGBoost 1.3.0, the default evaluation metric used with the objective 'multi:softprob' was changed from 'merror' to 'mlogloss'. Explicitly set eval_metric if you'd like to restore the old behavior.\n"
     ]
    },
    {
     "name": "stderr",
     "output_type": "stream",
     "text": [
      "C:\\Users\\Ganesh\\anaconda3\\lib\\site-packages\\xgboost\\sklearn.py:888: UserWarning: The use of label encoder in XGBClassifier is deprecated and will be removed in a future release. To remove this warning, do the following: 1) Pass option use_label_encoder=False when constructing XGBClassifier object; and 2) Encode your labels (y) as integers starting with 0, i.e. 0, 1, 2, ..., [num_class - 1].\n",
      "  warnings.warn(label_encoder_deprecation_msg, UserWarning)\n"
     ]
    },
    {
     "name": "stdout",
     "output_type": "stream",
     "text": [
      "[16:40:07] WARNING: ..\\src\\learner.cc:1061: Starting in XGBoost 1.3.0, the default evaluation metric used with the objective 'multi:softprob' was changed from 'merror' to 'mlogloss'. Explicitly set eval_metric if you'd like to restore the old behavior.\n"
     ]
    }
   ],
   "source": [
    "from sklearn.model_selection import cross_val_score\n",
    "new_XG_score = cross_val_score(new_xgboost_class,X,y,cv=10)"
   ]
  },
  {
   "cell_type": "code",
   "execution_count": 345,
   "id": "f820b242",
   "metadata": {},
   "outputs": [
    {
     "data": {
      "text/plain": [
       "0.6140653801553734"
      ]
     },
     "execution_count": 345,
     "metadata": {},
     "output_type": "execute_result"
    }
   ],
   "source": [
    "new_XG_score.mean()"
   ]
  },
  {
   "cell_type": "code",
   "execution_count": null,
   "id": "21a6d281",
   "metadata": {},
   "outputs": [],
   "source": []
  },
  {
   "cell_type": "markdown",
   "id": "d688f09e",
   "metadata": {},
   "source": [
    "## 5. KNN"
   ]
  },
  {
   "cell_type": "code",
   "execution_count": 74,
   "id": "37c9d883",
   "metadata": {},
   "outputs": [],
   "source": [
    "### Spliting dataset into training set  and hold out 50%\n",
    "\n",
    "from sklearn.model_selection import KFold,GridSearchCV,RandomizedSearchCV,train_test_split\n",
    "\n",
    "train,val_train,test,val_test = train_test_split(X,y,train_size=0.5,random_state=355)"
   ]
  },
  {
   "cell_type": "code",
   "execution_count": 75,
   "id": "f80817a4",
   "metadata": {},
   "outputs": [],
   "source": [
    "### stpliting train and test set again\n",
    "\n",
    "X_train,X_test,y_train,y_test = train_test_split(train,test,test_size=0.35,random_state=355)"
   ]
  },
  {
   "cell_type": "code",
   "execution_count": 76,
   "id": "6eac0b51",
   "metadata": {},
   "outputs": [
    {
     "data": {
      "text/plain": [
       "KNeighborsClassifier(algorithm='ball_tree', leaf_size=18, n_neighbors=11)"
      ]
     },
     "execution_count": 76,
     "metadata": {},
     "output_type": "execute_result"
    }
   ],
   "source": [
    "from sklearn.neighbors import KNeighborsClassifier\n",
    "knn = KNeighborsClassifier(algorithm = 'ball_tree', leaf_size =18, n_neighbors =11)\n",
    "\n",
    "knn.fit(X_train,y_train)"
   ]
  },
  {
   "cell_type": "code",
   "execution_count": 77,
   "id": "77201497",
   "metadata": {},
   "outputs": [
    {
     "data": {
      "text/plain": [
       "0.3380177514792899"
      ]
     },
     "execution_count": 77,
     "metadata": {},
     "output_type": "execute_result"
    }
   ],
   "source": [
    "knn.score(X_test,y_test)"
   ]
  },
  {
   "cell_type": "markdown",
   "id": "322a9815",
   "metadata": {},
   "source": [
    "## 5. SVC"
   ]
  },
  {
   "cell_type": "code",
   "execution_count": 78,
   "id": "8ab0d369",
   "metadata": {},
   "outputs": [],
   "source": [
    "from sklearn.svm import SVC\n"
   ]
  },
  {
   "cell_type": "code",
   "execution_count": 79,
   "id": "4195c6d0",
   "metadata": {},
   "outputs": [
    {
     "data": {
      "text/plain": [
       "SVC()"
      ]
     },
     "execution_count": 79,
     "metadata": {},
     "output_type": "execute_result"
    }
   ],
   "source": [
    "svm = SVC()\n",
    "svm.fit(X_train,y_train)"
   ]
  },
  {
   "cell_type": "code",
   "execution_count": 80,
   "id": "28b33313",
   "metadata": {},
   "outputs": [
    {
     "data": {
      "text/plain": [
       "0.34615384615384615"
      ]
     },
     "execution_count": 80,
     "metadata": {},
     "output_type": "execute_result"
    }
   ],
   "source": [
    "svm.score(X_test,y_test)"
   ]
  },
  {
   "cell_type": "markdown",
   "id": "0500a956",
   "metadata": {},
   "source": [
    "## 6. Ensembling of  KNN , SVM , RF Column Stacking for Better Accuracy"
   ]
  },
  {
   "cell_type": "code",
   "execution_count": 81,
   "id": "6ecfbe96",
   "metadata": {},
   "outputs": [],
   "source": [
    "predicat_val1 = knn.predict(val_train)\n",
    "predicat_val2 = svm.predict(val_train)"
   ]
  },
  {
   "cell_type": "code",
   "execution_count": 82,
   "id": "224bd906",
   "metadata": {},
   "outputs": [
    {
     "data": {
      "text/plain": [
       "array([[6, 7],\n",
       "       [0, 6],\n",
       "       [6, 7],\n",
       "       ...,\n",
       "       [6, 7],\n",
       "       [6, 7],\n",
       "       [0, 6]], dtype=int64)"
      ]
     },
     "execution_count": 82,
     "metadata": {},
     "output_type": "execute_result"
    }
   ],
   "source": [
    "predict_val = np.column_stack((predicat_val1,predicat_val2))\n",
    "predict_val"
   ]
  },
  {
   "cell_type": "code",
   "execution_count": 83,
   "id": "5cb44ddc",
   "metadata": {},
   "outputs": [
    {
     "data": {
      "text/plain": [
       "array([7, 5, 7, ..., 2, 6, 4], dtype=int64)"
      ]
     },
     "execution_count": 83,
     "metadata": {},
     "output_type": "execute_result"
    }
   ],
   "source": [
    "predict_test1 = knn.predict(X_test)\n",
    "predict_test1"
   ]
  },
  {
   "cell_type": "code",
   "execution_count": 84,
   "id": "b449f798",
   "metadata": {},
   "outputs": [
    {
     "data": {
      "text/plain": [
       "array([6, 5, 7, ..., 6, 7, 4], dtype=int64)"
      ]
     },
     "execution_count": 84,
     "metadata": {},
     "output_type": "execute_result"
    }
   ],
   "source": [
    "predict_test2 = svm.predict(X_test)\n",
    "predict_test2"
   ]
  },
  {
   "cell_type": "code",
   "execution_count": 85,
   "id": "0a5902c1",
   "metadata": {},
   "outputs": [
    {
     "data": {
      "text/plain": [
       "array([[7, 6],\n",
       "       [5, 5],\n",
       "       [7, 7],\n",
       "       ...,\n",
       "       [2, 6],\n",
       "       [6, 7],\n",
       "       [4, 4]], dtype=int64)"
      ]
     },
     "execution_count": 85,
     "metadata": {},
     "output_type": "execute_result"
    }
   ],
   "source": [
    "predict_test = np.column_stack((predict_test1,predict_test2))\n",
    "predict_test"
   ]
  },
  {
   "cell_type": "code",
   "execution_count": 86,
   "id": "7f851cec",
   "metadata": {},
   "outputs": [
    {
     "data": {
      "text/plain": [
       "RandomForestClassifier()"
      ]
     },
     "execution_count": 86,
     "metadata": {},
     "output_type": "execute_result"
    }
   ],
   "source": [
    "from sklearn.ensemble import RandomForestClassifier\n",
    "classifier_Knn_SVM = RandomForestClassifier()\n",
    "classifier_Knn_SVM.fit(X_train,y_train)"
   ]
  },
  {
   "cell_type": "code",
   "execution_count": 87,
   "id": "8e405646",
   "metadata": {},
   "outputs": [
    {
     "data": {
      "text/plain": [
       "RandomForestClassifier()"
      ]
     },
     "execution_count": 87,
     "metadata": {},
     "output_type": "execute_result"
    }
   ],
   "source": [
    "classifier_Knn_SVM.fit(predict_val,val_test)"
   ]
  },
  {
   "cell_type": "code",
   "execution_count": 88,
   "id": "c24996ac",
   "metadata": {},
   "outputs": [
    {
     "data": {
      "text/plain": [
       "0.3594674556213018"
      ]
     },
     "execution_count": 88,
     "metadata": {},
     "output_type": "execute_result"
    }
   ],
   "source": [
    "classifier_Knn_SVM.score(predict_test,y_test)"
   ]
  },
  {
   "cell_type": "markdown",
   "id": "968bb76f",
   "metadata": {},
   "source": [
    "#### From all the Algorithm we are choosing XG Boost since the accuracy is higher than any other Algorithm model"
   ]
  },
  {
   "cell_type": "markdown",
   "id": "8c244053",
   "metadata": {},
   "source": [
    "# Testing the Test.csv File"
   ]
  },
  {
   "cell_type": "code",
   "execution_count": 347,
   "id": "4096b708",
   "metadata": {},
   "outputs": [
    {
     "data": {
      "text/html": [
       "<div>\n",
       "<style scoped>\n",
       "    .dataframe tbody tr th:only-of-type {\n",
       "        vertical-align: middle;\n",
       "    }\n",
       "\n",
       "    .dataframe tbody tr th {\n",
       "        vertical-align: top;\n",
       "    }\n",
       "\n",
       "    .dataframe thead th {\n",
       "        text-align: right;\n",
       "    }\n",
       "</style>\n",
       "<table border=\"1\" class=\"dataframe\">\n",
       "  <thead>\n",
       "    <tr style=\"text-align: right;\">\n",
       "      <th></th>\n",
       "      <th>trackID</th>\n",
       "      <th>title</th>\n",
       "      <th>tags</th>\n",
       "      <th>loudness</th>\n",
       "      <th>tempo</th>\n",
       "      <th>time_signature</th>\n",
       "      <th>key</th>\n",
       "      <th>mode</th>\n",
       "      <th>duration</th>\n",
       "      <th>vect_1</th>\n",
       "      <th>...</th>\n",
       "      <th>vect_139</th>\n",
       "      <th>vect_140</th>\n",
       "      <th>vect_141</th>\n",
       "      <th>vect_142</th>\n",
       "      <th>vect_143</th>\n",
       "      <th>vect_144</th>\n",
       "      <th>vect_145</th>\n",
       "      <th>vect_146</th>\n",
       "      <th>vect_147</th>\n",
       "      <th>vect_148</th>\n",
       "    </tr>\n",
       "  </thead>\n",
       "  <tbody>\n",
       "    <tr>\n",
       "      <th>0</th>\n",
       "      <td>6732</td>\n",
       "      <td>You Get What You Give</td>\n",
       "      <td>i, the, you, to, and, a, me, it, not, in, is, ...</td>\n",
       "      <td>-5.672</td>\n",
       "      <td>113.941</td>\n",
       "      <td>4</td>\n",
       "      <td>2</td>\n",
       "      <td>1</td>\n",
       "      <td>300.82567</td>\n",
       "      <td>49.707499</td>\n",
       "      <td>...</td>\n",
       "      <td>0.000628</td>\n",
       "      <td>0.000660</td>\n",
       "      <td>0.000660</td>\n",
       "      <td>0.000667</td>\n",
       "      <td>0.000615</td>\n",
       "      <td>0.000582</td>\n",
       "      <td>0.000534</td>\n",
       "      <td>0.000476</td>\n",
       "      <td>0.21001</td>\n",
       "      <td>1.392651</td>\n",
       "    </tr>\n",
       "    <tr>\n",
       "      <th>1</th>\n",
       "      <td>5415</td>\n",
       "      <td>Greedee</td>\n",
       "      <td>i, the, you, to, and, a, me, it, not, in, my, ...</td>\n",
       "      <td>-7.931</td>\n",
       "      <td>102.062</td>\n",
       "      <td>4</td>\n",
       "      <td>11</td>\n",
       "      <td>1</td>\n",
       "      <td>259.60444</td>\n",
       "      <td>46.829729</td>\n",
       "      <td>...</td>\n",
       "      <td>0.000414</td>\n",
       "      <td>0.000423</td>\n",
       "      <td>0.000428</td>\n",
       "      <td>0.000432</td>\n",
       "      <td>0.000416</td>\n",
       "      <td>0.000389</td>\n",
       "      <td>0.000359</td>\n",
       "      <td>0.000331</td>\n",
       "      <td>0.12408</td>\n",
       "      <td>0.604772</td>\n",
       "    </tr>\n",
       "  </tbody>\n",
       "</table>\n",
       "<p>2 rows × 157 columns</p>\n",
       "</div>"
      ],
      "text/plain": [
       "   trackID                  title  \\\n",
       "0     6732  You Get What You Give   \n",
       "1     5415                Greedee   \n",
       "\n",
       "                                                tags  loudness    tempo  \\\n",
       "0  i, the, you, to, and, a, me, it, not, in, is, ...    -5.672  113.941   \n",
       "1  i, the, you, to, and, a, me, it, not, in, my, ...    -7.931  102.062   \n",
       "\n",
       "   time_signature  key  mode   duration     vect_1  ...  vect_139  vect_140  \\\n",
       "0               4    2     1  300.82567  49.707499  ...  0.000628  0.000660   \n",
       "1               4   11     1  259.60444  46.829729  ...  0.000414  0.000423   \n",
       "\n",
       "   vect_141  vect_142  vect_143  vect_144  vect_145  vect_146  vect_147  \\\n",
       "0  0.000660  0.000667  0.000615  0.000582  0.000534  0.000476   0.21001   \n",
       "1  0.000428  0.000432  0.000416  0.000389  0.000359  0.000331   0.12408   \n",
       "\n",
       "   vect_148  \n",
       "0  1.392651  \n",
       "1  0.604772  \n",
       "\n",
       "[2 rows x 157 columns]"
      ]
     },
     "execution_count": 347,
     "metadata": {},
     "output_type": "execute_result"
    }
   ],
   "source": [
    "test_file = pd.read_csv('test.csv')\n",
    "test_file.head(2)"
   ]
  },
  {
   "cell_type": "code",
   "execution_count": 348,
   "id": "6aa1eb10",
   "metadata": {},
   "outputs": [
    {
     "data": {
      "text/plain": [
       "trackID     0\n",
       "title       0\n",
       "tags        0\n",
       "loudness    0\n",
       "tempo       0\n",
       "           ..\n",
       "vect_144    0\n",
       "vect_145    0\n",
       "vect_146    0\n",
       "vect_147    0\n",
       "vect_148    0\n",
       "Length: 157, dtype: int64"
      ]
     },
     "execution_count": 348,
     "metadata": {},
     "output_type": "execute_result"
    }
   ],
   "source": [
    "test_file.isnull().sum()"
   ]
  },
  {
   "cell_type": "code",
   "execution_count": 349,
   "id": "54af97fd",
   "metadata": {},
   "outputs": [
    {
     "data": {
      "text/html": [
       "<div>\n",
       "<style scoped>\n",
       "    .dataframe tbody tr th:only-of-type {\n",
       "        vertical-align: middle;\n",
       "    }\n",
       "\n",
       "    .dataframe tbody tr th {\n",
       "        vertical-align: top;\n",
       "    }\n",
       "\n",
       "    .dataframe thead th {\n",
       "        text-align: right;\n",
       "    }\n",
       "</style>\n",
       "<table border=\"1\" class=\"dataframe\">\n",
       "  <thead>\n",
       "    <tr style=\"text-align: right;\">\n",
       "      <th></th>\n",
       "      <th>trackID</th>\n",
       "      <th>title</th>\n",
       "      <th>tags</th>\n",
       "      <th>loudness</th>\n",
       "      <th>tempo</th>\n",
       "      <th>time_signature</th>\n",
       "      <th>key</th>\n",
       "      <th>mode</th>\n",
       "      <th>duration</th>\n",
       "      <th>vect_1</th>\n",
       "      <th>...</th>\n",
       "      <th>vect_139</th>\n",
       "      <th>vect_140</th>\n",
       "      <th>vect_141</th>\n",
       "      <th>vect_142</th>\n",
       "      <th>vect_143</th>\n",
       "      <th>vect_144</th>\n",
       "      <th>vect_145</th>\n",
       "      <th>vect_146</th>\n",
       "      <th>vect_147</th>\n",
       "      <th>vect_148</th>\n",
       "    </tr>\n",
       "  </thead>\n",
       "  <tbody>\n",
       "    <tr>\n",
       "      <th>0</th>\n",
       "      <td>6732</td>\n",
       "      <td>You Get What You Give</td>\n",
       "      <td>i, the, you, to, and, a, me, it, not, in, is, ...</td>\n",
       "      <td>-5.672</td>\n",
       "      <td>113.941</td>\n",
       "      <td>4</td>\n",
       "      <td>2</td>\n",
       "      <td>1</td>\n",
       "      <td>300.82567</td>\n",
       "      <td>49.707499</td>\n",
       "      <td>...</td>\n",
       "      <td>0.000628</td>\n",
       "      <td>0.000660</td>\n",
       "      <td>0.000660</td>\n",
       "      <td>0.000667</td>\n",
       "      <td>0.000615</td>\n",
       "      <td>0.000582</td>\n",
       "      <td>0.000534</td>\n",
       "      <td>0.000476</td>\n",
       "      <td>0.21001</td>\n",
       "      <td>1.392651</td>\n",
       "    </tr>\n",
       "    <tr>\n",
       "      <th>1</th>\n",
       "      <td>5415</td>\n",
       "      <td>Greedee</td>\n",
       "      <td>i, the, you, to, and, a, me, it, not, in, my, ...</td>\n",
       "      <td>-7.931</td>\n",
       "      <td>102.062</td>\n",
       "      <td>4</td>\n",
       "      <td>11</td>\n",
       "      <td>1</td>\n",
       "      <td>259.60444</td>\n",
       "      <td>46.829729</td>\n",
       "      <td>...</td>\n",
       "      <td>0.000414</td>\n",
       "      <td>0.000423</td>\n",
       "      <td>0.000428</td>\n",
       "      <td>0.000432</td>\n",
       "      <td>0.000416</td>\n",
       "      <td>0.000389</td>\n",
       "      <td>0.000359</td>\n",
       "      <td>0.000331</td>\n",
       "      <td>0.12408</td>\n",
       "      <td>0.604772</td>\n",
       "    </tr>\n",
       "  </tbody>\n",
       "</table>\n",
       "<p>2 rows × 157 columns</p>\n",
       "</div>"
      ],
      "text/plain": [
       "   trackID                  title  \\\n",
       "0     6732  You Get What You Give   \n",
       "1     5415                Greedee   \n",
       "\n",
       "                                                tags  loudness    tempo  \\\n",
       "0  i, the, you, to, and, a, me, it, not, in, is, ...    -5.672  113.941   \n",
       "1  i, the, you, to, and, a, me, it, not, in, my, ...    -7.931  102.062   \n",
       "\n",
       "   time_signature  key  mode   duration     vect_1  ...  vect_139  vect_140  \\\n",
       "0               4    2     1  300.82567  49.707499  ...  0.000628  0.000660   \n",
       "1               4   11     1  259.60444  46.829729  ...  0.000414  0.000423   \n",
       "\n",
       "   vect_141  vect_142  vect_143  vect_144  vect_145  vect_146  vect_147  \\\n",
       "0  0.000660  0.000667  0.000615  0.000582  0.000534  0.000476   0.21001   \n",
       "1  0.000428  0.000432  0.000416  0.000389  0.000359  0.000331   0.12408   \n",
       "\n",
       "   vect_148  \n",
       "0  1.392651  \n",
       "1  0.604772  \n",
       "\n",
       "[2 rows x 157 columns]"
      ]
     },
     "execution_count": 349,
     "metadata": {},
     "output_type": "execute_result"
    }
   ],
   "source": [
    "test_file.head(2)"
   ]
  },
  {
   "cell_type": "code",
   "execution_count": 350,
   "id": "822bd1fb",
   "metadata": {},
   "outputs": [],
   "source": [
    "X_test_file = df.drop(['loudness','tempo','time_signature','key','mode','trackID','duration','mapping'],axis=1)"
   ]
  },
  {
   "cell_type": "code",
   "execution_count": 355,
   "id": "6dbf9cb5",
   "metadata": {},
   "outputs": [],
   "source": [
    "pca = PCA(n_components=15)\n",
    "new_data = pca.fit_transform(X_test_file)\n",
    "# This will be the new data fed to the algorithm.\n",
    "principal_Df_test = pd.DataFrame(data = new_data\n",
    "             , columns = ['a_1','a_2','a_3','a_4','a_5','a_6','a_7','a_8','a_9','a_10','a_11','a_12','a_13','a_14','a_15'])"
   ]
  },
  {
   "cell_type": "code",
   "execution_count": 356,
   "id": "e1e96173",
   "metadata": {},
   "outputs": [
    {
     "data": {
      "text/html": [
       "<div>\n",
       "<style scoped>\n",
       "    .dataframe tbody tr th:only-of-type {\n",
       "        vertical-align: middle;\n",
       "    }\n",
       "\n",
       "    .dataframe tbody tr th {\n",
       "        vertical-align: top;\n",
       "    }\n",
       "\n",
       "    .dataframe thead th {\n",
       "        text-align: right;\n",
       "    }\n",
       "</style>\n",
       "<table border=\"1\" class=\"dataframe\">\n",
       "  <thead>\n",
       "    <tr style=\"text-align: right;\">\n",
       "      <th></th>\n",
       "      <th>a_1</th>\n",
       "      <th>a_2</th>\n",
       "      <th>a_3</th>\n",
       "      <th>a_4</th>\n",
       "      <th>a_5</th>\n",
       "      <th>a_6</th>\n",
       "      <th>a_7</th>\n",
       "      <th>a_8</th>\n",
       "      <th>a_9</th>\n",
       "      <th>a_10</th>\n",
       "      <th>...</th>\n",
       "      <th>a_12</th>\n",
       "      <th>a_13</th>\n",
       "      <th>a_14</th>\n",
       "      <th>a_15</th>\n",
       "      <th>loudness</th>\n",
       "      <th>tempo</th>\n",
       "      <th>time_signature</th>\n",
       "      <th>key</th>\n",
       "      <th>mode</th>\n",
       "      <th>duration</th>\n",
       "    </tr>\n",
       "  </thead>\n",
       "  <tbody>\n",
       "    <tr>\n",
       "      <th>0</th>\n",
       "      <td>-2460.552611</td>\n",
       "      <td>-1023.711167</td>\n",
       "      <td>23.505810</td>\n",
       "      <td>-295.750967</td>\n",
       "      <td>-140.865649</td>\n",
       "      <td>32.037205</td>\n",
       "      <td>29.637709</td>\n",
       "      <td>19.752676</td>\n",
       "      <td>-17.317485</td>\n",
       "      <td>10.987475</td>\n",
       "      <td>...</td>\n",
       "      <td>14.511526</td>\n",
       "      <td>29.363923</td>\n",
       "      <td>15.773612</td>\n",
       "      <td>2.280695</td>\n",
       "      <td>-8.539</td>\n",
       "      <td>104.341</td>\n",
       "      <td>3</td>\n",
       "      <td>7</td>\n",
       "      <td>1</td>\n",
       "      <td>298.73587</td>\n",
       "    </tr>\n",
       "    <tr>\n",
       "      <th>1</th>\n",
       "      <td>1737.056319</td>\n",
       "      <td>4755.003363</td>\n",
       "      <td>3176.863631</td>\n",
       "      <td>-968.392151</td>\n",
       "      <td>-670.754303</td>\n",
       "      <td>500.810842</td>\n",
       "      <td>-171.567715</td>\n",
       "      <td>-24.967867</td>\n",
       "      <td>-98.358074</td>\n",
       "      <td>-14.103686</td>\n",
       "      <td>...</td>\n",
       "      <td>-164.353380</td>\n",
       "      <td>-32.323483</td>\n",
       "      <td>18.669754</td>\n",
       "      <td>0.767085</td>\n",
       "      <td>-9.637</td>\n",
       "      <td>126.003</td>\n",
       "      <td>4</td>\n",
       "      <td>10</td>\n",
       "      <td>0</td>\n",
       "      <td>412.94322</td>\n",
       "    </tr>\n",
       "    <tr>\n",
       "      <th>2</th>\n",
       "      <td>-3126.493856</td>\n",
       "      <td>-2037.918333</td>\n",
       "      <td>159.689312</td>\n",
       "      <td>-324.942543</td>\n",
       "      <td>-230.214344</td>\n",
       "      <td>80.223567</td>\n",
       "      <td>-54.695481</td>\n",
       "      <td>98.635751</td>\n",
       "      <td>-55.366901</td>\n",
       "      <td>10.203986</td>\n",
       "      <td>...</td>\n",
       "      <td>13.346602</td>\n",
       "      <td>20.782336</td>\n",
       "      <td>32.392510</td>\n",
       "      <td>-0.611791</td>\n",
       "      <td>-10.969</td>\n",
       "      <td>197.625</td>\n",
       "      <td>4</td>\n",
       "      <td>2</td>\n",
       "      <td>1</td>\n",
       "      <td>64.78322</td>\n",
       "    </tr>\n",
       "    <tr>\n",
       "      <th>3</th>\n",
       "      <td>-3051.911766</td>\n",
       "      <td>734.223355</td>\n",
       "      <td>-909.397872</td>\n",
       "      <td>-743.696440</td>\n",
       "      <td>458.984125</td>\n",
       "      <td>206.663056</td>\n",
       "      <td>-269.059505</td>\n",
       "      <td>28.093201</td>\n",
       "      <td>-39.880569</td>\n",
       "      <td>6.993910</td>\n",
       "      <td>...</td>\n",
       "      <td>-8.134047</td>\n",
       "      <td>62.080614</td>\n",
       "      <td>30.599421</td>\n",
       "      <td>-0.902522</td>\n",
       "      <td>-5.369</td>\n",
       "      <td>170.008</td>\n",
       "      <td>4</td>\n",
       "      <td>0</td>\n",
       "      <td>1</td>\n",
       "      <td>191.97342</td>\n",
       "    </tr>\n",
       "    <tr>\n",
       "      <th>4</th>\n",
       "      <td>-2446.935740</td>\n",
       "      <td>70.452635</td>\n",
       "      <td>218.023965</td>\n",
       "      <td>-27.483031</td>\n",
       "      <td>-13.171991</td>\n",
       "      <td>-36.520457</td>\n",
       "      <td>164.244444</td>\n",
       "      <td>264.073906</td>\n",
       "      <td>9.354873</td>\n",
       "      <td>-9.306503</td>\n",
       "      <td>...</td>\n",
       "      <td>60.594781</td>\n",
       "      <td>-24.451951</td>\n",
       "      <td>-4.493070</td>\n",
       "      <td>1.901225</td>\n",
       "      <td>-16.516</td>\n",
       "      <td>142.254</td>\n",
       "      <td>5</td>\n",
       "      <td>4</td>\n",
       "      <td>1</td>\n",
       "      <td>146.75546</td>\n",
       "    </tr>\n",
       "  </tbody>\n",
       "</table>\n",
       "<p>5 rows × 21 columns</p>\n",
       "</div>"
      ],
      "text/plain": [
       "           a_1          a_2          a_3         a_4         a_5         a_6  \\\n",
       "0 -2460.552611 -1023.711167    23.505810 -295.750967 -140.865649   32.037205   \n",
       "1  1737.056319  4755.003363  3176.863631 -968.392151 -670.754303  500.810842   \n",
       "2 -3126.493856 -2037.918333   159.689312 -324.942543 -230.214344   80.223567   \n",
       "3 -3051.911766   734.223355  -909.397872 -743.696440  458.984125  206.663056   \n",
       "4 -2446.935740    70.452635   218.023965  -27.483031  -13.171991  -36.520457   \n",
       "\n",
       "          a_7         a_8        a_9       a_10  ...        a_12       a_13  \\\n",
       "0   29.637709   19.752676 -17.317485  10.987475  ...   14.511526  29.363923   \n",
       "1 -171.567715  -24.967867 -98.358074 -14.103686  ... -164.353380 -32.323483   \n",
       "2  -54.695481   98.635751 -55.366901  10.203986  ...   13.346602  20.782336   \n",
       "3 -269.059505   28.093201 -39.880569   6.993910  ...   -8.134047  62.080614   \n",
       "4  164.244444  264.073906   9.354873  -9.306503  ...   60.594781 -24.451951   \n",
       "\n",
       "        a_14      a_15  loudness    tempo  time_signature  key  mode  \\\n",
       "0  15.773612  2.280695    -8.539  104.341               3    7     1   \n",
       "1  18.669754  0.767085    -9.637  126.003               4   10     0   \n",
       "2  32.392510 -0.611791   -10.969  197.625               4    2     1   \n",
       "3  30.599421 -0.902522    -5.369  170.008               4    0     1   \n",
       "4  -4.493070  1.901225   -16.516  142.254               5    4     1   \n",
       "\n",
       "    duration  \n",
       "0  298.73587  \n",
       "1  412.94322  \n",
       "2   64.78322  \n",
       "3  191.97342  \n",
       "4  146.75546  \n",
       "\n",
       "[5 rows x 21 columns]"
      ]
     },
     "execution_count": 356,
     "metadata": {},
     "output_type": "execute_result"
    }
   ],
   "source": [
    "test_file =  pd.merge(principal_Df_test,z,left_index=True,right_index=True)\n",
    "test_file.head()"
   ]
  },
  {
   "cell_type": "code",
   "execution_count": 357,
   "id": "0fac8c31",
   "metadata": {},
   "outputs": [
    {
     "data": {
      "text/plain": [
       "True"
      ]
     },
     "execution_count": 357,
     "metadata": {},
     "output_type": "execute_result"
    }
   ],
   "source": [
    "test_file.shape[1] == train_x.shape[1]"
   ]
  },
  {
   "cell_type": "code",
   "execution_count": 358,
   "id": "675e8dd0",
   "metadata": {},
   "outputs": [
    {
     "data": {
      "text/plain": [
       "array([ True,  True,  True,  True,  True,  True,  True,  True,  True,\n",
       "        True,  True,  True,  True,  True,  True,  True,  True,  True,\n",
       "        True,  True,  True])"
      ]
     },
     "execution_count": 358,
     "metadata": {},
     "output_type": "execute_result"
    }
   ],
   "source": [
    "test_file.columns == train_x.columns"
   ]
  },
  {
   "cell_type": "code",
   "execution_count": 359,
   "id": "d9be6aa2",
   "metadata": {},
   "outputs": [
    {
     "data": {
      "text/plain": [
       "Index(['a_1', 'a_2', 'a_3', 'a_4', 'a_5', 'a_6', 'a_7', 'a_8', 'a_9', 'a_10',\n",
       "       'a_11', 'a_12', 'a_13', 'a_14', 'a_15', 'loudness', 'tempo',\n",
       "       'time_signature', 'key', 'mode', 'duration'],\n",
       "      dtype='object')"
      ]
     },
     "execution_count": 359,
     "metadata": {},
     "output_type": "execute_result"
    }
   ],
   "source": [
    "test_file.columns"
   ]
  },
  {
   "cell_type": "markdown",
   "id": "73e1fb3d",
   "metadata": {},
   "source": [
    "### Using Boosting Techinque to predict the values"
   ]
  },
  {
   "cell_type": "code",
   "execution_count": 360,
   "id": "ace2d307",
   "metadata": {},
   "outputs": [
    {
     "data": {
      "text/plain": [
       "array([7, 4, 3, ..., 3, 4, 7], dtype=int64)"
      ]
     },
     "execution_count": 360,
     "metadata": {},
     "output_type": "execute_result"
    }
   ],
   "source": [
    "y_pred_test_file = random_search.predict(test_file)\n",
    "y_pred_test_file"
   ]
  },
  {
   "cell_type": "code",
   "execution_count": 361,
   "id": "d7f229ca",
   "metadata": {},
   "outputs": [
    {
     "data": {
      "text/html": [
       "<div>\n",
       "<style scoped>\n",
       "    .dataframe tbody tr th:only-of-type {\n",
       "        vertical-align: middle;\n",
       "    }\n",
       "\n",
       "    .dataframe tbody tr th {\n",
       "        vertical-align: top;\n",
       "    }\n",
       "\n",
       "    .dataframe thead th {\n",
       "        text-align: right;\n",
       "    }\n",
       "</style>\n",
       "<table border=\"1\" class=\"dataframe\">\n",
       "  <thead>\n",
       "    <tr style=\"text-align: right;\">\n",
       "      <th></th>\n",
       "      <th>0</th>\n",
       "    </tr>\n",
       "  </thead>\n",
       "  <tbody>\n",
       "    <tr>\n",
       "      <th>0</th>\n",
       "      <td>7</td>\n",
       "    </tr>\n",
       "    <tr>\n",
       "      <th>1</th>\n",
       "      <td>4</td>\n",
       "    </tr>\n",
       "    <tr>\n",
       "      <th>2</th>\n",
       "      <td>3</td>\n",
       "    </tr>\n",
       "    <tr>\n",
       "      <th>3</th>\n",
       "      <td>1</td>\n",
       "    </tr>\n",
       "    <tr>\n",
       "      <th>4</th>\n",
       "      <td>6</td>\n",
       "    </tr>\n",
       "    <tr>\n",
       "      <th>...</th>\n",
       "      <td>...</td>\n",
       "    </tr>\n",
       "    <tr>\n",
       "      <th>7719</th>\n",
       "      <td>6</td>\n",
       "    </tr>\n",
       "    <tr>\n",
       "      <th>7720</th>\n",
       "      <td>6</td>\n",
       "    </tr>\n",
       "    <tr>\n",
       "      <th>7721</th>\n",
       "      <td>3</td>\n",
       "    </tr>\n",
       "    <tr>\n",
       "      <th>7722</th>\n",
       "      <td>4</td>\n",
       "    </tr>\n",
       "    <tr>\n",
       "      <th>7723</th>\n",
       "      <td>7</td>\n",
       "    </tr>\n",
       "  </tbody>\n",
       "</table>\n",
       "<p>7724 rows × 1 columns</p>\n",
       "</div>"
      ],
      "text/plain": [
       "      0\n",
       "0     7\n",
       "1     4\n",
       "2     3\n",
       "3     1\n",
       "4     6\n",
       "...  ..\n",
       "7719  6\n",
       "7720  6\n",
       "7721  3\n",
       "7722  4\n",
       "7723  7\n",
       "\n",
       "[7724 rows x 1 columns]"
      ]
     },
     "execution_count": 361,
     "metadata": {},
     "output_type": "execute_result"
    }
   ],
   "source": [
    "out = list(y_pred_test_file)\n",
    "out_df = pd.DataFrame(out)\n",
    "out_variables = out_df.value_counts()\n",
    "out_df"
   ]
  },
  {
   "cell_type": "code",
   "execution_count": 362,
   "id": "263deebe",
   "metadata": {},
   "outputs": [
    {
     "data": {
      "text/plain": [
       "{'jazz and blues': 0,\n",
       " 'dance and electronica': 1,\n",
       " 'pop': 2,\n",
       " 'punk': 3,\n",
       " 'soul and reggae': 4,\n",
       " 'metal': 5,\n",
       " 'folk': 6,\n",
       " 'classic pop and rock': 7}"
      ]
     },
     "execution_count": 362,
     "metadata": {},
     "output_type": "execute_result"
    }
   ],
   "source": [
    "codi"
   ]
  },
  {
   "cell_type": "code",
   "execution_count": 363,
   "id": "d162cdbd",
   "metadata": {},
   "outputs": [
    {
     "data": {
      "text/plain": [
       "{0: 'jazz and blues',\n",
       " 1: 'dance and electronica',\n",
       " 2: 'pop',\n",
       " 3: 'punk',\n",
       " 4: 'soul and reggae',\n",
       " 5: 'metal',\n",
       " 6: 'folk',\n",
       " 7: 'classic pop and rock'}"
      ]
     },
     "execution_count": 363,
     "metadata": {},
     "output_type": "execute_result"
    }
   ],
   "source": [
    "d = dict()\n",
    "for k,v in codi.items():\n",
    "    d[v]=k\n",
    "d"
   ]
  },
  {
   "cell_type": "markdown",
   "id": "1e826a9f",
   "metadata": {},
   "source": [
    "## The FInal Prediction is"
   ]
  },
  {
   "cell_type": "code",
   "execution_count": 364,
   "id": "30382bf7",
   "metadata": {},
   "outputs": [
    {
     "data": {
      "text/html": [
       "<div>\n",
       "<style scoped>\n",
       "    .dataframe tbody tr th:only-of-type {\n",
       "        vertical-align: middle;\n",
       "    }\n",
       "\n",
       "    .dataframe tbody tr th {\n",
       "        vertical-align: top;\n",
       "    }\n",
       "\n",
       "    .dataframe thead th {\n",
       "        text-align: right;\n",
       "    }\n",
       "</style>\n",
       "<table border=\"1\" class=\"dataframe\">\n",
       "  <thead>\n",
       "    <tr style=\"text-align: right;\">\n",
       "      <th></th>\n",
       "      <th>0</th>\n",
       "    </tr>\n",
       "  </thead>\n",
       "  <tbody>\n",
       "    <tr>\n",
       "      <th>0</th>\n",
       "      <td>pop</td>\n",
       "    </tr>\n",
       "    <tr>\n",
       "      <th>1</th>\n",
       "      <td>metal</td>\n",
       "    </tr>\n",
       "    <tr>\n",
       "      <th>2</th>\n",
       "      <td>dance and electronica</td>\n",
       "    </tr>\n",
       "    <tr>\n",
       "      <th>3</th>\n",
       "      <td>classic pop and rock</td>\n",
       "    </tr>\n",
       "    <tr>\n",
       "      <th>4</th>\n",
       "      <td>soul and reggae</td>\n",
       "    </tr>\n",
       "    <tr>\n",
       "      <th>...</th>\n",
       "      <td>...</td>\n",
       "    </tr>\n",
       "    <tr>\n",
       "      <th>423</th>\n",
       "      <td>folk</td>\n",
       "    </tr>\n",
       "    <tr>\n",
       "      <th>424</th>\n",
       "      <td>folk</td>\n",
       "    </tr>\n",
       "    <tr>\n",
       "      <th>425</th>\n",
       "      <td>classic pop and rock</td>\n",
       "    </tr>\n",
       "    <tr>\n",
       "      <th>426</th>\n",
       "      <td>folk</td>\n",
       "    </tr>\n",
       "    <tr>\n",
       "      <th>427</th>\n",
       "      <td>folk</td>\n",
       "    </tr>\n",
       "  </tbody>\n",
       "</table>\n",
       "<p>428 rows × 1 columns</p>\n",
       "</div>"
      ],
      "text/plain": [
       "                         0\n",
       "0                      pop\n",
       "1                    metal\n",
       "2    dance and electronica\n",
       "3     classic pop and rock\n",
       "4          soul and reggae\n",
       "..                     ...\n",
       "423                   folk\n",
       "424                   folk\n",
       "425   classic pop and rock\n",
       "426                   folk\n",
       "427                   folk\n",
       "\n",
       "[428 rows x 1 columns]"
      ]
     },
     "execution_count": 364,
     "metadata": {},
     "output_type": "execute_result"
    }
   ],
   "source": [
    "final_output_labels = out_df[0].map(d)\n",
    "final_output_labels = pd.DataFrame(final_output)\n",
    "final_output_labels"
   ]
  },
  {
   "cell_type": "code",
   "execution_count": 365,
   "id": "f2bbe141",
   "metadata": {},
   "outputs": [
    {
     "data": {
      "text/html": [
       "<div>\n",
       "<style scoped>\n",
       "    .dataframe tbody tr th:only-of-type {\n",
       "        vertical-align: middle;\n",
       "    }\n",
       "\n",
       "    .dataframe tbody tr th {\n",
       "        vertical-align: top;\n",
       "    }\n",
       "\n",
       "    .dataframe thead th {\n",
       "        text-align: right;\n",
       "    }\n",
       "</style>\n",
       "<table border=\"1\" class=\"dataframe\">\n",
       "  <thead>\n",
       "    <tr style=\"text-align: right;\">\n",
       "      <th></th>\n",
       "      <th>trackID</th>\n",
       "    </tr>\n",
       "  </thead>\n",
       "  <tbody>\n",
       "    <tr>\n",
       "      <th>0</th>\n",
       "      <td>6732</td>\n",
       "    </tr>\n",
       "    <tr>\n",
       "      <th>1</th>\n",
       "      <td>5415</td>\n",
       "    </tr>\n",
       "    <tr>\n",
       "      <th>2</th>\n",
       "      <td>7757</td>\n",
       "    </tr>\n",
       "    <tr>\n",
       "      <th>3</th>\n",
       "      <td>1854</td>\n",
       "    </tr>\n",
       "    <tr>\n",
       "      <th>4</th>\n",
       "      <td>4942</td>\n",
       "    </tr>\n",
       "    <tr>\n",
       "      <th>...</th>\n",
       "      <td>...</td>\n",
       "    </tr>\n",
       "    <tr>\n",
       "      <th>423</th>\n",
       "      <td>186</td>\n",
       "    </tr>\n",
       "    <tr>\n",
       "      <th>424</th>\n",
       "      <td>4758</td>\n",
       "    </tr>\n",
       "    <tr>\n",
       "      <th>425</th>\n",
       "      <td>2231</td>\n",
       "    </tr>\n",
       "    <tr>\n",
       "      <th>426</th>\n",
       "      <td>2925</td>\n",
       "    </tr>\n",
       "    <tr>\n",
       "      <th>427</th>\n",
       "      <td>2075</td>\n",
       "    </tr>\n",
       "  </tbody>\n",
       "</table>\n",
       "<p>428 rows × 1 columns</p>\n",
       "</div>"
      ],
      "text/plain": [
       "     trackID\n",
       "0       6732\n",
       "1       5415\n",
       "2       7757\n",
       "3       1854\n",
       "4       4942\n",
       "..       ...\n",
       "423      186\n",
       "424     4758\n",
       "425     2231\n",
       "426     2925\n",
       "427     2075\n",
       "\n",
       "[428 rows x 1 columns]"
      ]
     },
     "execution_count": 365,
     "metadata": {},
     "output_type": "execute_result"
    }
   ],
   "source": [
    "trackID = pd.read_csv('test.csv',usecols=['trackID'])\n",
    "trackID"
   ]
  },
  {
   "cell_type": "code",
   "execution_count": 366,
   "id": "8dfdc909",
   "metadata": {},
   "outputs": [],
   "source": [
    "Final_output_file = pd.merge(trackID,final_output_labels,left_index=True,right_index=True)"
   ]
  },
  {
   "cell_type": "code",
   "execution_count": 367,
   "id": "5b88035d",
   "metadata": {},
   "outputs": [
    {
     "data": {
      "text/html": [
       "<div>\n",
       "<style scoped>\n",
       "    .dataframe tbody tr th:only-of-type {\n",
       "        vertical-align: middle;\n",
       "    }\n",
       "\n",
       "    .dataframe tbody tr th {\n",
       "        vertical-align: top;\n",
       "    }\n",
       "\n",
       "    .dataframe thead th {\n",
       "        text-align: right;\n",
       "    }\n",
       "</style>\n",
       "<table border=\"1\" class=\"dataframe\">\n",
       "  <thead>\n",
       "    <tr style=\"text-align: right;\">\n",
       "      <th></th>\n",
       "      <th>trackID</th>\n",
       "      <th>0</th>\n",
       "    </tr>\n",
       "  </thead>\n",
       "  <tbody>\n",
       "    <tr>\n",
       "      <th>0</th>\n",
       "      <td>6732</td>\n",
       "      <td>pop</td>\n",
       "    </tr>\n",
       "    <tr>\n",
       "      <th>1</th>\n",
       "      <td>5415</td>\n",
       "      <td>metal</td>\n",
       "    </tr>\n",
       "    <tr>\n",
       "      <th>2</th>\n",
       "      <td>7757</td>\n",
       "      <td>dance and electronica</td>\n",
       "    </tr>\n",
       "    <tr>\n",
       "      <th>3</th>\n",
       "      <td>1854</td>\n",
       "      <td>classic pop and rock</td>\n",
       "    </tr>\n",
       "    <tr>\n",
       "      <th>4</th>\n",
       "      <td>4942</td>\n",
       "      <td>soul and reggae</td>\n",
       "    </tr>\n",
       "    <tr>\n",
       "      <th>...</th>\n",
       "      <td>...</td>\n",
       "      <td>...</td>\n",
       "    </tr>\n",
       "    <tr>\n",
       "      <th>423</th>\n",
       "      <td>186</td>\n",
       "      <td>folk</td>\n",
       "    </tr>\n",
       "    <tr>\n",
       "      <th>424</th>\n",
       "      <td>4758</td>\n",
       "      <td>folk</td>\n",
       "    </tr>\n",
       "    <tr>\n",
       "      <th>425</th>\n",
       "      <td>2231</td>\n",
       "      <td>classic pop and rock</td>\n",
       "    </tr>\n",
       "    <tr>\n",
       "      <th>426</th>\n",
       "      <td>2925</td>\n",
       "      <td>folk</td>\n",
       "    </tr>\n",
       "    <tr>\n",
       "      <th>427</th>\n",
       "      <td>2075</td>\n",
       "      <td>folk</td>\n",
       "    </tr>\n",
       "  </tbody>\n",
       "</table>\n",
       "<p>428 rows × 2 columns</p>\n",
       "</div>"
      ],
      "text/plain": [
       "     trackID                      0\n",
       "0       6732                    pop\n",
       "1       5415                  metal\n",
       "2       7757  dance and electronica\n",
       "3       1854   classic pop and rock\n",
       "4       4942        soul and reggae\n",
       "..       ...                    ...\n",
       "423      186                   folk\n",
       "424     4758                   folk\n",
       "425     2231   classic pop and rock\n",
       "426     2925                   folk\n",
       "427     2075                   folk\n",
       "\n",
       "[428 rows x 2 columns]"
      ]
     },
     "execution_count": 367,
     "metadata": {},
     "output_type": "execute_result"
    }
   ],
   "source": [
    "Final_output_file"
   ]
  },
  {
   "cell_type": "code",
   "execution_count": null,
   "id": "2aa4ed6f",
   "metadata": {},
   "outputs": [],
   "source": []
  },
  {
   "cell_type": "code",
   "execution_count": 368,
   "id": "c1cf2626",
   "metadata": {},
   "outputs": [],
   "source": []
  },
  {
   "cell_type": "code",
   "execution_count": 369,
   "id": "6513a3bd",
   "metadata": {},
   "outputs": [],
   "source": []
  },
  {
   "cell_type": "code",
   "execution_count": null,
   "id": "2c2228a2",
   "metadata": {},
   "outputs": [],
   "source": []
  },
  {
   "cell_type": "code",
   "execution_count": null,
   "id": "1f04aad0",
   "metadata": {},
   "outputs": [],
   "source": []
  }
 ],
 "metadata": {
  "kernelspec": {
   "display_name": "Python 3",
   "language": "python",
   "name": "python3"
  },
  "language_info": {
   "codemirror_mode": {
    "name": "ipython",
    "version": 3
   },
   "file_extension": ".py",
   "mimetype": "text/x-python",
   "name": "python",
   "nbconvert_exporter": "python",
   "pygments_lexer": "ipython3",
   "version": "3.8.8"
  }
 },
 "nbformat": 4,
 "nbformat_minor": 5
}
